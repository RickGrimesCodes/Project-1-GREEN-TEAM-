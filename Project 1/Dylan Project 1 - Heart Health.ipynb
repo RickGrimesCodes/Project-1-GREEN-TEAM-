{
 "cells": [
  {
   "cell_type": "markdown",
   "id": "c2381df0",
   "metadata": {},
   "source": [
    "# Which locations have the highest/lowest incidence of heart disease?"
   ]
  },
  {
   "cell_type": "code",
   "execution_count": 1,
   "id": "57080c6e",
   "metadata": {},
   "outputs": [],
   "source": [
    "import pandas as pd\n",
    "import numpy as np\n",
    "import matplotlib.pyplot as plt\n",
    "import warnings\n",
    "warnings.filterwarnings('ignore')"
   ]
  },
  {
   "cell_type": "code",
   "execution_count": 2,
   "id": "71121cae",
   "metadata": {},
   "outputs": [
    {
     "data": {
      "text/html": [
       "<div>\n",
       "<style scoped>\n",
       "    .dataframe tbody tr th:only-of-type {\n",
       "        vertical-align: middle;\n",
       "    }\n",
       "\n",
       "    .dataframe tbody tr th {\n",
       "        vertical-align: top;\n",
       "    }\n",
       "\n",
       "    .dataframe thead th {\n",
       "        text-align: right;\n",
       "    }\n",
       "</style>\n",
       "<table border=\"1\" class=\"dataframe\">\n",
       "  <thead>\n",
       "    <tr style=\"text-align: right;\">\n",
       "      <th></th>\n",
       "      <th>State</th>\n",
       "      <th>Sex</th>\n",
       "      <th>GeneralHealth</th>\n",
       "      <th>PhysicalHealthDays</th>\n",
       "      <th>MentalHealthDays</th>\n",
       "      <th>LastCheckupTime</th>\n",
       "      <th>PhysicalActivities</th>\n",
       "      <th>SleepHours</th>\n",
       "      <th>RemovedTeeth</th>\n",
       "      <th>HadHeartAttack</th>\n",
       "      <th>...</th>\n",
       "      <th>HeightInMeters</th>\n",
       "      <th>WeightInKilograms</th>\n",
       "      <th>BMI</th>\n",
       "      <th>AlcoholDrinkers</th>\n",
       "      <th>HIVTesting</th>\n",
       "      <th>FluVaxLast12</th>\n",
       "      <th>PneumoVaxEver</th>\n",
       "      <th>TetanusLast10Tdap</th>\n",
       "      <th>HighRiskLastYear</th>\n",
       "      <th>CovidPos</th>\n",
       "    </tr>\n",
       "  </thead>\n",
       "  <tbody>\n",
       "    <tr>\n",
       "      <th>0</th>\n",
       "      <td>Alabama</td>\n",
       "      <td>Female</td>\n",
       "      <td>Very good</td>\n",
       "      <td>4.0</td>\n",
       "      <td>0.0</td>\n",
       "      <td>Within past year (anytime less than 12 months ...</td>\n",
       "      <td>Yes</td>\n",
       "      <td>9.0</td>\n",
       "      <td>None of them</td>\n",
       "      <td>No</td>\n",
       "      <td>...</td>\n",
       "      <td>1.60</td>\n",
       "      <td>71.67</td>\n",
       "      <td>27.99</td>\n",
       "      <td>No</td>\n",
       "      <td>No</td>\n",
       "      <td>Yes</td>\n",
       "      <td>Yes</td>\n",
       "      <td>Yes, received Tdap</td>\n",
       "      <td>No</td>\n",
       "      <td>No</td>\n",
       "    </tr>\n",
       "    <tr>\n",
       "      <th>1</th>\n",
       "      <td>Alabama</td>\n",
       "      <td>Male</td>\n",
       "      <td>Very good</td>\n",
       "      <td>0.0</td>\n",
       "      <td>0.0</td>\n",
       "      <td>Within past year (anytime less than 12 months ...</td>\n",
       "      <td>Yes</td>\n",
       "      <td>6.0</td>\n",
       "      <td>None of them</td>\n",
       "      <td>No</td>\n",
       "      <td>...</td>\n",
       "      <td>1.78</td>\n",
       "      <td>95.25</td>\n",
       "      <td>30.13</td>\n",
       "      <td>No</td>\n",
       "      <td>No</td>\n",
       "      <td>Yes</td>\n",
       "      <td>Yes</td>\n",
       "      <td>Yes, received tetanus shot but not sure what type</td>\n",
       "      <td>No</td>\n",
       "      <td>No</td>\n",
       "    </tr>\n",
       "    <tr>\n",
       "      <th>2</th>\n",
       "      <td>Alabama</td>\n",
       "      <td>Male</td>\n",
       "      <td>Very good</td>\n",
       "      <td>0.0</td>\n",
       "      <td>0.0</td>\n",
       "      <td>Within past year (anytime less than 12 months ...</td>\n",
       "      <td>No</td>\n",
       "      <td>8.0</td>\n",
       "      <td>6 or more, but not all</td>\n",
       "      <td>No</td>\n",
       "      <td>...</td>\n",
       "      <td>1.85</td>\n",
       "      <td>108.86</td>\n",
       "      <td>31.66</td>\n",
       "      <td>Yes</td>\n",
       "      <td>No</td>\n",
       "      <td>No</td>\n",
       "      <td>Yes</td>\n",
       "      <td>No, did not receive any tetanus shot in the pa...</td>\n",
       "      <td>No</td>\n",
       "      <td>Yes</td>\n",
       "    </tr>\n",
       "    <tr>\n",
       "      <th>3</th>\n",
       "      <td>Alabama</td>\n",
       "      <td>Female</td>\n",
       "      <td>Fair</td>\n",
       "      <td>5.0</td>\n",
       "      <td>0.0</td>\n",
       "      <td>Within past year (anytime less than 12 months ...</td>\n",
       "      <td>Yes</td>\n",
       "      <td>9.0</td>\n",
       "      <td>None of them</td>\n",
       "      <td>No</td>\n",
       "      <td>...</td>\n",
       "      <td>1.70</td>\n",
       "      <td>90.72</td>\n",
       "      <td>31.32</td>\n",
       "      <td>No</td>\n",
       "      <td>No</td>\n",
       "      <td>Yes</td>\n",
       "      <td>Yes</td>\n",
       "      <td>No, did not receive any tetanus shot in the pa...</td>\n",
       "      <td>No</td>\n",
       "      <td>Yes</td>\n",
       "    </tr>\n",
       "    <tr>\n",
       "      <th>4</th>\n",
       "      <td>Alabama</td>\n",
       "      <td>Female</td>\n",
       "      <td>Good</td>\n",
       "      <td>3.0</td>\n",
       "      <td>15.0</td>\n",
       "      <td>Within past year (anytime less than 12 months ...</td>\n",
       "      <td>Yes</td>\n",
       "      <td>5.0</td>\n",
       "      <td>1 to 5</td>\n",
       "      <td>No</td>\n",
       "      <td>...</td>\n",
       "      <td>1.55</td>\n",
       "      <td>79.38</td>\n",
       "      <td>33.07</td>\n",
       "      <td>No</td>\n",
       "      <td>No</td>\n",
       "      <td>Yes</td>\n",
       "      <td>Yes</td>\n",
       "      <td>No, did not receive any tetanus shot in the pa...</td>\n",
       "      <td>No</td>\n",
       "      <td>No</td>\n",
       "    </tr>\n",
       "  </tbody>\n",
       "</table>\n",
       "<p>5 rows × 40 columns</p>\n",
       "</div>"
      ],
      "text/plain": [
       "     State     Sex GeneralHealth  PhysicalHealthDays  MentalHealthDays  \\\n",
       "0  Alabama  Female     Very good                 4.0               0.0   \n",
       "1  Alabama    Male     Very good                 0.0               0.0   \n",
       "2  Alabama    Male     Very good                 0.0               0.0   \n",
       "3  Alabama  Female          Fair                 5.0               0.0   \n",
       "4  Alabama  Female          Good                 3.0              15.0   \n",
       "\n",
       "                                     LastCheckupTime PhysicalActivities  \\\n",
       "0  Within past year (anytime less than 12 months ...                Yes   \n",
       "1  Within past year (anytime less than 12 months ...                Yes   \n",
       "2  Within past year (anytime less than 12 months ...                 No   \n",
       "3  Within past year (anytime less than 12 months ...                Yes   \n",
       "4  Within past year (anytime less than 12 months ...                Yes   \n",
       "\n",
       "   SleepHours            RemovedTeeth HadHeartAttack  ... HeightInMeters  \\\n",
       "0         9.0            None of them             No  ...           1.60   \n",
       "1         6.0            None of them             No  ...           1.78   \n",
       "2         8.0  6 or more, but not all             No  ...           1.85   \n",
       "3         9.0            None of them             No  ...           1.70   \n",
       "4         5.0                  1 to 5             No  ...           1.55   \n",
       "\n",
       "  WeightInKilograms    BMI AlcoholDrinkers HIVTesting FluVaxLast12  \\\n",
       "0             71.67  27.99              No         No          Yes   \n",
       "1             95.25  30.13              No         No          Yes   \n",
       "2            108.86  31.66             Yes         No           No   \n",
       "3             90.72  31.32              No         No          Yes   \n",
       "4             79.38  33.07              No         No          Yes   \n",
       "\n",
       "  PneumoVaxEver                                  TetanusLast10Tdap  \\\n",
       "0           Yes                                 Yes, received Tdap   \n",
       "1           Yes  Yes, received tetanus shot but not sure what type   \n",
       "2           Yes  No, did not receive any tetanus shot in the pa...   \n",
       "3           Yes  No, did not receive any tetanus shot in the pa...   \n",
       "4           Yes  No, did not receive any tetanus shot in the pa...   \n",
       "\n",
       "  HighRiskLastYear CovidPos  \n",
       "0               No       No  \n",
       "1               No       No  \n",
       "2               No      Yes  \n",
       "3               No      Yes  \n",
       "4               No       No  \n",
       "\n",
       "[5 rows x 40 columns]"
      ]
     },
     "execution_count": 2,
     "metadata": {},
     "output_type": "execute_result"
    }
   ],
   "source": [
    "heartDF = pd.read_csv('Resources/heart_2022_no_nans.csv')\n",
    "heartDF.head()"
   ]
  },
  {
   "cell_type": "code",
   "execution_count": 3,
   "id": "edf7b2dd",
   "metadata": {},
   "outputs": [],
   "source": [
    "# heartDF.dtypes"
   ]
  },
  {
   "cell_type": "code",
   "execution_count": 4,
   "id": "689d7429",
   "metadata": {
    "scrolled": true
   },
   "outputs": [
    {
     "data": {
      "text/html": [
       "<div>\n",
       "<style scoped>\n",
       "    .dataframe tbody tr th:only-of-type {\n",
       "        vertical-align: middle;\n",
       "    }\n",
       "\n",
       "    .dataframe tbody tr th {\n",
       "        vertical-align: top;\n",
       "    }\n",
       "\n",
       "    .dataframe thead th {\n",
       "        text-align: right;\n",
       "    }\n",
       "</style>\n",
       "<table border=\"1\" class=\"dataframe\">\n",
       "  <thead>\n",
       "    <tr style=\"text-align: right;\">\n",
       "      <th></th>\n",
       "      <th>State</th>\n",
       "      <th>Sex</th>\n",
       "      <th>GeneralHealth</th>\n",
       "      <th>PhysicalHealthDays</th>\n",
       "      <th>HadHeartAttack</th>\n",
       "      <th>HadAngina</th>\n",
       "    </tr>\n",
       "  </thead>\n",
       "  <tbody>\n",
       "    <tr>\n",
       "      <th>0</th>\n",
       "      <td>Alabama</td>\n",
       "      <td>Female</td>\n",
       "      <td>Very good</td>\n",
       "      <td>4.0</td>\n",
       "      <td>No</td>\n",
       "      <td>No</td>\n",
       "    </tr>\n",
       "    <tr>\n",
       "      <th>1</th>\n",
       "      <td>Alabama</td>\n",
       "      <td>Male</td>\n",
       "      <td>Very good</td>\n",
       "      <td>0.0</td>\n",
       "      <td>No</td>\n",
       "      <td>No</td>\n",
       "    </tr>\n",
       "    <tr>\n",
       "      <th>2</th>\n",
       "      <td>Alabama</td>\n",
       "      <td>Male</td>\n",
       "      <td>Very good</td>\n",
       "      <td>0.0</td>\n",
       "      <td>No</td>\n",
       "      <td>No</td>\n",
       "    </tr>\n",
       "    <tr>\n",
       "      <th>3</th>\n",
       "      <td>Alabama</td>\n",
       "      <td>Female</td>\n",
       "      <td>Fair</td>\n",
       "      <td>5.0</td>\n",
       "      <td>No</td>\n",
       "      <td>No</td>\n",
       "    </tr>\n",
       "    <tr>\n",
       "      <th>4</th>\n",
       "      <td>Alabama</td>\n",
       "      <td>Female</td>\n",
       "      <td>Good</td>\n",
       "      <td>3.0</td>\n",
       "      <td>No</td>\n",
       "      <td>No</td>\n",
       "    </tr>\n",
       "  </tbody>\n",
       "</table>\n",
       "</div>"
      ],
      "text/plain": [
       "     State     Sex GeneralHealth  PhysicalHealthDays HadHeartAttack HadAngina\n",
       "0  Alabama  Female     Very good                 4.0             No        No\n",
       "1  Alabama    Male     Very good                 0.0             No        No\n",
       "2  Alabama    Male     Very good                 0.0             No        No\n",
       "3  Alabama  Female          Fair                 5.0             No        No\n",
       "4  Alabama  Female          Good                 3.0             No        No"
      ]
     },
     "execution_count": 4,
     "metadata": {},
     "output_type": "execute_result"
    }
   ],
   "source": [
    "heartReducedDF = heartDF[[\"State\", \"Sex\", \"GeneralHealth\", \"PhysicalHealthDays\", \"HadHeartAttack\", \"HadAngina\"]]\n",
    "heartReducedDF.head()"
   ]
  },
  {
   "cell_type": "code",
   "execution_count": 5,
   "id": "1c7d6988",
   "metadata": {
    "scrolled": true
   },
   "outputs": [
    {
     "data": {
      "text/html": [
       "<div>\n",
       "<style scoped>\n",
       "    .dataframe tbody tr th:only-of-type {\n",
       "        vertical-align: middle;\n",
       "    }\n",
       "\n",
       "    .dataframe tbody tr th {\n",
       "        vertical-align: top;\n",
       "    }\n",
       "\n",
       "    .dataframe thead th {\n",
       "        text-align: right;\n",
       "    }\n",
       "</style>\n",
       "<table border=\"1\" class=\"dataframe\">\n",
       "  <thead>\n",
       "    <tr style=\"text-align: right;\">\n",
       "      <th></th>\n",
       "      <th>State</th>\n",
       "      <th>Sex</th>\n",
       "      <th>GeneralHealth</th>\n",
       "      <th>PhysicalHealthDays</th>\n",
       "      <th>HadHeartAttack</th>\n",
       "      <th>HadAngina</th>\n",
       "    </tr>\n",
       "  </thead>\n",
       "  <tbody>\n",
       "    <tr>\n",
       "      <th>7</th>\n",
       "      <td>Alabama</td>\n",
       "      <td>Male</td>\n",
       "      <td>Fair</td>\n",
       "      <td>5.0</td>\n",
       "      <td>Yes</td>\n",
       "      <td>Yes</td>\n",
       "    </tr>\n",
       "    <tr>\n",
       "      <th>12</th>\n",
       "      <td>Alabama</td>\n",
       "      <td>Male</td>\n",
       "      <td>Good</td>\n",
       "      <td>5.0</td>\n",
       "      <td>Yes</td>\n",
       "      <td>No</td>\n",
       "    </tr>\n",
       "    <tr>\n",
       "      <th>34</th>\n",
       "      <td>Alabama</td>\n",
       "      <td>Male</td>\n",
       "      <td>Good</td>\n",
       "      <td>0.0</td>\n",
       "      <td>Yes</td>\n",
       "      <td>Yes</td>\n",
       "    </tr>\n",
       "    <tr>\n",
       "      <th>37</th>\n",
       "      <td>Alabama</td>\n",
       "      <td>Male</td>\n",
       "      <td>Good</td>\n",
       "      <td>3.0</td>\n",
       "      <td>Yes</td>\n",
       "      <td>Yes</td>\n",
       "    </tr>\n",
       "    <tr>\n",
       "      <th>43</th>\n",
       "      <td>Alabama</td>\n",
       "      <td>Male</td>\n",
       "      <td>Good</td>\n",
       "      <td>0.0</td>\n",
       "      <td>Yes</td>\n",
       "      <td>Yes</td>\n",
       "    </tr>\n",
       "  </tbody>\n",
       "</table>\n",
       "</div>"
      ],
      "text/plain": [
       "      State   Sex GeneralHealth  PhysicalHealthDays HadHeartAttack HadAngina\n",
       "7   Alabama  Male          Fair                 5.0            Yes       Yes\n",
       "12  Alabama  Male          Good                 5.0            Yes        No\n",
       "34  Alabama  Male          Good                 0.0            Yes       Yes\n",
       "37  Alabama  Male          Good                 3.0            Yes       Yes\n",
       "43  Alabama  Male          Good                 0.0            Yes       Yes"
      ]
     },
     "execution_count": 5,
     "metadata": {},
     "output_type": "execute_result"
    }
   ],
   "source": [
    "attackPOS = heartReducedDF.loc[(heartReducedDF[\"HadHeartAttack\"] == \"Yes\")]\n",
    "attackPOS.head()"
   ]
  },
  {
   "cell_type": "code",
   "execution_count": 6,
   "id": "fc224a96",
   "metadata": {},
   "outputs": [
    {
     "name": "stdout",
     "output_type": "stream",
     "text": [
      "8.785336806847786\n"
     ]
    }
   ],
   "source": [
    "posAVG = attackPOS[\"PhysicalHealthDays\"].mean()\n",
    "print(posAVG)"
   ]
  },
  {
   "cell_type": "code",
   "execution_count": 7,
   "id": "c4b5a697",
   "metadata": {},
   "outputs": [
    {
     "data": {
      "text/html": [
       "<div>\n",
       "<style scoped>\n",
       "    .dataframe tbody tr th:only-of-type {\n",
       "        vertical-align: middle;\n",
       "    }\n",
       "\n",
       "    .dataframe tbody tr th {\n",
       "        vertical-align: top;\n",
       "    }\n",
       "\n",
       "    .dataframe thead th {\n",
       "        text-align: right;\n",
       "    }\n",
       "</style>\n",
       "<table border=\"1\" class=\"dataframe\">\n",
       "  <thead>\n",
       "    <tr style=\"text-align: right;\">\n",
       "      <th></th>\n",
       "      <th>State</th>\n",
       "      <th>Sex</th>\n",
       "      <th>GeneralHealth</th>\n",
       "      <th>PhysicalHealthDays</th>\n",
       "      <th>HadHeartAttack</th>\n",
       "      <th>HadAngina</th>\n",
       "    </tr>\n",
       "  </thead>\n",
       "  <tbody>\n",
       "    <tr>\n",
       "      <th>0</th>\n",
       "      <td>Alabama</td>\n",
       "      <td>Female</td>\n",
       "      <td>Very good</td>\n",
       "      <td>4.0</td>\n",
       "      <td>No</td>\n",
       "      <td>No</td>\n",
       "    </tr>\n",
       "    <tr>\n",
       "      <th>1</th>\n",
       "      <td>Alabama</td>\n",
       "      <td>Male</td>\n",
       "      <td>Very good</td>\n",
       "      <td>0.0</td>\n",
       "      <td>No</td>\n",
       "      <td>No</td>\n",
       "    </tr>\n",
       "    <tr>\n",
       "      <th>2</th>\n",
       "      <td>Alabama</td>\n",
       "      <td>Male</td>\n",
       "      <td>Very good</td>\n",
       "      <td>0.0</td>\n",
       "      <td>No</td>\n",
       "      <td>No</td>\n",
       "    </tr>\n",
       "    <tr>\n",
       "      <th>3</th>\n",
       "      <td>Alabama</td>\n",
       "      <td>Female</td>\n",
       "      <td>Fair</td>\n",
       "      <td>5.0</td>\n",
       "      <td>No</td>\n",
       "      <td>No</td>\n",
       "    </tr>\n",
       "    <tr>\n",
       "      <th>4</th>\n",
       "      <td>Alabama</td>\n",
       "      <td>Female</td>\n",
       "      <td>Good</td>\n",
       "      <td>3.0</td>\n",
       "      <td>No</td>\n",
       "      <td>No</td>\n",
       "    </tr>\n",
       "  </tbody>\n",
       "</table>\n",
       "</div>"
      ],
      "text/plain": [
       "     State     Sex GeneralHealth  PhysicalHealthDays HadHeartAttack HadAngina\n",
       "0  Alabama  Female     Very good                 4.0             No        No\n",
       "1  Alabama    Male     Very good                 0.0             No        No\n",
       "2  Alabama    Male     Very good                 0.0             No        No\n",
       "3  Alabama  Female          Fair                 5.0             No        No\n",
       "4  Alabama  Female          Good                 3.0             No        No"
      ]
     },
     "execution_count": 7,
     "metadata": {},
     "output_type": "execute_result"
    }
   ],
   "source": [
    "attackNEG = heartReducedDF.loc[(heartReducedDF[\"HadHeartAttack\"] == \"No\")]\n",
    "attackNEG.head()"
   ]
  },
  {
   "cell_type": "code",
   "execution_count": 11,
   "id": "2518cbb8",
   "metadata": {},
   "outputs": [
    {
     "name": "stdout",
     "output_type": "stream",
     "text": [
      "3.849484279000976\n"
     ]
    }
   ],
   "source": [
    "negAVG = attackNEG[\"PhysicalHealthDays\"].mean()\n",
    "print(negAVG)"
   ]
  },
  {
   "cell_type": "code",
   "execution_count": 8,
   "id": "28e56a67",
   "metadata": {},
   "outputs": [
    {
     "name": "stdout",
     "output_type": "stream",
     "text": [
      "4.119025940769525\n"
     ]
    }
   ],
   "source": [
    "phyHealth = heartReducedDF['PhysicalHealthDays'].mean()\n",
    "print(phyHealth)"
   ]
  },
  {
   "cell_type": "code",
   "execution_count": 9,
   "id": "ede0d3d1",
   "metadata": {},
   "outputs": [
    {
     "data": {
      "text/html": [
       "<div>\n",
       "<style scoped>\n",
       "    .dataframe tbody tr th:only-of-type {\n",
       "        vertical-align: middle;\n",
       "    }\n",
       "\n",
       "    .dataframe tbody tr th {\n",
       "        vertical-align: top;\n",
       "    }\n",
       "\n",
       "    .dataframe thead th {\n",
       "        text-align: right;\n",
       "    }\n",
       "</style>\n",
       "<table border=\"1\" class=\"dataframe\">\n",
       "  <thead>\n",
       "    <tr style=\"text-align: right;\">\n",
       "      <th></th>\n",
       "      <th>PhysicalHealthDays</th>\n",
       "    </tr>\n",
       "    <tr>\n",
       "      <th>State</th>\n",
       "      <th></th>\n",
       "    </tr>\n",
       "  </thead>\n",
       "  <tbody>\n",
       "    <tr>\n",
       "      <th>Alabama</th>\n",
       "      <td>4.64</td>\n",
       "    </tr>\n",
       "    <tr>\n",
       "      <th>Alaska</th>\n",
       "      <td>4.21</td>\n",
       "    </tr>\n",
       "    <tr>\n",
       "      <th>Arizona</th>\n",
       "      <td>4.56</td>\n",
       "    </tr>\n",
       "    <tr>\n",
       "      <th>Arkansas</th>\n",
       "      <td>5.51</td>\n",
       "    </tr>\n",
       "    <tr>\n",
       "      <th>California</th>\n",
       "      <td>4.18</td>\n",
       "    </tr>\n",
       "  </tbody>\n",
       "</table>\n",
       "</div>"
      ],
      "text/plain": [
       "            PhysicalHealthDays\n",
       "State                         \n",
       "Alabama                   4.64\n",
       "Alaska                    4.21\n",
       "Arizona                   4.56\n",
       "Arkansas                  5.51\n",
       "California                4.18"
      ]
     },
     "execution_count": 9,
     "metadata": {},
     "output_type": "execute_result"
    }
   ],
   "source": [
    "stateGroup = heartReducedDF.groupby('State')['PhysicalHealthDays'].mean()\n",
    "stateRound = round(stateGroup, 2)\n",
    "stateRoundDF = pd.DataFrame(stateRound)\n",
    "stateRoundDF.head()"
   ]
  },
  {
   "cell_type": "code",
   "execution_count": 10,
   "id": "38a6d8b5",
   "metadata": {},
   "outputs": [
    {
     "ename": "KeyError",
     "evalue": "'State'",
     "output_type": "error",
     "traceback": [
      "\u001b[0;31m---------------------------------------------------------------------------\u001b[0m",
      "\u001b[0;31mKeyError\u001b[0m                                  Traceback (most recent call last)",
      "File \u001b[0;32m/opt/anaconda3/lib/python3.11/site-packages/pandas/core/indexes/base.py:3791\u001b[0m, in \u001b[0;36mIndex.get_loc\u001b[0;34m(self, key)\u001b[0m\n\u001b[1;32m   3790\u001b[0m \u001b[38;5;28;01mtry\u001b[39;00m:\n\u001b[0;32m-> 3791\u001b[0m     \u001b[38;5;28;01mreturn\u001b[39;00m \u001b[38;5;28mself\u001b[39m\u001b[38;5;241m.\u001b[39m_engine\u001b[38;5;241m.\u001b[39mget_loc(casted_key)\n\u001b[1;32m   3792\u001b[0m \u001b[38;5;28;01mexcept\u001b[39;00m \u001b[38;5;167;01mKeyError\u001b[39;00m \u001b[38;5;28;01mas\u001b[39;00m err:\n",
      "File \u001b[0;32mindex.pyx:152\u001b[0m, in \u001b[0;36mpandas._libs.index.IndexEngine.get_loc\u001b[0;34m()\u001b[0m\n",
      "File \u001b[0;32mindex.pyx:181\u001b[0m, in \u001b[0;36mpandas._libs.index.IndexEngine.get_loc\u001b[0;34m()\u001b[0m\n",
      "File \u001b[0;32mpandas/_libs/hashtable_class_helper.pxi:7080\u001b[0m, in \u001b[0;36mpandas._libs.hashtable.PyObjectHashTable.get_item\u001b[0;34m()\u001b[0m\n",
      "File \u001b[0;32mpandas/_libs/hashtable_class_helper.pxi:7088\u001b[0m, in \u001b[0;36mpandas._libs.hashtable.PyObjectHashTable.get_item\u001b[0;34m()\u001b[0m\n",
      "\u001b[0;31mKeyError\u001b[0m: 'State'",
      "\nThe above exception was the direct cause of the following exception:\n",
      "\u001b[0;31mKeyError\u001b[0m                                  Traceback (most recent call last)",
      "Cell \u001b[0;32mIn[10], line 5\u001b[0m\n\u001b[1;32m      2\u001b[0m tick_locations \u001b[38;5;241m=\u001b[39m [num\u001b[38;5;241m+\u001b[39m\u001b[38;5;241m0.4\u001b[39m \u001b[38;5;28;01mfor\u001b[39;00m num \u001b[38;5;129;01min\u001b[39;00m xAxis]\n\u001b[1;32m      4\u001b[0m plt\u001b[38;5;241m.\u001b[39mbar(xAxis, stateRoundDF[\u001b[38;5;124m\"\u001b[39m\u001b[38;5;124mPhysicalHealthDays\u001b[39m\u001b[38;5;124m\"\u001b[39m], color\u001b[38;5;241m=\u001b[39m\u001b[38;5;124m\"\u001b[39m\u001b[38;5;124mred\u001b[39m\u001b[38;5;124m\"\u001b[39m, alpha\u001b[38;5;241m=\u001b[39m\u001b[38;5;241m0.5\u001b[39m, align\u001b[38;5;241m=\u001b[39m\u001b[38;5;124m\"\u001b[39m\u001b[38;5;124medge\u001b[39m\u001b[38;5;124m\"\u001b[39m)\n\u001b[0;32m----> 5\u001b[0m plt\u001b[38;5;241m.\u001b[39mxticks(tick_locations, stateRoundDF[\u001b[38;5;124m\"\u001b[39m\u001b[38;5;124mState\u001b[39m\u001b[38;5;124m\"\u001b[39m], rotation\u001b[38;5;241m=\u001b[39m\u001b[38;5;124m\"\u001b[39m\u001b[38;5;124mvertical\u001b[39m\u001b[38;5;124m\"\u001b[39m)\n\u001b[1;32m      6\u001b[0m plt\u001b[38;5;241m.\u001b[39mshow()\n",
      "File \u001b[0;32m/opt/anaconda3/lib/python3.11/site-packages/pandas/core/frame.py:3893\u001b[0m, in \u001b[0;36mDataFrame.__getitem__\u001b[0;34m(self, key)\u001b[0m\n\u001b[1;32m   3891\u001b[0m \u001b[38;5;28;01mif\u001b[39;00m \u001b[38;5;28mself\u001b[39m\u001b[38;5;241m.\u001b[39mcolumns\u001b[38;5;241m.\u001b[39mnlevels \u001b[38;5;241m>\u001b[39m \u001b[38;5;241m1\u001b[39m:\n\u001b[1;32m   3892\u001b[0m     \u001b[38;5;28;01mreturn\u001b[39;00m \u001b[38;5;28mself\u001b[39m\u001b[38;5;241m.\u001b[39m_getitem_multilevel(key)\n\u001b[0;32m-> 3893\u001b[0m indexer \u001b[38;5;241m=\u001b[39m \u001b[38;5;28mself\u001b[39m\u001b[38;5;241m.\u001b[39mcolumns\u001b[38;5;241m.\u001b[39mget_loc(key)\n\u001b[1;32m   3894\u001b[0m \u001b[38;5;28;01mif\u001b[39;00m is_integer(indexer):\n\u001b[1;32m   3895\u001b[0m     indexer \u001b[38;5;241m=\u001b[39m [indexer]\n",
      "File \u001b[0;32m/opt/anaconda3/lib/python3.11/site-packages/pandas/core/indexes/base.py:3798\u001b[0m, in \u001b[0;36mIndex.get_loc\u001b[0;34m(self, key)\u001b[0m\n\u001b[1;32m   3793\u001b[0m     \u001b[38;5;28;01mif\u001b[39;00m \u001b[38;5;28misinstance\u001b[39m(casted_key, \u001b[38;5;28mslice\u001b[39m) \u001b[38;5;129;01mor\u001b[39;00m (\n\u001b[1;32m   3794\u001b[0m         \u001b[38;5;28misinstance\u001b[39m(casted_key, abc\u001b[38;5;241m.\u001b[39mIterable)\n\u001b[1;32m   3795\u001b[0m         \u001b[38;5;129;01mand\u001b[39;00m \u001b[38;5;28many\u001b[39m(\u001b[38;5;28misinstance\u001b[39m(x, \u001b[38;5;28mslice\u001b[39m) \u001b[38;5;28;01mfor\u001b[39;00m x \u001b[38;5;129;01min\u001b[39;00m casted_key)\n\u001b[1;32m   3796\u001b[0m     ):\n\u001b[1;32m   3797\u001b[0m         \u001b[38;5;28;01mraise\u001b[39;00m InvalidIndexError(key)\n\u001b[0;32m-> 3798\u001b[0m     \u001b[38;5;28;01mraise\u001b[39;00m \u001b[38;5;167;01mKeyError\u001b[39;00m(key) \u001b[38;5;28;01mfrom\u001b[39;00m \u001b[38;5;21;01merr\u001b[39;00m\n\u001b[1;32m   3799\u001b[0m \u001b[38;5;28;01mexcept\u001b[39;00m \u001b[38;5;167;01mTypeError\u001b[39;00m:\n\u001b[1;32m   3800\u001b[0m     \u001b[38;5;66;03m# If we have a listlike key, _check_indexing_error will raise\u001b[39;00m\n\u001b[1;32m   3801\u001b[0m     \u001b[38;5;66;03m#  InvalidIndexError. Otherwise we fall through and re-raise\u001b[39;00m\n\u001b[1;32m   3802\u001b[0m     \u001b[38;5;66;03m#  the TypeError.\u001b[39;00m\n\u001b[1;32m   3803\u001b[0m     \u001b[38;5;28mself\u001b[39m\u001b[38;5;241m.\u001b[39m_check_indexing_error(key)\n",
      "\u001b[0;31mKeyError\u001b[0m: 'State'"
     ]
    },
    {
     "data": {
      "image/png": "[encoded data removed]",
      "text/plain": [
       "<Figure size 640x480 with 1 Axes>"
      ]
     },
     "metadata": {},
     "output_type": "display_data"
    }
   ],
   "source": [
    "xAxis = np.arange(len(stateRound))\n",
    "tick_locations = [num+0.4 for num in xAxis]\n",
    "\n",
    "plt.bar(xAxis, stateRoundDF[\"PhysicalHealthDays\"], color=\"red\", alpha=0.5, align=\"edge\")\n",
    "plt.xticks(tick_locations, stateRoundDF[\"State\"], rotation=\"vertical\")\n",
    "plt.show()"
   ]
  },
  {
   "cell_type": "code",
   "execution_count": null,
   "id": "96e13120",
   "metadata": {},
   "outputs": [],
   "source": [
    "stateRoundList = stateRound.values.tolist()\n",
    "print(stateRoundList)"
   ]
  },
  {
   "cell_type": "code",
   "execution_count": null,
   "id": "7c404977",
   "metadata": {},
   "outputs": [],
   "source": [
    "stateRound.median()"
   ]
  },
  {
   "cell_type": "code",
   "execution_count": null,
   "id": "da7711b7",
   "metadata": {},
   "outputs": [],
   "source": [
    "utDF = heartReducedDF.loc[\n",
    "    (heartReducedDF['State']==\"Utah\")]\n",
    "utHealth = utDF['PhysicalHealthDays'].mean()\n",
    "utHistory = utDF.loc[\n",
    "    (utDF['HadHeartAttack']==\"Yes\") | (utDF['HadAngina']==\"Yes\"), :]\n",
    "attackCountUT = utHistory['HadHeartAttack'].value_counts() \n",
    "anginaCountUT = utHistory['HadAngina'].value_counts()\n",
    "print(attackCountUT)\n",
    "print(anginaCountUT)\n",
    "print(utHealth)\n",
    "utDF.head()"
   ]
  },
  {
   "cell_type": "code",
   "execution_count": null,
   "id": "aabb5a3d",
   "metadata": {},
   "outputs": [],
   "source": [
    "stateGroup.max()"
   ]
  },
  {
   "cell_type": "code",
   "execution_count": null,
   "id": "09436bd1",
   "metadata": {},
   "outputs": [],
   "source": [
    "wvDF = heartReducedDF.loc[\n",
    "    (heartReducedDF['State']==\"West Virginia\")]\n",
    "wvHealth = wvDF['PhysicalHealthDays'].mean()\n",
    "wvHistory = wvDF.loc[\n",
    "    (wvDF['HadHeartAttack']==\"Yes\") | (wvDF['HadAngina']==\"Yes\"), :]\n",
    "attackCountWV = wvHistory['HadHeartAttack'].value_counts() \n",
    "anginaCountWV = wvHistory['HadAngina'].value_counts()\n",
    "print(attackCountWV)\n",
    "print(anginaCountWV)\n",
    "print(wvHealth)\n",
    "wvDF.head()"
   ]
  },
  {
   "cell_type": "code",
   "execution_count": null,
   "id": "6f00b08d",
   "metadata": {},
   "outputs": [],
   "source": [
    "stateGroup.min()"
   ]
  },
  {
   "cell_type": "code",
   "execution_count": null,
   "id": "72f09ab9",
   "metadata": {},
   "outputs": [],
   "source": [
    "dcDF = heartReducedDF.loc[\n",
    "    (heartReducedDF['State']==\"District of Columbia\")]\n",
    "dcHealth = dcDF['PhysicalHealthDays'].mean()\n",
    "dcHistory = dcDF.loc[\n",
    "    (dcDF['HadHeartAttack']==\"Yes\") | (dcDF['HadAngina']==\"Yes\"), :]\n",
    "attackCountDC = dcHistory['HadHeartAttack'].value_counts() \n",
    "anginaCountDC = dcHistory['HadAngina'].value_counts()\n",
    "print(attackCountDC)\n",
    "print(anginaCountDC)\n",
    "print(dcHealth)\n",
    "dcDF.head()"
   ]
  },
  {
   "cell_type": "code",
   "execution_count": 12,
   "id": "e1d021df",
   "metadata": {
    "scrolled": true
   },
   "outputs": [
    {
     "data": {
      "text/plain": [
       "State    GeneralHealth\n",
       "Alabama  Good             638\n",
       "         Very good        594\n",
       "         Fair             322\n",
       "         Excellent        249\n",
       "         Poor              99\n",
       "                         ... \n",
       "Wyoming  Very good        910\n",
       "         Good             734\n",
       "         Excellent        428\n",
       "         Fair             266\n",
       "         Poor              72\n",
       "Name: count, Length: 270, dtype: int64"
      ]
     },
     "execution_count": 12,
     "metadata": {},
     "output_type": "execute_result"
    }
   ],
   "source": [
    "genHealthGroupDF = heartReducedDF.groupby('State')['GeneralHealth'].value_counts()\n",
    "genHealthGroupDF"
   ]
  },
  {
   "cell_type": "code",
   "execution_count": 13,
   "id": "b5788213",
   "metadata": {},
   "outputs": [
    {
     "data": {
      "text/html": [
       "<div>\n",
       "<style scoped>\n",
       "    .dataframe tbody tr th:only-of-type {\n",
       "        vertical-align: middle;\n",
       "    }\n",
       "\n",
       "    .dataframe tbody tr th {\n",
       "        vertical-align: top;\n",
       "    }\n",
       "\n",
       "    .dataframe thead th {\n",
       "        text-align: right;\n",
       "    }\n",
       "</style>\n",
       "<table border=\"1\" class=\"dataframe\">\n",
       "  <thead>\n",
       "    <tr style=\"text-align: right;\">\n",
       "      <th></th>\n",
       "      <th></th>\n",
       "      <th>count</th>\n",
       "    </tr>\n",
       "    <tr>\n",
       "      <th>State</th>\n",
       "      <th>GeneralHealth</th>\n",
       "      <th></th>\n",
       "    </tr>\n",
       "  </thead>\n",
       "  <tbody>\n",
       "    <tr>\n",
       "      <th rowspan=\"5\" valign=\"top\">Alabama</th>\n",
       "      <th>Good</th>\n",
       "      <td>638</td>\n",
       "    </tr>\n",
       "    <tr>\n",
       "      <th>Very good</th>\n",
       "      <td>594</td>\n",
       "    </tr>\n",
       "    <tr>\n",
       "      <th>Fair</th>\n",
       "      <td>322</td>\n",
       "    </tr>\n",
       "    <tr>\n",
       "      <th>Excellent</th>\n",
       "      <td>249</td>\n",
       "    </tr>\n",
       "    <tr>\n",
       "      <th>Poor</th>\n",
       "      <td>99</td>\n",
       "    </tr>\n",
       "  </tbody>\n",
       "</table>\n",
       "</div>"
      ],
      "text/plain": [
       "                       count\n",
       "State   GeneralHealth       \n",
       "Alabama Good             638\n",
       "        Very good        594\n",
       "        Fair             322\n",
       "        Excellent        249\n",
       "        Poor              99"
      ]
     },
     "execution_count": 13,
     "metadata": {},
     "output_type": "execute_result"
    }
   ],
   "source": [
    "genDF = pd.DataFrame(genHealthGroupDF)\n",
    "genDF.head()"
   ]
  },
  {
   "cell_type": "code",
   "execution_count": null,
   "id": "d4577dd3",
   "metadata": {},
   "outputs": [],
   "source": []
  }
 ],
 "metadata": {
  "kernelspec": {
   "display_name": "Python 3 (ipykernel)",
   "language": "python",
   "name": "python3"
  },
  "language_info": {
   "codemirror_mode": {
    "name": "ipython",
    "version": 3
   },
   "file_extension": ".py",
   "mimetype": "text/x-python",
   "name": "python",
   "nbconvert_exporter": "python",
   "pygments_lexer": "ipython3",
   "version": "3.11.7"
  }
 },
 "nbformat": 4,
 "nbformat_minor": 5
}
