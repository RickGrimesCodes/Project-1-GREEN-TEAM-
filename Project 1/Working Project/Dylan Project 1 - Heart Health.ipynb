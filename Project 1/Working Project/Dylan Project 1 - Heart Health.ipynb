{
 "cells": [
  {
   "cell_type": "markdown",
   "id": "c2381df0",
   "metadata": {},
   "source": [
    "# Which locations have the highest/lowest incidence of heart disease?"
   ]
  },
  {
   "cell_type": "code",
   "execution_count": 23,
   "id": "57080c6e",
   "metadata": {},
   "outputs": [],
   "source": [
    "import pandas as pd\n",
    "import os\n",
    "import numpy as np\n",
    "import matplotlib.pyplot as plt\n",
    "import warnings\n",
    "warnings.filterwarnings('ignore')"
   ]
  },
  {
   "cell_type": "code",
   "execution_count": 2,
   "id": "71121cae",
   "metadata": {},
   "outputs": [
    {
     "data": {
      "text/html": [
       "<div>\n",
       "<style scoped>\n",
       "    .dataframe tbody tr th:only-of-type {\n",
       "        vertical-align: middle;\n",
       "    }\n",
       "\n",
       "    .dataframe tbody tr th {\n",
       "        vertical-align: top;\n",
       "    }\n",
       "\n",
       "    .dataframe thead th {\n",
       "        text-align: right;\n",
       "    }\n",
       "</style>\n",
       "<table border=\"1\" class=\"dataframe\">\n",
       "  <thead>\n",
       "    <tr style=\"text-align: right;\">\n",
       "      <th></th>\n",
       "      <th>State</th>\n",
       "      <th>Sex</th>\n",
       "      <th>GeneralHealth</th>\n",
       "      <th>PhysicalHealthDays</th>\n",
       "      <th>MentalHealthDays</th>\n",
       "      <th>LastCheckupTime</th>\n",
       "      <th>PhysicalActivities</th>\n",
       "      <th>SleepHours</th>\n",
       "      <th>RemovedTeeth</th>\n",
       "      <th>HadHeartAttack</th>\n",
       "      <th>...</th>\n",
       "      <th>HeightInMeters</th>\n",
       "      <th>WeightInKilograms</th>\n",
       "      <th>BMI</th>\n",
       "      <th>AlcoholDrinkers</th>\n",
       "      <th>HIVTesting</th>\n",
       "      <th>FluVaxLast12</th>\n",
       "      <th>PneumoVaxEver</th>\n",
       "      <th>TetanusLast10Tdap</th>\n",
       "      <th>HighRiskLastYear</th>\n",
       "      <th>CovidPos</th>\n",
       "    </tr>\n",
       "  </thead>\n",
       "  <tbody>\n",
       "    <tr>\n",
       "      <th>0</th>\n",
       "      <td>Alabama</td>\n",
       "      <td>Female</td>\n",
       "      <td>Very good</td>\n",
       "      <td>4.0</td>\n",
       "      <td>0.0</td>\n",
       "      <td>Within past year (anytime less than 12 months ...</td>\n",
       "      <td>Yes</td>\n",
       "      <td>9.0</td>\n",
       "      <td>None of them</td>\n",
       "      <td>No</td>\n",
       "      <td>...</td>\n",
       "      <td>1.60</td>\n",
       "      <td>71.67</td>\n",
       "      <td>27.99</td>\n",
       "      <td>No</td>\n",
       "      <td>No</td>\n",
       "      <td>Yes</td>\n",
       "      <td>Yes</td>\n",
       "      <td>Yes, received Tdap</td>\n",
       "      <td>No</td>\n",
       "      <td>No</td>\n",
       "    </tr>\n",
       "    <tr>\n",
       "      <th>1</th>\n",
       "      <td>Alabama</td>\n",
       "      <td>Male</td>\n",
       "      <td>Very good</td>\n",
       "      <td>0.0</td>\n",
       "      <td>0.0</td>\n",
       "      <td>Within past year (anytime less than 12 months ...</td>\n",
       "      <td>Yes</td>\n",
       "      <td>6.0</td>\n",
       "      <td>None of them</td>\n",
       "      <td>No</td>\n",
       "      <td>...</td>\n",
       "      <td>1.78</td>\n",
       "      <td>95.25</td>\n",
       "      <td>30.13</td>\n",
       "      <td>No</td>\n",
       "      <td>No</td>\n",
       "      <td>Yes</td>\n",
       "      <td>Yes</td>\n",
       "      <td>Yes, received tetanus shot but not sure what type</td>\n",
       "      <td>No</td>\n",
       "      <td>No</td>\n",
       "    </tr>\n",
       "    <tr>\n",
       "      <th>2</th>\n",
       "      <td>Alabama</td>\n",
       "      <td>Male</td>\n",
       "      <td>Very good</td>\n",
       "      <td>0.0</td>\n",
       "      <td>0.0</td>\n",
       "      <td>Within past year (anytime less than 12 months ...</td>\n",
       "      <td>No</td>\n",
       "      <td>8.0</td>\n",
       "      <td>6 or more, but not all</td>\n",
       "      <td>No</td>\n",
       "      <td>...</td>\n",
       "      <td>1.85</td>\n",
       "      <td>108.86</td>\n",
       "      <td>31.66</td>\n",
       "      <td>Yes</td>\n",
       "      <td>No</td>\n",
       "      <td>No</td>\n",
       "      <td>Yes</td>\n",
       "      <td>No, did not receive any tetanus shot in the pa...</td>\n",
       "      <td>No</td>\n",
       "      <td>Yes</td>\n",
       "    </tr>\n",
       "    <tr>\n",
       "      <th>3</th>\n",
       "      <td>Alabama</td>\n",
       "      <td>Female</td>\n",
       "      <td>Fair</td>\n",
       "      <td>5.0</td>\n",
       "      <td>0.0</td>\n",
       "      <td>Within past year (anytime less than 12 months ...</td>\n",
       "      <td>Yes</td>\n",
       "      <td>9.0</td>\n",
       "      <td>None of them</td>\n",
       "      <td>No</td>\n",
       "      <td>...</td>\n",
       "      <td>1.70</td>\n",
       "      <td>90.72</td>\n",
       "      <td>31.32</td>\n",
       "      <td>No</td>\n",
       "      <td>No</td>\n",
       "      <td>Yes</td>\n",
       "      <td>Yes</td>\n",
       "      <td>No, did not receive any tetanus shot in the pa...</td>\n",
       "      <td>No</td>\n",
       "      <td>Yes</td>\n",
       "    </tr>\n",
       "    <tr>\n",
       "      <th>4</th>\n",
       "      <td>Alabama</td>\n",
       "      <td>Female</td>\n",
       "      <td>Good</td>\n",
       "      <td>3.0</td>\n",
       "      <td>15.0</td>\n",
       "      <td>Within past year (anytime less than 12 months ...</td>\n",
       "      <td>Yes</td>\n",
       "      <td>5.0</td>\n",
       "      <td>1 to 5</td>\n",
       "      <td>No</td>\n",
       "      <td>...</td>\n",
       "      <td>1.55</td>\n",
       "      <td>79.38</td>\n",
       "      <td>33.07</td>\n",
       "      <td>No</td>\n",
       "      <td>No</td>\n",
       "      <td>Yes</td>\n",
       "      <td>Yes</td>\n",
       "      <td>No, did not receive any tetanus shot in the pa...</td>\n",
       "      <td>No</td>\n",
       "      <td>No</td>\n",
       "    </tr>\n",
       "  </tbody>\n",
       "</table>\n",
       "<p>5 rows × 40 columns</p>\n",
       "</div>"
      ],
      "text/plain": [
       "     State     Sex GeneralHealth  PhysicalHealthDays  MentalHealthDays  \\\n",
       "0  Alabama  Female     Very good                 4.0               0.0   \n",
       "1  Alabama    Male     Very good                 0.0               0.0   \n",
       "2  Alabama    Male     Very good                 0.0               0.0   \n",
       "3  Alabama  Female          Fair                 5.0               0.0   \n",
       "4  Alabama  Female          Good                 3.0              15.0   \n",
       "\n",
       "                                     LastCheckupTime PhysicalActivities  \\\n",
       "0  Within past year (anytime less than 12 months ...                Yes   \n",
       "1  Within past year (anytime less than 12 months ...                Yes   \n",
       "2  Within past year (anytime less than 12 months ...                 No   \n",
       "3  Within past year (anytime less than 12 months ...                Yes   \n",
       "4  Within past year (anytime less than 12 months ...                Yes   \n",
       "\n",
       "   SleepHours            RemovedTeeth HadHeartAttack  ... HeightInMeters  \\\n",
       "0         9.0            None of them             No  ...           1.60   \n",
       "1         6.0            None of them             No  ...           1.78   \n",
       "2         8.0  6 or more, but not all             No  ...           1.85   \n",
       "3         9.0            None of them             No  ...           1.70   \n",
       "4         5.0                  1 to 5             No  ...           1.55   \n",
       "\n",
       "  WeightInKilograms    BMI AlcoholDrinkers HIVTesting FluVaxLast12  \\\n",
       "0             71.67  27.99              No         No          Yes   \n",
       "1             95.25  30.13              No         No          Yes   \n",
       "2            108.86  31.66             Yes         No           No   \n",
       "3             90.72  31.32              No         No          Yes   \n",
       "4             79.38  33.07              No         No          Yes   \n",
       "\n",
       "  PneumoVaxEver                                  TetanusLast10Tdap  \\\n",
       "0           Yes                                 Yes, received Tdap   \n",
       "1           Yes  Yes, received tetanus shot but not sure what type   \n",
       "2           Yes  No, did not receive any tetanus shot in the pa...   \n",
       "3           Yes  No, did not receive any tetanus shot in the pa...   \n",
       "4           Yes  No, did not receive any tetanus shot in the pa...   \n",
       "\n",
       "  HighRiskLastYear CovidPos  \n",
       "0               No       No  \n",
       "1               No       No  \n",
       "2               No      Yes  \n",
       "3               No      Yes  \n",
       "4               No       No  \n",
       "\n",
       "[5 rows x 40 columns]"
      ]
     },
     "execution_count": 2,
     "metadata": {},
     "output_type": "execute_result"
    }
   ],
   "source": [
    "heartDF = pd.read_csv('Resources/heart_2022_no_nans.csv')\n",
    "heartDF.head()"
   ]
  },
  {
   "cell_type": "code",
   "execution_count": 3,
   "id": "edf7b2dd",
   "metadata": {},
   "outputs": [],
   "source": [
    "# heartDF.dtypes"
   ]
  },
  {
   "cell_type": "code",
   "execution_count": 4,
   "id": "689d7429",
   "metadata": {
    "scrolled": true
   },
   "outputs": [
    {
     "data": {
      "text/html": [
       "<div>\n",
       "<style scoped>\n",
       "    .dataframe tbody tr th:only-of-type {\n",
       "        vertical-align: middle;\n",
       "    }\n",
       "\n",
       "    .dataframe tbody tr th {\n",
       "        vertical-align: top;\n",
       "    }\n",
       "\n",
       "    .dataframe thead th {\n",
       "        text-align: right;\n",
       "    }\n",
       "</style>\n",
       "<table border=\"1\" class=\"dataframe\">\n",
       "  <thead>\n",
       "    <tr style=\"text-align: right;\">\n",
       "      <th></th>\n",
       "      <th>State</th>\n",
       "      <th>Sex</th>\n",
       "      <th>GeneralHealth</th>\n",
       "      <th>PhysicalHealthDays</th>\n",
       "      <th>HadHeartAttack</th>\n",
       "      <th>HadAngina</th>\n",
       "    </tr>\n",
       "  </thead>\n",
       "  <tbody>\n",
       "    <tr>\n",
       "      <th>0</th>\n",
       "      <td>Alabama</td>\n",
       "      <td>Female</td>\n",
       "      <td>Very good</td>\n",
       "      <td>4.0</td>\n",
       "      <td>No</td>\n",
       "      <td>No</td>\n",
       "    </tr>\n",
       "    <tr>\n",
       "      <th>1</th>\n",
       "      <td>Alabama</td>\n",
       "      <td>Male</td>\n",
       "      <td>Very good</td>\n",
       "      <td>0.0</td>\n",
       "      <td>No</td>\n",
       "      <td>No</td>\n",
       "    </tr>\n",
       "    <tr>\n",
       "      <th>2</th>\n",
       "      <td>Alabama</td>\n",
       "      <td>Male</td>\n",
       "      <td>Very good</td>\n",
       "      <td>0.0</td>\n",
       "      <td>No</td>\n",
       "      <td>No</td>\n",
       "    </tr>\n",
       "    <tr>\n",
       "      <th>3</th>\n",
       "      <td>Alabama</td>\n",
       "      <td>Female</td>\n",
       "      <td>Fair</td>\n",
       "      <td>5.0</td>\n",
       "      <td>No</td>\n",
       "      <td>No</td>\n",
       "    </tr>\n",
       "    <tr>\n",
       "      <th>4</th>\n",
       "      <td>Alabama</td>\n",
       "      <td>Female</td>\n",
       "      <td>Good</td>\n",
       "      <td>3.0</td>\n",
       "      <td>No</td>\n",
       "      <td>No</td>\n",
       "    </tr>\n",
       "  </tbody>\n",
       "</table>\n",
       "</div>"
      ],
      "text/plain": [
       "     State     Sex GeneralHealth  PhysicalHealthDays HadHeartAttack HadAngina\n",
       "0  Alabama  Female     Very good                 4.0             No        No\n",
       "1  Alabama    Male     Very good                 0.0             No        No\n",
       "2  Alabama    Male     Very good                 0.0             No        No\n",
       "3  Alabama  Female          Fair                 5.0             No        No\n",
       "4  Alabama  Female          Good                 3.0             No        No"
      ]
     },
     "execution_count": 4,
     "metadata": {},
     "output_type": "execute_result"
    }
   ],
   "source": [
    "heartReducedDF = heartDF[[\"State\", \"Sex\", \"GeneralHealth\", \"PhysicalHealthDays\", \"HadHeartAttack\", \"HadAngina\"]]\n",
    "heartReducedDF.head()"
   ]
  },
  {
   "cell_type": "code",
   "execution_count": 5,
   "id": "1c7d6988",
   "metadata": {
    "scrolled": true
   },
   "outputs": [
    {
     "data": {
      "text/html": [
       "<div>\n",
       "<style scoped>\n",
       "    .dataframe tbody tr th:only-of-type {\n",
       "        vertical-align: middle;\n",
       "    }\n",
       "\n",
       "    .dataframe tbody tr th {\n",
       "        vertical-align: top;\n",
       "    }\n",
       "\n",
       "    .dataframe thead th {\n",
       "        text-align: right;\n",
       "    }\n",
       "</style>\n",
       "<table border=\"1\" class=\"dataframe\">\n",
       "  <thead>\n",
       "    <tr style=\"text-align: right;\">\n",
       "      <th></th>\n",
       "      <th>State</th>\n",
       "      <th>Sex</th>\n",
       "      <th>GeneralHealth</th>\n",
       "      <th>PhysicalHealthDays</th>\n",
       "      <th>HadHeartAttack</th>\n",
       "      <th>HadAngina</th>\n",
       "    </tr>\n",
       "  </thead>\n",
       "  <tbody>\n",
       "    <tr>\n",
       "      <th>7</th>\n",
       "      <td>Alabama</td>\n",
       "      <td>Male</td>\n",
       "      <td>Fair</td>\n",
       "      <td>5.0</td>\n",
       "      <td>Yes</td>\n",
       "      <td>Yes</td>\n",
       "    </tr>\n",
       "    <tr>\n",
       "      <th>12</th>\n",
       "      <td>Alabama</td>\n",
       "      <td>Male</td>\n",
       "      <td>Good</td>\n",
       "      <td>5.0</td>\n",
       "      <td>Yes</td>\n",
       "      <td>No</td>\n",
       "    </tr>\n",
       "    <tr>\n",
       "      <th>34</th>\n",
       "      <td>Alabama</td>\n",
       "      <td>Male</td>\n",
       "      <td>Good</td>\n",
       "      <td>0.0</td>\n",
       "      <td>Yes</td>\n",
       "      <td>Yes</td>\n",
       "    </tr>\n",
       "    <tr>\n",
       "      <th>37</th>\n",
       "      <td>Alabama</td>\n",
       "      <td>Male</td>\n",
       "      <td>Good</td>\n",
       "      <td>3.0</td>\n",
       "      <td>Yes</td>\n",
       "      <td>Yes</td>\n",
       "    </tr>\n",
       "    <tr>\n",
       "      <th>43</th>\n",
       "      <td>Alabama</td>\n",
       "      <td>Male</td>\n",
       "      <td>Good</td>\n",
       "      <td>0.0</td>\n",
       "      <td>Yes</td>\n",
       "      <td>Yes</td>\n",
       "    </tr>\n",
       "  </tbody>\n",
       "</table>\n",
       "</div>"
      ],
      "text/plain": [
       "      State   Sex GeneralHealth  PhysicalHealthDays HadHeartAttack HadAngina\n",
       "7   Alabama  Male          Fair                 5.0            Yes       Yes\n",
       "12  Alabama  Male          Good                 5.0            Yes        No\n",
       "34  Alabama  Male          Good                 0.0            Yes       Yes\n",
       "37  Alabama  Male          Good                 3.0            Yes       Yes\n",
       "43  Alabama  Male          Good                 0.0            Yes       Yes"
      ]
     },
     "execution_count": 5,
     "metadata": {},
     "output_type": "execute_result"
    }
   ],
   "source": [
    "attackPOS = heartReducedDF.loc[(heartReducedDF[\"HadHeartAttack\"] == \"Yes\")]\n",
    "attackPOS.head()"
   ]
  },
  {
   "cell_type": "code",
   "execution_count": 6,
   "id": "71be0b30",
   "metadata": {},
   "outputs": [
    {
     "name": "stdout",
     "output_type": "stream",
     "text": [
      "8.785336806847786\n"
     ]
    }
   ],
   "source": [
    "posAVG = attackPOS[\"PhysicalHealthDays\"].mean()\n",
    "print(posAVG)"
   ]
  },
  {
   "cell_type": "code",
   "execution_count": 7,
   "id": "c4b5a697",
   "metadata": {},
   "outputs": [
    {
     "data": {
      "text/html": [
       "<div>\n",
       "<style scoped>\n",
       "    .dataframe tbody tr th:only-of-type {\n",
       "        vertical-align: middle;\n",
       "    }\n",
       "\n",
       "    .dataframe tbody tr th {\n",
       "        vertical-align: top;\n",
       "    }\n",
       "\n",
       "    .dataframe thead th {\n",
       "        text-align: right;\n",
       "    }\n",
       "</style>\n",
       "<table border=\"1\" class=\"dataframe\">\n",
       "  <thead>\n",
       "    <tr style=\"text-align: right;\">\n",
       "      <th></th>\n",
       "      <th>State</th>\n",
       "      <th>Sex</th>\n",
       "      <th>GeneralHealth</th>\n",
       "      <th>PhysicalHealthDays</th>\n",
       "      <th>HadHeartAttack</th>\n",
       "      <th>HadAngina</th>\n",
       "    </tr>\n",
       "  </thead>\n",
       "  <tbody>\n",
       "    <tr>\n",
       "      <th>0</th>\n",
       "      <td>Alabama</td>\n",
       "      <td>Female</td>\n",
       "      <td>Very good</td>\n",
       "      <td>4.0</td>\n",
       "      <td>No</td>\n",
       "      <td>No</td>\n",
       "    </tr>\n",
       "    <tr>\n",
       "      <th>1</th>\n",
       "      <td>Alabama</td>\n",
       "      <td>Male</td>\n",
       "      <td>Very good</td>\n",
       "      <td>0.0</td>\n",
       "      <td>No</td>\n",
       "      <td>No</td>\n",
       "    </tr>\n",
       "    <tr>\n",
       "      <th>2</th>\n",
       "      <td>Alabama</td>\n",
       "      <td>Male</td>\n",
       "      <td>Very good</td>\n",
       "      <td>0.0</td>\n",
       "      <td>No</td>\n",
       "      <td>No</td>\n",
       "    </tr>\n",
       "    <tr>\n",
       "      <th>3</th>\n",
       "      <td>Alabama</td>\n",
       "      <td>Female</td>\n",
       "      <td>Fair</td>\n",
       "      <td>5.0</td>\n",
       "      <td>No</td>\n",
       "      <td>No</td>\n",
       "    </tr>\n",
       "    <tr>\n",
       "      <th>4</th>\n",
       "      <td>Alabama</td>\n",
       "      <td>Female</td>\n",
       "      <td>Good</td>\n",
       "      <td>3.0</td>\n",
       "      <td>No</td>\n",
       "      <td>No</td>\n",
       "    </tr>\n",
       "  </tbody>\n",
       "</table>\n",
       "</div>"
      ],
      "text/plain": [
       "     State     Sex GeneralHealth  PhysicalHealthDays HadHeartAttack HadAngina\n",
       "0  Alabama  Female     Very good                 4.0             No        No\n",
       "1  Alabama    Male     Very good                 0.0             No        No\n",
       "2  Alabama    Male     Very good                 0.0             No        No\n",
       "3  Alabama  Female          Fair                 5.0             No        No\n",
       "4  Alabama  Female          Good                 3.0             No        No"
      ]
     },
     "execution_count": 7,
     "metadata": {},
     "output_type": "execute_result"
    }
   ],
   "source": [
    "attackNEG = heartReducedDF.loc[(heartReducedDF[\"HadHeartAttack\"] == \"No\")]\n",
    "attackNEG.head()"
   ]
  },
  {
   "cell_type": "code",
   "execution_count": 8,
   "id": "3bb3d136",
   "metadata": {},
   "outputs": [
    {
     "name": "stdout",
     "output_type": "stream",
     "text": [
      "3.849484279000976\n"
     ]
    }
   ],
   "source": [
    "negAVG = attackNEG[\"PhysicalHealthDays\"].mean()\n",
    "print(negAVG)"
   ]
  },
  {
   "cell_type": "code",
   "execution_count": 9,
   "id": "28e56a67",
   "metadata": {},
   "outputs": [
    {
     "name": "stdout",
     "output_type": "stream",
     "text": [
      "4.119025940769525\n"
     ]
    }
   ],
   "source": [
    "phyHealth = heartReducedDF['PhysicalHealthDays'].mean()\n",
    "print(phyHealth)"
   ]
  },
  {
   "cell_type": "code",
   "execution_count": 47,
   "id": "ede0d3d1",
   "metadata": {},
   "outputs": [
    {
     "data": {
      "text/html": [
       "<div>\n",
       "<style scoped>\n",
       "    .dataframe tbody tr th:only-of-type {\n",
       "        vertical-align: middle;\n",
       "    }\n",
       "\n",
       "    .dataframe tbody tr th {\n",
       "        vertical-align: top;\n",
       "    }\n",
       "\n",
       "    .dataframe thead th {\n",
       "        text-align: right;\n",
       "    }\n",
       "</style>\n",
       "<table border=\"1\" class=\"dataframe\">\n",
       "  <thead>\n",
       "    <tr style=\"text-align: right;\">\n",
       "      <th></th>\n",
       "      <th>PhysicalHealthDays</th>\n",
       "    </tr>\n",
       "    <tr>\n",
       "      <th>State</th>\n",
       "      <th></th>\n",
       "    </tr>\n",
       "  </thead>\n",
       "  <tbody>\n",
       "    <tr>\n",
       "      <th>Alabama</th>\n",
       "      <td>4.64</td>\n",
       "    </tr>\n",
       "    <tr>\n",
       "      <th>Alaska</th>\n",
       "      <td>4.21</td>\n",
       "    </tr>\n",
       "    <tr>\n",
       "      <th>Arizona</th>\n",
       "      <td>4.56</td>\n",
       "    </tr>\n",
       "    <tr>\n",
       "      <th>Arkansas</th>\n",
       "      <td>5.51</td>\n",
       "    </tr>\n",
       "    <tr>\n",
       "      <th>California</th>\n",
       "      <td>4.18</td>\n",
       "    </tr>\n",
       "  </tbody>\n",
       "</table>\n",
       "</div>"
      ],
      "text/plain": [
       "            PhysicalHealthDays\n",
       "State                         \n",
       "Alabama                   4.64\n",
       "Alaska                    4.21\n",
       "Arizona                   4.56\n",
       "Arkansas                  5.51\n",
       "California                4.18"
      ]
     },
     "execution_count": 47,
     "metadata": {},
     "output_type": "execute_result"
    }
   ],
   "source": [
    "stateGroup = heartReducedDF.groupby('State')['PhysicalHealthDays'].mean()\n",
    "stateRound = round(stateGroup, 2)\n",
    "stateRoundDF = pd.DataFrame(stateRound)\n",
    "stateRoundDF.head()"
   ]
  },
  {
   "cell_type": "code",
   "execution_count": null,
   "id": "38a6d8b5",
   "metadata": {},
   "outputs": [],
   "source": [
    "xAxis = np.arange(len(stateRound))\n",
    "tick_locations = [num+0.4 for num in xAxis]\n",
    "\n",
    "plt.bar(xAxis, stateRoundDF[\"PhysicalHealthDays\"], color=\"red\", alpha=0.5, align=\"edge\")\n",
    "plt.xticks(tick_locations, stateRoundDF[\"State\"], rotation=\"vertical\")\n",
    "plt.show()"
   ]
  },
  {
   "cell_type": "code",
   "execution_count": 11,
   "id": "96e13120",
   "metadata": {},
   "outputs": [
    {
     "name": "stdout",
     "output_type": "stream",
     "text": [
      "[4.64, 4.21, 4.56, 5.51, 4.18, 3.77, 3.97, 3.78, 2.88, 4.53, 4.31, 3.54, 3.55, 4.19, 3.83, 4.37, 3.74, 3.6, 4.9, 4.65, 4.04, 3.92, 3.6, 4.07, 3.54, 3.83, 4.67, 4.15, 3.9, 4.94, 3.9, 3.77, 4.78, 3.91, 3.86, 3.49, 4.48, 4.48, 4.14, 4.05, 5.07, 4.27, 4.15, 3.56, 4.91, 4.39, 4.06, 3.74, 3.19, 4.1, 4.15, 5.69, 4.05, 3.92]\n"
     ]
    }
   ],
   "source": [
    "stateRoundList = stateRound.values.tolist()\n",
    "print(stateRoundList)"
   ]
  },
  {
   "cell_type": "code",
   "execution_count": 14,
   "id": "aabb5a3d",
   "metadata": {},
   "outputs": [
    {
     "data": {
      "text/plain": [
       "5.693678547410895"
      ]
     },
     "execution_count": 14,
     "metadata": {},
     "output_type": "execute_result"
    }
   ],
   "source": [
    "stateGroup.max()"
   ]
  },
  {
   "cell_type": "code",
   "execution_count": 15,
   "id": "09436bd1",
   "metadata": {},
   "outputs": [
    {
     "name": "stdout",
     "output_type": "stream",
     "text": [
      "HadHeartAttack\n",
      "Yes    246\n",
      "No     138\n",
      "Name: count, dtype: int64\n",
      "HadAngina\n",
      "Yes    272\n",
      "No     112\n",
      "Name: count, dtype: int64\n",
      "5.693678547410895\n"
     ]
    },
    {
     "data": {
      "text/html": [
       "<div>\n",
       "<style scoped>\n",
       "    .dataframe tbody tr th:only-of-type {\n",
       "        vertical-align: middle;\n",
       "    }\n",
       "\n",
       "    .dataframe tbody tr th {\n",
       "        vertical-align: top;\n",
       "    }\n",
       "\n",
       "    .dataframe thead th {\n",
       "        text-align: right;\n",
       "    }\n",
       "</style>\n",
       "<table border=\"1\" class=\"dataframe\">\n",
       "  <thead>\n",
       "    <tr style=\"text-align: right;\">\n",
       "      <th></th>\n",
       "      <th>State</th>\n",
       "      <th>Sex</th>\n",
       "      <th>GeneralHealth</th>\n",
       "      <th>PhysicalHealthDays</th>\n",
       "      <th>HadHeartAttack</th>\n",
       "      <th>HadAngina</th>\n",
       "    </tr>\n",
       "  </thead>\n",
       "  <tbody>\n",
       "    <tr>\n",
       "      <th>228631</th>\n",
       "      <td>West Virginia</td>\n",
       "      <td>Female</td>\n",
       "      <td>Very good</td>\n",
       "      <td>0.0</td>\n",
       "      <td>No</td>\n",
       "      <td>No</td>\n",
       "    </tr>\n",
       "    <tr>\n",
       "      <th>228632</th>\n",
       "      <td>West Virginia</td>\n",
       "      <td>Male</td>\n",
       "      <td>Very good</td>\n",
       "      <td>0.0</td>\n",
       "      <td>No</td>\n",
       "      <td>No</td>\n",
       "    </tr>\n",
       "    <tr>\n",
       "      <th>228633</th>\n",
       "      <td>West Virginia</td>\n",
       "      <td>Female</td>\n",
       "      <td>Very good</td>\n",
       "      <td>0.0</td>\n",
       "      <td>No</td>\n",
       "      <td>No</td>\n",
       "    </tr>\n",
       "    <tr>\n",
       "      <th>228634</th>\n",
       "      <td>West Virginia</td>\n",
       "      <td>Female</td>\n",
       "      <td>Good</td>\n",
       "      <td>0.0</td>\n",
       "      <td>No</td>\n",
       "      <td>No</td>\n",
       "    </tr>\n",
       "    <tr>\n",
       "      <th>228635</th>\n",
       "      <td>West Virginia</td>\n",
       "      <td>Female</td>\n",
       "      <td>Good</td>\n",
       "      <td>0.0</td>\n",
       "      <td>No</td>\n",
       "      <td>No</td>\n",
       "    </tr>\n",
       "  </tbody>\n",
       "</table>\n",
       "</div>"
      ],
      "text/plain": [
       "                State     Sex GeneralHealth  PhysicalHealthDays  \\\n",
       "228631  West Virginia  Female     Very good                 0.0   \n",
       "228632  West Virginia    Male     Very good                 0.0   \n",
       "228633  West Virginia  Female     Very good                 0.0   \n",
       "228634  West Virginia  Female          Good                 0.0   \n",
       "228635  West Virginia  Female          Good                 0.0   \n",
       "\n",
       "       HadHeartAttack HadAngina  \n",
       "228631             No        No  \n",
       "228632             No        No  \n",
       "228633             No        No  \n",
       "228634             No        No  \n",
       "228635             No        No  "
      ]
     },
     "execution_count": 15,
     "metadata": {},
     "output_type": "execute_result"
    }
   ],
   "source": [
    "wvDF = heartReducedDF.loc[\n",
    "    (heartReducedDF['State']==\"West Virginia\")]\n",
    "wvHealth = wvDF['PhysicalHealthDays'].mean()\n",
    "wvHistory = wvDF.loc[\n",
    "    (wvDF['HadHeartAttack']==\"Yes\") | (wvDF['HadAngina']==\"Yes\"), :]\n",
    "attackCountWV = wvHistory['HadHeartAttack'].value_counts() \n",
    "anginaCountWV = wvHistory['HadAngina'].value_counts()\n",
    "print(attackCountWV)\n",
    "print(anginaCountWV)\n",
    "print(wvHealth)\n",
    "wvDF.head()"
   ]
  },
  {
   "cell_type": "code",
   "execution_count": 16,
   "id": "939eb43f",
   "metadata": {
    "scrolled": true
   },
   "outputs": [
    {
     "data": {
      "text/plain": [
       "Sex\n",
       "Female    1685\n",
       "Male      1289\n",
       "Name: count, dtype: int64"
      ]
     },
     "execution_count": 16,
     "metadata": {},
     "output_type": "execute_result"
    }
   ],
   "source": [
    "wvDF.value_counts(\"Sex\")"
   ]
  },
  {
   "cell_type": "code",
   "execution_count": 17,
   "id": "eeac2f18",
   "metadata": {},
   "outputs": [
    {
     "data": {
      "text/plain": [
       "GeneralHealth\n",
       "Good         958\n",
       "Very good    942\n",
       "Fair         499\n",
       "Excellent    337\n",
       "Poor         238\n",
       "Name: count, dtype: int64"
      ]
     },
     "execution_count": 17,
     "metadata": {},
     "output_type": "execute_result"
    }
   ],
   "source": [
    "wvDF.value_counts(\"GeneralHealth\")"
   ]
  },
  {
   "cell_type": "code",
   "execution_count": 45,
   "id": "3eb0219b",
   "metadata": {},
   "outputs": [
    {
     "data": {
      "text/plain": [
       "<BarContainer object of 5 artists>"
      ]
     },
     "execution_count": 45,
     "metadata": {},
     "output_type": "execute_result"
    },
    {
     "data": {
      "image/png": "[encoded data removed]",
      "text/plain": [
       "<Figure size 640x480 with 1 Axes>"
      ]
     },
     "metadata": {},
     "output_type": "display_data"
    }
   ],
   "source": [
    "# visualization of participants' general health WITH heart disease in state with highest avg physical well being\n",
    "participants = [238, 499, 958, 942, 337]\n",
    "x_axis = np.arange(len(participants))\n",
    "\n",
    "tick_locations = [value for value in x_axis]\n",
    "plt.xticks(tick_locations, [\"Poor\", \"Fair\", \"Good\", \"Very Good\", \"Excellent\"])\n",
    "plt.xlim(-0.75, len(x_axis)-0.25)\n",
    "plt.ylim(0, max(participants)+100)\n",
    "plt.title(\"General Health of Participants with Heart Disease in West Virginia\")\n",
    "plt.xlabel(\"General Health Status\")\n",
    "plt.ylabel(\"Number of Participants with Heart Disease\")\n",
    "# path = os.path.join(\"..\",\"visualizations\",\"General Health of Highest WV\")\n",
    "# plt.savefig(path)\n",
    "plt.bar(x_axis, participants, color=\"m\", align=\"center\")"
   ]
  },
  {
   "cell_type": "code",
   "execution_count": 18,
   "id": "6f00b08d",
   "metadata": {},
   "outputs": [
    {
     "data": {
      "text/plain": [
       "2.878260869565217"
      ]
     },
     "execution_count": 18,
     "metadata": {},
     "output_type": "execute_result"
    }
   ],
   "source": [
    "stateGroup.min()"
   ]
  },
  {
   "cell_type": "code",
   "execution_count": 19,
   "id": "72f09ab9",
   "metadata": {},
   "outputs": [
    {
     "name": "stdout",
     "output_type": "stream",
     "text": [
      "HadHeartAttack\n",
      "Yes    59\n",
      "No     37\n",
      "Name: count, dtype: int64\n",
      "HadAngina\n",
      "Yes    61\n",
      "No     35\n",
      "Name: count, dtype: int64\n",
      "2.878260869565217\n"
     ]
    },
    {
     "data": {
      "text/html": [
       "<div>\n",
       "<style scoped>\n",
       "    .dataframe tbody tr th:only-of-type {\n",
       "        vertical-align: middle;\n",
       "    }\n",
       "\n",
       "    .dataframe tbody tr th {\n",
       "        vertical-align: top;\n",
       "    }\n",
       "\n",
       "    .dataframe thead th {\n",
       "        text-align: right;\n",
       "    }\n",
       "</style>\n",
       "<table border=\"1\" class=\"dataframe\">\n",
       "  <thead>\n",
       "    <tr style=\"text-align: right;\">\n",
       "      <th></th>\n",
       "      <th>State</th>\n",
       "      <th>Sex</th>\n",
       "      <th>GeneralHealth</th>\n",
       "      <th>PhysicalHealthDays</th>\n",
       "      <th>HadHeartAttack</th>\n",
       "      <th>HadAngina</th>\n",
       "    </tr>\n",
       "  </thead>\n",
       "  <tbody>\n",
       "    <tr>\n",
       "      <th>30972</th>\n",
       "      <td>District of Columbia</td>\n",
       "      <td>Female</td>\n",
       "      <td>Good</td>\n",
       "      <td>0.0</td>\n",
       "      <td>No</td>\n",
       "      <td>No</td>\n",
       "    </tr>\n",
       "    <tr>\n",
       "      <th>30973</th>\n",
       "      <td>District of Columbia</td>\n",
       "      <td>Female</td>\n",
       "      <td>Fair</td>\n",
       "      <td>10.0</td>\n",
       "      <td>Yes</td>\n",
       "      <td>Yes</td>\n",
       "    </tr>\n",
       "    <tr>\n",
       "      <th>30974</th>\n",
       "      <td>District of Columbia</td>\n",
       "      <td>Male</td>\n",
       "      <td>Good</td>\n",
       "      <td>0.0</td>\n",
       "      <td>No</td>\n",
       "      <td>No</td>\n",
       "    </tr>\n",
       "    <tr>\n",
       "      <th>30975</th>\n",
       "      <td>District of Columbia</td>\n",
       "      <td>Female</td>\n",
       "      <td>Very good</td>\n",
       "      <td>0.0</td>\n",
       "      <td>No</td>\n",
       "      <td>No</td>\n",
       "    </tr>\n",
       "    <tr>\n",
       "      <th>30976</th>\n",
       "      <td>District of Columbia</td>\n",
       "      <td>Male</td>\n",
       "      <td>Good</td>\n",
       "      <td>0.0</td>\n",
       "      <td>No</td>\n",
       "      <td>No</td>\n",
       "    </tr>\n",
       "  </tbody>\n",
       "</table>\n",
       "</div>"
      ],
      "text/plain": [
       "                      State     Sex GeneralHealth  PhysicalHealthDays  \\\n",
       "30972  District of Columbia  Female          Good                 0.0   \n",
       "30973  District of Columbia  Female          Fair                10.0   \n",
       "30974  District of Columbia    Male          Good                 0.0   \n",
       "30975  District of Columbia  Female     Very good                 0.0   \n",
       "30976  District of Columbia    Male          Good                 0.0   \n",
       "\n",
       "      HadHeartAttack HadAngina  \n",
       "30972             No        No  \n",
       "30973            Yes       Yes  \n",
       "30974             No        No  \n",
       "30975             No        No  \n",
       "30976             No        No  "
      ]
     },
     "execution_count": 19,
     "metadata": {},
     "output_type": "execute_result"
    }
   ],
   "source": [
    "dcDF = heartReducedDF.loc[\n",
    "    (heartReducedDF['State']==\"District of Columbia\")]\n",
    "dcHealth = dcDF['PhysicalHealthDays'].mean()\n",
    "dcHistory = dcDF.loc[\n",
    "    (dcDF['HadHeartAttack']==\"Yes\") | (dcDF['HadAngina']==\"Yes\"), :]\n",
    "attackCountDC = dcHistory['HadHeartAttack'].value_counts() \n",
    "anginaCountDC = dcHistory['HadAngina'].value_counts()\n",
    "print(attackCountDC)\n",
    "print(anginaCountDC)\n",
    "print(dcHealth)\n",
    "dcDF.head()"
   ]
  },
  {
   "cell_type": "code",
   "execution_count": 20,
   "id": "50e52d9e",
   "metadata": {},
   "outputs": [
    {
     "data": {
      "text/plain": [
       "Sex\n",
       "Female    964\n",
       "Male      761\n",
       "Name: count, dtype: int64"
      ]
     },
     "execution_count": 20,
     "metadata": {},
     "output_type": "execute_result"
    }
   ],
   "source": [
    "dcDF.value_counts(\"Sex\")"
   ]
  },
  {
   "cell_type": "code",
   "execution_count": 21,
   "id": "33dd30ff",
   "metadata": {},
   "outputs": [
    {
     "data": {
      "text/plain": [
       "GeneralHealth\n",
       "Very good    641\n",
       "Good         466\n",
       "Excellent    419\n",
       "Fair         163\n",
       "Poor          36\n",
       "Name: count, dtype: int64"
      ]
     },
     "execution_count": 21,
     "metadata": {},
     "output_type": "execute_result"
    }
   ],
   "source": [
    "dcDF.value_counts(\"GeneralHealth\")"
   ]
  },
  {
   "cell_type": "code",
   "execution_count": 38,
   "id": "25be164e",
   "metadata": {},
   "outputs": [
    {
     "data": {
      "text/plain": [
       "<BarContainer object of 5 artists>"
      ]
     },
     "execution_count": 38,
     "metadata": {},
     "output_type": "execute_result"
    },
    {
     "data": {
      "image/png": "[encoded data removed]",
      "text/plain": [
       "<Figure size 640x480 with 1 Axes>"
      ]
     },
     "metadata": {},
     "output_type": "display_data"
    }
   ],
   "source": [
    "# visualization of participants' general health WITH heart disease in state with lowest avg physical well being\n",
    "participants = [36, 163, 466, 641, 419]\n",
    "x_axis = np.arange(len(participants))\n",
    "\n",
    "tick_locations = [value for value in x_axis]\n",
    "plt.xticks(tick_locations, [\"Poor\", \"Fair\", \"Good\", \"Very Good\", \"Excellent\"])\n",
    "plt.xlim(-0.75, len(x_axis)-0.25)\n",
    "plt.ylim(0, max(participants)+500)\n",
    "plt.title(\"General Health of Participants with Heart Disease in Washington DC\")\n",
    "plt.xlabel(\"General Health Status\")\n",
    "plt.ylabel(\"Number of Participants with Heart Disease\")\n",
    "# path = os.path.join(\"..\",\"visualizations\",\"General Health of Lowest DC\")\n",
    "# plt.savefig(path)\n",
    "plt.bar(x_axis, participants, color=\"g\", align=\"center\")"
   ]
  },
  {
   "cell_type": "code",
   "execution_count": null,
   "id": "e1d021df",
   "metadata": {
    "scrolled": true
   },
   "outputs": [],
   "source": [
    "# genHealthGroupDF = heartReducedDF.groupby('State')['GeneralHealth'].value_counts()\n",
    "# genHealthGroupDF\n",
    "# genDF = pd.DataFrame(genHealthGroupDF)\n",
    "# genDF.head()"
   ]
  }
 ],
 "metadata": {
  "kernelspec": {
   "display_name": "Python 3 (ipykernel)",
   "language": "python",
   "name": "python3"
  },
  "language_info": {
   "codemirror_mode": {
    "name": "ipython",
    "version": 3
   },
   "file_extension": ".py",
   "mimetype": "text/x-python",
   "name": "python",
   "nbconvert_exporter": "python",
   "pygments_lexer": "ipython3",
   "version": "3.11.7"
  }
 },
 "nbformat": 4,
 "nbformat_minor": 5
}
