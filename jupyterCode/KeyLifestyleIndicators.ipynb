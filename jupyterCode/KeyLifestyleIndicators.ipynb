{
 "cells": [
  {
   "cell_type": "markdown",
   "id": "b3886dc3-e276-48f3-9abc-0f807dee370b",
   "metadata": {
    "tags": []
   },
   "source": [
    "# Key Indicators of Heart Disease: Lifestyle Indicators"
   ]
  },
  {
   "cell_type": "markdown",
   "id": "aed19c3f-50da-4ddd-b18b-910db51ad3a0",
   "metadata": {},
   "source": [
    "## Data Collection and Setup"
   ]
  },
  {
   "cell_type": "code",
   "execution_count": 1,
   "id": "802f086c-53e4-41b7-89a2-7f2d5792d97a",
   "metadata": {
    "tags": []
   },
   "outputs": [],
   "source": [
    "# dependencies and set up\n",
    "import pandas as pd\n",
    "from pathlib import Path\n",
    "import csv\n",
    "import os\n",
    "import matplotlib.pyplot as plt\n",
    "import numpy as np\n",
    "import scipy.stats as st\n",
    "import warnings\n",
    "warnings.filterwarnings('ignore')"
   ]
  },
  {
   "cell_type": "code",
   "execution_count": 2,
   "id": "b23fa6e9-5af2-4e4b-911a-0e25745d5f16",
   "metadata": {
    "tags": []
   },
   "outputs": [
    {
     "data": {
      "text/html": [
       "<div>\n",
       "<style scoped>\n",
       "    .dataframe tbody tr th:only-of-type {\n",
       "        vertical-align: middle;\n",
       "    }\n",
       "\n",
       "    .dataframe tbody tr th {\n",
       "        vertical-align: top;\n",
       "    }\n",
       "\n",
       "    .dataframe thead th {\n",
       "        text-align: right;\n",
       "    }\n",
       "</style>\n",
       "<table border=\"1\" class=\"dataframe\">\n",
       "  <thead>\n",
       "    <tr style=\"text-align: right;\">\n",
       "      <th></th>\n",
       "      <th>State</th>\n",
       "      <th>Sex</th>\n",
       "      <th>GeneralHealth</th>\n",
       "      <th>PhysicalHealthDays</th>\n",
       "      <th>MentalHealthDays</th>\n",
       "      <th>LastCheckupTime</th>\n",
       "      <th>PhysicalActivities</th>\n",
       "      <th>SleepHours</th>\n",
       "      <th>RemovedTeeth</th>\n",
       "      <th>HadHeartAttack</th>\n",
       "      <th>...</th>\n",
       "      <th>HeightInMeters</th>\n",
       "      <th>WeightInKilograms</th>\n",
       "      <th>BMI</th>\n",
       "      <th>AlcoholDrinkers</th>\n",
       "      <th>HIVTesting</th>\n",
       "      <th>FluVaxLast12</th>\n",
       "      <th>PneumoVaxEver</th>\n",
       "      <th>TetanusLast10Tdap</th>\n",
       "      <th>HighRiskLastYear</th>\n",
       "      <th>CovidPos</th>\n",
       "    </tr>\n",
       "  </thead>\n",
       "  <tbody>\n",
       "    <tr>\n",
       "      <th>0</th>\n",
       "      <td>Alabama</td>\n",
       "      <td>Female</td>\n",
       "      <td>Very good</td>\n",
       "      <td>4.0</td>\n",
       "      <td>0.0</td>\n",
       "      <td>Within past year (anytime less than 12 months ...</td>\n",
       "      <td>Yes</td>\n",
       "      <td>9.0</td>\n",
       "      <td>None of them</td>\n",
       "      <td>No</td>\n",
       "      <td>...</td>\n",
       "      <td>1.60</td>\n",
       "      <td>71.67</td>\n",
       "      <td>27.99</td>\n",
       "      <td>No</td>\n",
       "      <td>No</td>\n",
       "      <td>Yes</td>\n",
       "      <td>Yes</td>\n",
       "      <td>Yes, received Tdap</td>\n",
       "      <td>No</td>\n",
       "      <td>No</td>\n",
       "    </tr>\n",
       "    <tr>\n",
       "      <th>1</th>\n",
       "      <td>Alabama</td>\n",
       "      <td>Male</td>\n",
       "      <td>Very good</td>\n",
       "      <td>0.0</td>\n",
       "      <td>0.0</td>\n",
       "      <td>Within past year (anytime less than 12 months ...</td>\n",
       "      <td>Yes</td>\n",
       "      <td>6.0</td>\n",
       "      <td>None of them</td>\n",
       "      <td>No</td>\n",
       "      <td>...</td>\n",
       "      <td>1.78</td>\n",
       "      <td>95.25</td>\n",
       "      <td>30.13</td>\n",
       "      <td>No</td>\n",
       "      <td>No</td>\n",
       "      <td>Yes</td>\n",
       "      <td>Yes</td>\n",
       "      <td>Yes, received tetanus shot but not sure what type</td>\n",
       "      <td>No</td>\n",
       "      <td>No</td>\n",
       "    </tr>\n",
       "    <tr>\n",
       "      <th>2</th>\n",
       "      <td>Alabama</td>\n",
       "      <td>Male</td>\n",
       "      <td>Very good</td>\n",
       "      <td>0.0</td>\n",
       "      <td>0.0</td>\n",
       "      <td>Within past year (anytime less than 12 months ...</td>\n",
       "      <td>No</td>\n",
       "      <td>8.0</td>\n",
       "      <td>6 or more, but not all</td>\n",
       "      <td>No</td>\n",
       "      <td>...</td>\n",
       "      <td>1.85</td>\n",
       "      <td>108.86</td>\n",
       "      <td>31.66</td>\n",
       "      <td>Yes</td>\n",
       "      <td>No</td>\n",
       "      <td>No</td>\n",
       "      <td>Yes</td>\n",
       "      <td>No, did not receive any tetanus shot in the pa...</td>\n",
       "      <td>No</td>\n",
       "      <td>Yes</td>\n",
       "    </tr>\n",
       "    <tr>\n",
       "      <th>3</th>\n",
       "      <td>Alabama</td>\n",
       "      <td>Female</td>\n",
       "      <td>Fair</td>\n",
       "      <td>5.0</td>\n",
       "      <td>0.0</td>\n",
       "      <td>Within past year (anytime less than 12 months ...</td>\n",
       "      <td>Yes</td>\n",
       "      <td>9.0</td>\n",
       "      <td>None of them</td>\n",
       "      <td>No</td>\n",
       "      <td>...</td>\n",
       "      <td>1.70</td>\n",
       "      <td>90.72</td>\n",
       "      <td>31.32</td>\n",
       "      <td>No</td>\n",
       "      <td>No</td>\n",
       "      <td>Yes</td>\n",
       "      <td>Yes</td>\n",
       "      <td>No, did not receive any tetanus shot in the pa...</td>\n",
       "      <td>No</td>\n",
       "      <td>Yes</td>\n",
       "    </tr>\n",
       "    <tr>\n",
       "      <th>4</th>\n",
       "      <td>Alabama</td>\n",
       "      <td>Female</td>\n",
       "      <td>Good</td>\n",
       "      <td>3.0</td>\n",
       "      <td>15.0</td>\n",
       "      <td>Within past year (anytime less than 12 months ...</td>\n",
       "      <td>Yes</td>\n",
       "      <td>5.0</td>\n",
       "      <td>1 to 5</td>\n",
       "      <td>No</td>\n",
       "      <td>...</td>\n",
       "      <td>1.55</td>\n",
       "      <td>79.38</td>\n",
       "      <td>33.07</td>\n",
       "      <td>No</td>\n",
       "      <td>No</td>\n",
       "      <td>Yes</td>\n",
       "      <td>Yes</td>\n",
       "      <td>No, did not receive any tetanus shot in the pa...</td>\n",
       "      <td>No</td>\n",
       "      <td>No</td>\n",
       "    </tr>\n",
       "  </tbody>\n",
       "</table>\n",
       "<p>5 rows × 40 columns</p>\n",
       "</div>"
      ],
      "text/plain": [
       "     State     Sex GeneralHealth  PhysicalHealthDays  MentalHealthDays  \\\n",
       "0  Alabama  Female     Very good                 4.0               0.0   \n",
       "1  Alabama    Male     Very good                 0.0               0.0   \n",
       "2  Alabama    Male     Very good                 0.0               0.0   \n",
       "3  Alabama  Female          Fair                 5.0               0.0   \n",
       "4  Alabama  Female          Good                 3.0              15.0   \n",
       "\n",
       "                                     LastCheckupTime PhysicalActivities  \\\n",
       "0  Within past year (anytime less than 12 months ...                Yes   \n",
       "1  Within past year (anytime less than 12 months ...                Yes   \n",
       "2  Within past year (anytime less than 12 months ...                 No   \n",
       "3  Within past year (anytime less than 12 months ...                Yes   \n",
       "4  Within past year (anytime less than 12 months ...                Yes   \n",
       "\n",
       "   SleepHours            RemovedTeeth HadHeartAttack  ... HeightInMeters  \\\n",
       "0         9.0            None of them             No  ...           1.60   \n",
       "1         6.0            None of them             No  ...           1.78   \n",
       "2         8.0  6 or more, but not all             No  ...           1.85   \n",
       "3         9.0            None of them             No  ...           1.70   \n",
       "4         5.0                  1 to 5             No  ...           1.55   \n",
       "\n",
       "  WeightInKilograms    BMI AlcoholDrinkers HIVTesting FluVaxLast12  \\\n",
       "0             71.67  27.99              No         No          Yes   \n",
       "1             95.25  30.13              No         No          Yes   \n",
       "2            108.86  31.66             Yes         No           No   \n",
       "3             90.72  31.32              No         No          Yes   \n",
       "4             79.38  33.07              No         No          Yes   \n",
       "\n",
       "  PneumoVaxEver                                  TetanusLast10Tdap  \\\n",
       "0           Yes                                 Yes, received Tdap   \n",
       "1           Yes  Yes, received tetanus shot but not sure what type   \n",
       "2           Yes  No, did not receive any tetanus shot in the pa...   \n",
       "3           Yes  No, did not receive any tetanus shot in the pa...   \n",
       "4           Yes  No, did not receive any tetanus shot in the pa...   \n",
       "\n",
       "  HighRiskLastYear CovidPos  \n",
       "0               No       No  \n",
       "1               No       No  \n",
       "2               No      Yes  \n",
       "3               No      Yes  \n",
       "4               No       No  \n",
       "\n",
       "[5 rows x 40 columns]"
      ]
     },
     "execution_count": 2,
     "metadata": {},
     "output_type": "execute_result"
    }
   ],
   "source": [
    "# create path from CSV\n",
    "path = os.path.join(\"..\",\"cleaned_data\",\"heart_2022_no_nans.csv\")\n",
    "keyIndicators = pd.read_csv(path)\n",
    "keyIndicators.head()   "
   ]
  },
  {
   "cell_type": "code",
   "execution_count": 3,
   "id": "e9f7cbbe-8024-43e2-885b-72725b583334",
   "metadata": {
    "tags": []
   },
   "outputs": [
    {
     "data": {
      "text/plain": [
       "246022"
      ]
     },
     "execution_count": 3,
     "metadata": {},
     "output_type": "execute_result"
    }
   ],
   "source": [
    "rowCount1 = len(keyIndicators.index)\n",
    "rowCount1"
   ]
  },
  {
   "cell_type": "code",
   "execution_count": 4,
   "id": "30bfc013-8bc7-4347-b27e-3b4db509f3af",
   "metadata": {
    "tags": []
   },
   "outputs": [
    {
     "data": {
      "text/html": [
       "<div>\n",
       "<style scoped>\n",
       "    .dataframe tbody tr th:only-of-type {\n",
       "        vertical-align: middle;\n",
       "    }\n",
       "\n",
       "    .dataframe tbody tr th {\n",
       "        vertical-align: top;\n",
       "    }\n",
       "\n",
       "    .dataframe thead th {\n",
       "        text-align: right;\n",
       "    }\n",
       "</style>\n",
       "<table border=\"1\" class=\"dataframe\">\n",
       "  <thead>\n",
       "    <tr style=\"text-align: right;\">\n",
       "      <th></th>\n",
       "      <th>HadHeartAttack</th>\n",
       "      <th>GeneralHealth</th>\n",
       "      <th>PhysicalActivities</th>\n",
       "      <th>SleepHours</th>\n",
       "      <th>SmokerStatus</th>\n",
       "      <th>ECigaretteUsage</th>\n",
       "      <th>AlcoholDrinkers</th>\n",
       "    </tr>\n",
       "  </thead>\n",
       "  <tbody>\n",
       "    <tr>\n",
       "      <th>0</th>\n",
       "      <td>No</td>\n",
       "      <td>Very good</td>\n",
       "      <td>Yes</td>\n",
       "      <td>9.0</td>\n",
       "      <td>Former smoker</td>\n",
       "      <td>Never used e-cigarettes in my entire life</td>\n",
       "      <td>No</td>\n",
       "    </tr>\n",
       "    <tr>\n",
       "      <th>1</th>\n",
       "      <td>No</td>\n",
       "      <td>Very good</td>\n",
       "      <td>Yes</td>\n",
       "      <td>6.0</td>\n",
       "      <td>Former smoker</td>\n",
       "      <td>Never used e-cigarettes in my entire life</td>\n",
       "      <td>No</td>\n",
       "    </tr>\n",
       "    <tr>\n",
       "      <th>2</th>\n",
       "      <td>No</td>\n",
       "      <td>Very good</td>\n",
       "      <td>No</td>\n",
       "      <td>8.0</td>\n",
       "      <td>Former smoker</td>\n",
       "      <td>Never used e-cigarettes in my entire life</td>\n",
       "      <td>Yes</td>\n",
       "    </tr>\n",
       "    <tr>\n",
       "      <th>3</th>\n",
       "      <td>No</td>\n",
       "      <td>Fair</td>\n",
       "      <td>Yes</td>\n",
       "      <td>9.0</td>\n",
       "      <td>Never smoked</td>\n",
       "      <td>Never used e-cigarettes in my entire life</td>\n",
       "      <td>No</td>\n",
       "    </tr>\n",
       "    <tr>\n",
       "      <th>4</th>\n",
       "      <td>No</td>\n",
       "      <td>Good</td>\n",
       "      <td>Yes</td>\n",
       "      <td>5.0</td>\n",
       "      <td>Never smoked</td>\n",
       "      <td>Never used e-cigarettes in my entire life</td>\n",
       "      <td>No</td>\n",
       "    </tr>\n",
       "    <tr>\n",
       "      <th>...</th>\n",
       "      <td>...</td>\n",
       "      <td>...</td>\n",
       "      <td>...</td>\n",
       "      <td>...</td>\n",
       "      <td>...</td>\n",
       "      <td>...</td>\n",
       "      <td>...</td>\n",
       "    </tr>\n",
       "    <tr>\n",
       "      <th>246017</th>\n",
       "      <td>No</td>\n",
       "      <td>Very good</td>\n",
       "      <td>Yes</td>\n",
       "      <td>6.0</td>\n",
       "      <td>Never smoked</td>\n",
       "      <td>Never used e-cigarettes in my entire life</td>\n",
       "      <td>Yes</td>\n",
       "    </tr>\n",
       "    <tr>\n",
       "      <th>246018</th>\n",
       "      <td>No</td>\n",
       "      <td>Fair</td>\n",
       "      <td>Yes</td>\n",
       "      <td>7.0</td>\n",
       "      <td>Never smoked</td>\n",
       "      <td>Never used e-cigarettes in my entire life</td>\n",
       "      <td>No</td>\n",
       "    </tr>\n",
       "    <tr>\n",
       "      <th>246019</th>\n",
       "      <td>No</td>\n",
       "      <td>Good</td>\n",
       "      <td>Yes</td>\n",
       "      <td>7.0</td>\n",
       "      <td>Never smoked</td>\n",
       "      <td>Never used e-cigarettes in my entire life</td>\n",
       "      <td>Yes</td>\n",
       "    </tr>\n",
       "    <tr>\n",
       "      <th>246020</th>\n",
       "      <td>No</td>\n",
       "      <td>Excellent</td>\n",
       "      <td>Yes</td>\n",
       "      <td>7.0</td>\n",
       "      <td>Never smoked</td>\n",
       "      <td>Never used e-cigarettes in my entire life</td>\n",
       "      <td>No</td>\n",
       "    </tr>\n",
       "    <tr>\n",
       "      <th>246021</th>\n",
       "      <td>Yes</td>\n",
       "      <td>Very good</td>\n",
       "      <td>No</td>\n",
       "      <td>5.0</td>\n",
       "      <td>Never smoked</td>\n",
       "      <td>Never used e-cigarettes in my entire life</td>\n",
       "      <td>No</td>\n",
       "    </tr>\n",
       "  </tbody>\n",
       "</table>\n",
       "<p>246022 rows × 7 columns</p>\n",
       "</div>"
      ],
      "text/plain": [
       "       HadHeartAttack GeneralHealth PhysicalActivities  SleepHours  \\\n",
       "0                  No     Very good                Yes         9.0   \n",
       "1                  No     Very good                Yes         6.0   \n",
       "2                  No     Very good                 No         8.0   \n",
       "3                  No          Fair                Yes         9.0   \n",
       "4                  No          Good                Yes         5.0   \n",
       "...               ...           ...                ...         ...   \n",
       "246017             No     Very good                Yes         6.0   \n",
       "246018             No          Fair                Yes         7.0   \n",
       "246019             No          Good                Yes         7.0   \n",
       "246020             No     Excellent                Yes         7.0   \n",
       "246021            Yes     Very good                 No         5.0   \n",
       "\n",
       "         SmokerStatus                            ECigaretteUsage  \\\n",
       "0       Former smoker  Never used e-cigarettes in my entire life   \n",
       "1       Former smoker  Never used e-cigarettes in my entire life   \n",
       "2       Former smoker  Never used e-cigarettes in my entire life   \n",
       "3        Never smoked  Never used e-cigarettes in my entire life   \n",
       "4        Never smoked  Never used e-cigarettes in my entire life   \n",
       "...               ...                                        ...   \n",
       "246017   Never smoked  Never used e-cigarettes in my entire life   \n",
       "246018   Never smoked  Never used e-cigarettes in my entire life   \n",
       "246019   Never smoked  Never used e-cigarettes in my entire life   \n",
       "246020   Never smoked  Never used e-cigarettes in my entire life   \n",
       "246021   Never smoked  Never used e-cigarettes in my entire life   \n",
       "\n",
       "       AlcoholDrinkers  \n",
       "0                   No  \n",
       "1                   No  \n",
       "2                  Yes  \n",
       "3                   No  \n",
       "4                   No  \n",
       "...                ...  \n",
       "246017             Yes  \n",
       "246018              No  \n",
       "246019             Yes  \n",
       "246020              No  \n",
       "246021              No  \n",
       "\n",
       "[246022 rows x 7 columns]"
      ]
     },
     "execution_count": 4,
     "metadata": {},
     "output_type": "execute_result"
    }
   ],
   "source": [
    "lifestyleDF = keyIndicators.loc[:, [\"HadHeartAttack\",\"GeneralHealth\",\"PhysicalActivities\",\"SleepHours\",\"SmokerStatus\",\"ECigaretteUsage\",\"AlcoholDrinkers\"]]\n",
    "lifestyleDF"
   ]
  },
  {
   "cell_type": "markdown",
   "id": "d95a5d69-df8b-49cb-b547-1d5d6818f6f7",
   "metadata": {},
   "source": [
    "## Heart Disease"
   ]
  },
  {
   "cell_type": "code",
   "execution_count": 5,
   "id": "8551deb0-2bde-41f5-8c07-ed9e0fdebf15",
   "metadata": {
    "tags": []
   },
   "outputs": [
    {
     "data": {
      "text/html": [
       "<div>\n",
       "<style scoped>\n",
       "    .dataframe tbody tr th:only-of-type {\n",
       "        vertical-align: middle;\n",
       "    }\n",
       "\n",
       "    .dataframe tbody tr th {\n",
       "        vertical-align: top;\n",
       "    }\n",
       "\n",
       "    .dataframe thead th {\n",
       "        text-align: right;\n",
       "    }\n",
       "</style>\n",
       "<table border=\"1\" class=\"dataframe\">\n",
       "  <thead>\n",
       "    <tr style=\"text-align: right;\">\n",
       "      <th></th>\n",
       "      <th>HadHeartAttack</th>\n",
       "      <th>GeneralHealth</th>\n",
       "      <th>PhysicalActivities</th>\n",
       "      <th>SleepHours</th>\n",
       "      <th>SmokerStatus</th>\n",
       "      <th>ECigaretteUsage</th>\n",
       "      <th>AlcoholDrinkers</th>\n",
       "    </tr>\n",
       "  </thead>\n",
       "  <tbody>\n",
       "    <tr>\n",
       "      <th>0</th>\n",
       "      <td>No</td>\n",
       "      <td>Very good</td>\n",
       "      <td>Yes</td>\n",
       "      <td>9.0</td>\n",
       "      <td>Former smoker</td>\n",
       "      <td>Never used e-cigarettes in my entire life</td>\n",
       "      <td>No</td>\n",
       "    </tr>\n",
       "    <tr>\n",
       "      <th>1</th>\n",
       "      <td>No</td>\n",
       "      <td>Very good</td>\n",
       "      <td>Yes</td>\n",
       "      <td>6.0</td>\n",
       "      <td>Former smoker</td>\n",
       "      <td>Never used e-cigarettes in my entire life</td>\n",
       "      <td>No</td>\n",
       "    </tr>\n",
       "    <tr>\n",
       "      <th>2</th>\n",
       "      <td>No</td>\n",
       "      <td>Very good</td>\n",
       "      <td>No</td>\n",
       "      <td>8.0</td>\n",
       "      <td>Former smoker</td>\n",
       "      <td>Never used e-cigarettes in my entire life</td>\n",
       "      <td>Yes</td>\n",
       "    </tr>\n",
       "    <tr>\n",
       "      <th>3</th>\n",
       "      <td>No</td>\n",
       "      <td>Fair</td>\n",
       "      <td>Yes</td>\n",
       "      <td>9.0</td>\n",
       "      <td>Never smoked</td>\n",
       "      <td>Never used e-cigarettes in my entire life</td>\n",
       "      <td>No</td>\n",
       "    </tr>\n",
       "    <tr>\n",
       "      <th>4</th>\n",
       "      <td>No</td>\n",
       "      <td>Good</td>\n",
       "      <td>Yes</td>\n",
       "      <td>5.0</td>\n",
       "      <td>Never smoked</td>\n",
       "      <td>Never used e-cigarettes in my entire life</td>\n",
       "      <td>No</td>\n",
       "    </tr>\n",
       "  </tbody>\n",
       "</table>\n",
       "</div>"
      ],
      "text/plain": [
       "  HadHeartAttack GeneralHealth PhysicalActivities  SleepHours   SmokerStatus  \\\n",
       "0             No     Very good                Yes         9.0  Former smoker   \n",
       "1             No     Very good                Yes         6.0  Former smoker   \n",
       "2             No     Very good                 No         8.0  Former smoker   \n",
       "3             No          Fair                Yes         9.0   Never smoked   \n",
       "4             No          Good                Yes         5.0   Never smoked   \n",
       "\n",
       "                             ECigaretteUsage AlcoholDrinkers  \n",
       "0  Never used e-cigarettes in my entire life              No  \n",
       "1  Never used e-cigarettes in my entire life              No  \n",
       "2  Never used e-cigarettes in my entire life             Yes  \n",
       "3  Never used e-cigarettes in my entire life              No  \n",
       "4  Never used e-cigarettes in my entire life              No  "
      ]
     },
     "execution_count": 5,
     "metadata": {},
     "output_type": "execute_result"
    }
   ],
   "source": [
    "lifestyleDF.head()"
   ]
  },
  {
   "cell_type": "code",
   "execution_count": 6,
   "id": "9a715412-f9fe-41d9-af89-8bb65f9808d2",
   "metadata": {
    "tags": []
   },
   "outputs": [
    {
     "data": {
      "text/plain": [
       "array(['No', 'Yes'], dtype=object)"
      ]
     },
     "execution_count": 6,
     "metadata": {},
     "output_type": "execute_result"
    }
   ],
   "source": [
    "uniqueHD = lifestyleDF[\"HadHeartAttack\"].unique()\n",
    "uniqueHD"
   ]
  },
  {
   "cell_type": "code",
   "execution_count": 7,
   "id": "8f444591-7d88-42cb-9d36-fbfb4ddee451",
   "metadata": {
    "tags": []
   },
   "outputs": [
    {
     "data": {
      "text/plain": [
       "HadHeartAttack\n",
       "No     232587\n",
       "Yes     13435\n",
       "Name: count, dtype: int64"
      ]
     },
     "execution_count": 7,
     "metadata": {},
     "output_type": "execute_result"
    }
   ],
   "source": [
    "countHD = lifestyleDF[\"HadHeartAttack\"].value_counts()\n",
    "countHD"
   ]
  },
  {
   "cell_type": "code",
   "execution_count": 8,
   "id": "0f471338-4f55-4aad-96c0-5867bbc59a65",
   "metadata": {
    "tags": []
   },
   "outputs": [
    {
     "data": {
      "text/plain": [
       "246022"
      ]
     },
     "execution_count": 8,
     "metadata": {},
     "output_type": "execute_result"
    }
   ],
   "source": [
    "rowCount = len(lifestyleDF.index)\n",
    "rowCount"
   ]
  },
  {
   "cell_type": "code",
   "execution_count": 9,
   "id": "5648be3e-228e-4fd4-abda-5b1c9ffd1492",
   "metadata": {
    "tags": []
   },
   "outputs": [
    {
     "data": {
      "text/html": [
       "<div>\n",
       "<style scoped>\n",
       "    .dataframe tbody tr th:only-of-type {\n",
       "        vertical-align: middle;\n",
       "    }\n",
       "\n",
       "    .dataframe tbody tr th {\n",
       "        vertical-align: top;\n",
       "    }\n",
       "\n",
       "    .dataframe thead th {\n",
       "        text-align: right;\n",
       "    }\n",
       "</style>\n",
       "<table border=\"1\" class=\"dataframe\">\n",
       "  <thead>\n",
       "    <tr style=\"text-align: right;\">\n",
       "      <th></th>\n",
       "      <th>HadHeartAttack</th>\n",
       "      <th>GeneralHealth</th>\n",
       "      <th>PhysicalActivities</th>\n",
       "      <th>SleepHours</th>\n",
       "      <th>SmokerStatus</th>\n",
       "      <th>ECigaretteUsage</th>\n",
       "      <th>AlcoholDrinkers</th>\n",
       "    </tr>\n",
       "  </thead>\n",
       "  <tbody>\n",
       "    <tr>\n",
       "      <th>7</th>\n",
       "      <td>Yes</td>\n",
       "      <td>Fair</td>\n",
       "      <td>Yes</td>\n",
       "      <td>8.0</td>\n",
       "      <td>Never smoked</td>\n",
       "      <td>Never used e-cigarettes in my entire life</td>\n",
       "      <td>No</td>\n",
       "    </tr>\n",
       "    <tr>\n",
       "      <th>12</th>\n",
       "      <td>Yes</td>\n",
       "      <td>Good</td>\n",
       "      <td>Yes</td>\n",
       "      <td>5.0</td>\n",
       "      <td>Current smoker - now smokes every day</td>\n",
       "      <td>Use them some days</td>\n",
       "      <td>No</td>\n",
       "    </tr>\n",
       "    <tr>\n",
       "      <th>34</th>\n",
       "      <td>Yes</td>\n",
       "      <td>Good</td>\n",
       "      <td>Yes</td>\n",
       "      <td>6.0</td>\n",
       "      <td>Former smoker</td>\n",
       "      <td>Not at all (right now)</td>\n",
       "      <td>No</td>\n",
       "    </tr>\n",
       "    <tr>\n",
       "      <th>37</th>\n",
       "      <td>Yes</td>\n",
       "      <td>Good</td>\n",
       "      <td>Yes</td>\n",
       "      <td>5.0</td>\n",
       "      <td>Former smoker</td>\n",
       "      <td>Never used e-cigarettes in my entire life</td>\n",
       "      <td>No</td>\n",
       "    </tr>\n",
       "    <tr>\n",
       "      <th>43</th>\n",
       "      <td>Yes</td>\n",
       "      <td>Good</td>\n",
       "      <td>Yes</td>\n",
       "      <td>8.0</td>\n",
       "      <td>Never smoked</td>\n",
       "      <td>Never used e-cigarettes in my entire life</td>\n",
       "      <td>No</td>\n",
       "    </tr>\n",
       "  </tbody>\n",
       "</table>\n",
       "</div>"
      ],
      "text/plain": [
       "   HadHeartAttack GeneralHealth PhysicalActivities  SleepHours  \\\n",
       "7             Yes          Fair                Yes         8.0   \n",
       "12            Yes          Good                Yes         5.0   \n",
       "34            Yes          Good                Yes         6.0   \n",
       "37            Yes          Good                Yes         5.0   \n",
       "43            Yes          Good                Yes         8.0   \n",
       "\n",
       "                             SmokerStatus  \\\n",
       "7                            Never smoked   \n",
       "12  Current smoker - now smokes every day   \n",
       "34                          Former smoker   \n",
       "37                          Former smoker   \n",
       "43                           Never smoked   \n",
       "\n",
       "                              ECigaretteUsage AlcoholDrinkers  \n",
       "7   Never used e-cigarettes in my entire life              No  \n",
       "12                         Use them some days              No  \n",
       "34                     Not at all (right now)              No  \n",
       "37  Never used e-cigarettes in my entire life              No  \n",
       "43  Never used e-cigarettes in my entire life              No  "
      ]
     },
     "execution_count": 9,
     "metadata": {},
     "output_type": "execute_result"
    }
   ],
   "source": [
    "# positive heart disese results\n",
    "positiveHD = lifestyleDF.loc[(lifestyleDF['HadHeartAttack'] == 'Yes')]\n",
    "positiveHD.head()"
   ]
  },
  {
   "cell_type": "code",
   "execution_count": 10,
   "id": "b6812f3b-0450-4ff9-8e42-c863b23490f2",
   "metadata": {
    "tags": []
   },
   "outputs": [
    {
     "data": {
      "text/plain": [
       "13435"
      ]
     },
     "execution_count": 10,
     "metadata": {},
     "output_type": "execute_result"
    }
   ],
   "source": [
    "posRowCount = len(positiveHD.index)\n",
    "posRowCount"
   ]
  },
  {
   "cell_type": "code",
   "execution_count": 11,
   "id": "120c17f2-14f9-4a58-ae89-e33fa5c795f1",
   "metadata": {
    "tags": []
   },
   "outputs": [
    {
     "data": {
      "text/html": [
       "<div>\n",
       "<style scoped>\n",
       "    .dataframe tbody tr th:only-of-type {\n",
       "        vertical-align: middle;\n",
       "    }\n",
       "\n",
       "    .dataframe tbody tr th {\n",
       "        vertical-align: top;\n",
       "    }\n",
       "\n",
       "    .dataframe thead th {\n",
       "        text-align: right;\n",
       "    }\n",
       "</style>\n",
       "<table border=\"1\" class=\"dataframe\">\n",
       "  <thead>\n",
       "    <tr style=\"text-align: right;\">\n",
       "      <th></th>\n",
       "      <th>HadHeartAttack</th>\n",
       "      <th>GeneralHealth</th>\n",
       "      <th>PhysicalActivities</th>\n",
       "      <th>SleepHours</th>\n",
       "      <th>SmokerStatus</th>\n",
       "      <th>ECigaretteUsage</th>\n",
       "      <th>AlcoholDrinkers</th>\n",
       "    </tr>\n",
       "  </thead>\n",
       "  <tbody>\n",
       "    <tr>\n",
       "      <th>0</th>\n",
       "      <td>No</td>\n",
       "      <td>Very good</td>\n",
       "      <td>Yes</td>\n",
       "      <td>9.0</td>\n",
       "      <td>Former smoker</td>\n",
       "      <td>Never used e-cigarettes in my entire life</td>\n",
       "      <td>No</td>\n",
       "    </tr>\n",
       "    <tr>\n",
       "      <th>1</th>\n",
       "      <td>No</td>\n",
       "      <td>Very good</td>\n",
       "      <td>Yes</td>\n",
       "      <td>6.0</td>\n",
       "      <td>Former smoker</td>\n",
       "      <td>Never used e-cigarettes in my entire life</td>\n",
       "      <td>No</td>\n",
       "    </tr>\n",
       "    <tr>\n",
       "      <th>2</th>\n",
       "      <td>No</td>\n",
       "      <td>Very good</td>\n",
       "      <td>No</td>\n",
       "      <td>8.0</td>\n",
       "      <td>Former smoker</td>\n",
       "      <td>Never used e-cigarettes in my entire life</td>\n",
       "      <td>Yes</td>\n",
       "    </tr>\n",
       "    <tr>\n",
       "      <th>3</th>\n",
       "      <td>No</td>\n",
       "      <td>Fair</td>\n",
       "      <td>Yes</td>\n",
       "      <td>9.0</td>\n",
       "      <td>Never smoked</td>\n",
       "      <td>Never used e-cigarettes in my entire life</td>\n",
       "      <td>No</td>\n",
       "    </tr>\n",
       "    <tr>\n",
       "      <th>4</th>\n",
       "      <td>No</td>\n",
       "      <td>Good</td>\n",
       "      <td>Yes</td>\n",
       "      <td>5.0</td>\n",
       "      <td>Never smoked</td>\n",
       "      <td>Never used e-cigarettes in my entire life</td>\n",
       "      <td>No</td>\n",
       "    </tr>\n",
       "  </tbody>\n",
       "</table>\n",
       "</div>"
      ],
      "text/plain": [
       "  HadHeartAttack GeneralHealth PhysicalActivities  SleepHours   SmokerStatus  \\\n",
       "0             No     Very good                Yes         9.0  Former smoker   \n",
       "1             No     Very good                Yes         6.0  Former smoker   \n",
       "2             No     Very good                 No         8.0  Former smoker   \n",
       "3             No          Fair                Yes         9.0   Never smoked   \n",
       "4             No          Good                Yes         5.0   Never smoked   \n",
       "\n",
       "                             ECigaretteUsage AlcoholDrinkers  \n",
       "0  Never used e-cigarettes in my entire life              No  \n",
       "1  Never used e-cigarettes in my entire life              No  \n",
       "2  Never used e-cigarettes in my entire life             Yes  \n",
       "3  Never used e-cigarettes in my entire life              No  \n",
       "4  Never used e-cigarettes in my entire life              No  "
      ]
     },
     "execution_count": 11,
     "metadata": {},
     "output_type": "execute_result"
    }
   ],
   "source": [
    "# negative heart disease results\n",
    "negativeHD = lifestyleDF.loc[(lifestyleDF['HadHeartAttack'] == 'No')]\n",
    "negativeHD.head()"
   ]
  },
  {
   "cell_type": "code",
   "execution_count": 12,
   "id": "87afd5b7-691a-4f7e-b567-71da486a8845",
   "metadata": {
    "tags": []
   },
   "outputs": [
    {
     "data": {
      "text/plain": [
       "232587"
      ]
     },
     "execution_count": 12,
     "metadata": {},
     "output_type": "execute_result"
    }
   ],
   "source": [
    "negRowCount = len(negativeHD.index)\n",
    "negRowCount"
   ]
  },
  {
   "cell_type": "markdown",
   "id": "c700513d-f8e6-4864-8016-3b2ef7930dff",
   "metadata": {
    "tags": []
   },
   "source": [
    "## General Health Stats"
   ]
  },
  {
   "cell_type": "code",
   "execution_count": 13,
   "id": "c73fc6ff-15a3-4bc2-9fde-2084cab37e1e",
   "metadata": {
    "tags": []
   },
   "outputs": [],
   "source": [
    "# general health status of participants WITH heart diease"
   ]
  },
  {
   "cell_type": "code",
   "execution_count": 14,
   "id": "bfdb15e2-824f-44bc-86b0-2bb74fb60616",
   "metadata": {
    "tags": []
   },
   "outputs": [
    {
     "data": {
      "text/html": [
       "<div>\n",
       "<style scoped>\n",
       "    .dataframe tbody tr th:only-of-type {\n",
       "        vertical-align: middle;\n",
       "    }\n",
       "\n",
       "    .dataframe tbody tr th {\n",
       "        vertical-align: top;\n",
       "    }\n",
       "\n",
       "    .dataframe thead th {\n",
       "        text-align: right;\n",
       "    }\n",
       "</style>\n",
       "<table border=\"1\" class=\"dataframe\">\n",
       "  <thead>\n",
       "    <tr style=\"text-align: right;\">\n",
       "      <th></th>\n",
       "      <th>HadHeartAttack</th>\n",
       "      <th>GeneralHealth</th>\n",
       "      <th>PhysicalActivities</th>\n",
       "      <th>SleepHours</th>\n",
       "      <th>SmokerStatus</th>\n",
       "      <th>ECigaretteUsage</th>\n",
       "      <th>AlcoholDrinkers</th>\n",
       "    </tr>\n",
       "  </thead>\n",
       "  <tbody>\n",
       "    <tr>\n",
       "      <th>7</th>\n",
       "      <td>Yes</td>\n",
       "      <td>Fair</td>\n",
       "      <td>Yes</td>\n",
       "      <td>8.0</td>\n",
       "      <td>Never smoked</td>\n",
       "      <td>Never used e-cigarettes in my entire life</td>\n",
       "      <td>No</td>\n",
       "    </tr>\n",
       "    <tr>\n",
       "      <th>12</th>\n",
       "      <td>Yes</td>\n",
       "      <td>Good</td>\n",
       "      <td>Yes</td>\n",
       "      <td>5.0</td>\n",
       "      <td>Current smoker - now smokes every day</td>\n",
       "      <td>Use them some days</td>\n",
       "      <td>No</td>\n",
       "    </tr>\n",
       "    <tr>\n",
       "      <th>34</th>\n",
       "      <td>Yes</td>\n",
       "      <td>Good</td>\n",
       "      <td>Yes</td>\n",
       "      <td>6.0</td>\n",
       "      <td>Former smoker</td>\n",
       "      <td>Not at all (right now)</td>\n",
       "      <td>No</td>\n",
       "    </tr>\n",
       "    <tr>\n",
       "      <th>37</th>\n",
       "      <td>Yes</td>\n",
       "      <td>Good</td>\n",
       "      <td>Yes</td>\n",
       "      <td>5.0</td>\n",
       "      <td>Former smoker</td>\n",
       "      <td>Never used e-cigarettes in my entire life</td>\n",
       "      <td>No</td>\n",
       "    </tr>\n",
       "    <tr>\n",
       "      <th>43</th>\n",
       "      <td>Yes</td>\n",
       "      <td>Good</td>\n",
       "      <td>Yes</td>\n",
       "      <td>8.0</td>\n",
       "      <td>Never smoked</td>\n",
       "      <td>Never used e-cigarettes in my entire life</td>\n",
       "      <td>No</td>\n",
       "    </tr>\n",
       "  </tbody>\n",
       "</table>\n",
       "</div>"
      ],
      "text/plain": [
       "   HadHeartAttack GeneralHealth PhysicalActivities  SleepHours  \\\n",
       "7             Yes          Fair                Yes         8.0   \n",
       "12            Yes          Good                Yes         5.0   \n",
       "34            Yes          Good                Yes         6.0   \n",
       "37            Yes          Good                Yes         5.0   \n",
       "43            Yes          Good                Yes         8.0   \n",
       "\n",
       "                             SmokerStatus  \\\n",
       "7                            Never smoked   \n",
       "12  Current smoker - now smokes every day   \n",
       "34                          Former smoker   \n",
       "37                          Former smoker   \n",
       "43                           Never smoked   \n",
       "\n",
       "                              ECigaretteUsage AlcoholDrinkers  \n",
       "7   Never used e-cigarettes in my entire life              No  \n",
       "12                         Use them some days              No  \n",
       "34                     Not at all (right now)              No  \n",
       "37  Never used e-cigarettes in my entire life              No  \n",
       "43  Never used e-cigarettes in my entire life              No  "
      ]
     },
     "execution_count": 14,
     "metadata": {},
     "output_type": "execute_result"
    }
   ],
   "source": [
    "positiveHD.head()"
   ]
  },
  {
   "cell_type": "code",
   "execution_count": 15,
   "id": "51f62cfd-d40a-44d6-ac6a-511c19eeeae8",
   "metadata": {
    "tags": []
   },
   "outputs": [
    {
     "data": {
      "text/html": [
       "<div>\n",
       "<style scoped>\n",
       "    .dataframe tbody tr th:only-of-type {\n",
       "        vertical-align: middle;\n",
       "    }\n",
       "\n",
       "    .dataframe tbody tr th {\n",
       "        vertical-align: top;\n",
       "    }\n",
       "\n",
       "    .dataframe thead th {\n",
       "        text-align: right;\n",
       "    }\n",
       "</style>\n",
       "<table border=\"1\" class=\"dataframe\">\n",
       "  <thead>\n",
       "    <tr style=\"text-align: right;\">\n",
       "      <th></th>\n",
       "      <th>HadHeartAttack</th>\n",
       "      <th>GeneralHealth</th>\n",
       "    </tr>\n",
       "  </thead>\n",
       "  <tbody>\n",
       "    <tr>\n",
       "      <th>7</th>\n",
       "      <td>Yes</td>\n",
       "      <td>Fair</td>\n",
       "    </tr>\n",
       "    <tr>\n",
       "      <th>12</th>\n",
       "      <td>Yes</td>\n",
       "      <td>Good</td>\n",
       "    </tr>\n",
       "    <tr>\n",
       "      <th>34</th>\n",
       "      <td>Yes</td>\n",
       "      <td>Good</td>\n",
       "    </tr>\n",
       "    <tr>\n",
       "      <th>37</th>\n",
       "      <td>Yes</td>\n",
       "      <td>Good</td>\n",
       "    </tr>\n",
       "    <tr>\n",
       "      <th>43</th>\n",
       "      <td>Yes</td>\n",
       "      <td>Good</td>\n",
       "    </tr>\n",
       "  </tbody>\n",
       "</table>\n",
       "</div>"
      ],
      "text/plain": [
       "   HadHeartAttack GeneralHealth\n",
       "7             Yes          Fair\n",
       "12            Yes          Good\n",
       "34            Yes          Good\n",
       "37            Yes          Good\n",
       "43            Yes          Good"
      ]
     },
     "execution_count": 15,
     "metadata": {},
     "output_type": "execute_result"
    }
   ],
   "source": [
    "positiveHD[[\"HadHeartAttack\", \"GeneralHealth\"]].head()"
   ]
  },
  {
   "cell_type": "code",
   "execution_count": 16,
   "id": "0fa55d7d-a974-4600-a6c8-085bbbd648bf",
   "metadata": {
    "tags": []
   },
   "outputs": [
    {
     "data": {
      "text/plain": [
       "array(['Fair', 'Good', 'Very good', 'Poor', 'Excellent'], dtype=object)"
      ]
     },
     "execution_count": 16,
     "metadata": {},
     "output_type": "execute_result"
    }
   ],
   "source": [
    "uniqueGH = positiveHD[\"GeneralHealth\"].unique()\n",
    "uniqueGH"
   ]
  },
  {
   "cell_type": "code",
   "execution_count": 17,
   "id": "aab01ab9-5287-44bf-8666-c9da071bd5f3",
   "metadata": {
    "tags": []
   },
   "outputs": [
    {
     "data": {
      "text/plain": [
       "GeneralHealth\n",
       "Good         4599\n",
       "Fair         3748\n",
       "Very good    2470\n",
       "Poor         2024\n",
       "Excellent     594\n",
       "Name: count, dtype: int64"
      ]
     },
     "execution_count": 17,
     "metadata": {},
     "output_type": "execute_result"
    }
   ],
   "source": [
    "countGHpos = positiveHD[\"GeneralHealth\"].value_counts()\n",
    "countGHpos"
   ]
  },
  {
   "cell_type": "code",
   "execution_count": 18,
   "id": "b3efad32-dba6-4ddf-bb63-d1cf503afbc3",
   "metadata": {
    "tags": []
   },
   "outputs": [
    {
     "data": {
      "text/plain": [
       "4.421287681429103"
      ]
     },
     "execution_count": 18,
     "metadata": {},
     "output_type": "execute_result"
    }
   ],
   "source": [
    "# percentage of 'excellent' health responses from participants with heart disease\n",
    "excelGHcount = positiveHD[(positiveHD[\"GeneralHealth\"] == 'Excellent')].count()[\"HadHeartAttack\"]\n",
    "excelGHpercent = excelGHcount / float(posRowCount) * 100\n",
    "excelGHpercent"
   ]
  },
  {
   "cell_type": "code",
   "execution_count": 19,
   "id": "f8afed89-9584-445c-917c-2f370f7c5e3a",
   "metadata": {
    "tags": []
   },
   "outputs": [
    {
     "data": {
      "text/plain": [
       "15.065128395980649"
      ]
     },
     "execution_count": 19,
     "metadata": {},
     "output_type": "execute_result"
    }
   ],
   "source": [
    "# percentage of 'poor' health responses from participants with heart disease\n",
    "poorGHPosCount = positiveHD[(positiveHD[\"GeneralHealth\"] == 'Poor')].count()[\"HadHeartAttack\"]\n",
    "poorGHPosPercent = poorGHPosCount / float(posRowCount) * 100\n",
    "poorGHPosPercent"
   ]
  },
  {
   "cell_type": "code",
   "execution_count": 20,
   "id": "03af579e-78f5-4762-985a-605f2cd3abf6",
   "metadata": {
    "tags": []
   },
   "outputs": [],
   "source": [
    "# visualization of participants' general health WITH heart disease\n",
    "participants = [2470, 4599, 594, 3748, 2024]\n",
    "x_axis = np.arange(len(participants))"
   ]
  },
  {
   "cell_type": "code",
   "execution_count": 21,
   "id": "85c14cd0-4522-4a73-9c19-5f4048b6b6e2",
   "metadata": {
    "tags": []
   },
   "outputs": [
    {
     "data": {
      "text/plain": [
       "<BarContainer object of 5 artists>"
      ]
     },
     "execution_count": 21,
     "metadata": {},
     "output_type": "execute_result"
    },
    {
     "data": {
      "image/png": "[encoded data removed]",
      "text/plain": [
       "<Figure size 640x480 with 1 Axes>"
      ]
     },
     "metadata": {},
     "output_type": "display_data"
    }
   ],
   "source": [
    "tick_locations = [value for value in x_axis]\n",
    "plt.xticks(tick_locations, [\"Very Good\", \"Good\", \"Excellent\", \"Fair\", \"Poor\"])\n",
    "plt.xlim(-0.75, len(x_axis)-0.25)\n",
    "plt.ylim(0, max(participants)+5000)\n",
    "plt.title(\"General Health of Participants with Heart Disease\")\n",
    "plt.xlabel(\"General Health Status\")\n",
    "plt.ylabel(\"Number of Participants with Heart Disease\")\n",
    "path = os.path.join(\"..\",\"visualizations\",\"General Health of Participants with Heart Disease\")\n",
    "plt.savefig(path)\n",
    "plt.bar(x_axis, participants, color=\"c\", align=\"center\")"
   ]
  },
  {
   "cell_type": "code",
   "execution_count": 22,
   "id": "669b7651-1085-496b-9762-584dbb2fa9ec",
   "metadata": {
    "tags": []
   },
   "outputs": [],
   "source": [
    "# general health status of participants WITHOUT heart diease"
   ]
  },
  {
   "cell_type": "code",
   "execution_count": 23,
   "id": "28f42f01-9ef6-4a74-b90d-9cddc5aa8508",
   "metadata": {
    "tags": []
   },
   "outputs": [
    {
     "data": {
      "text/html": [
       "<div>\n",
       "<style scoped>\n",
       "    .dataframe tbody tr th:only-of-type {\n",
       "        vertical-align: middle;\n",
       "    }\n",
       "\n",
       "    .dataframe tbody tr th {\n",
       "        vertical-align: top;\n",
       "    }\n",
       "\n",
       "    .dataframe thead th {\n",
       "        text-align: right;\n",
       "    }\n",
       "</style>\n",
       "<table border=\"1\" class=\"dataframe\">\n",
       "  <thead>\n",
       "    <tr style=\"text-align: right;\">\n",
       "      <th></th>\n",
       "      <th>HadHeartAttack</th>\n",
       "      <th>GeneralHealth</th>\n",
       "      <th>PhysicalActivities</th>\n",
       "      <th>SleepHours</th>\n",
       "      <th>SmokerStatus</th>\n",
       "      <th>ECigaretteUsage</th>\n",
       "      <th>AlcoholDrinkers</th>\n",
       "    </tr>\n",
       "  </thead>\n",
       "  <tbody>\n",
       "    <tr>\n",
       "      <th>0</th>\n",
       "      <td>No</td>\n",
       "      <td>Very good</td>\n",
       "      <td>Yes</td>\n",
       "      <td>9.0</td>\n",
       "      <td>Former smoker</td>\n",
       "      <td>Never used e-cigarettes in my entire life</td>\n",
       "      <td>No</td>\n",
       "    </tr>\n",
       "    <tr>\n",
       "      <th>1</th>\n",
       "      <td>No</td>\n",
       "      <td>Very good</td>\n",
       "      <td>Yes</td>\n",
       "      <td>6.0</td>\n",
       "      <td>Former smoker</td>\n",
       "      <td>Never used e-cigarettes in my entire life</td>\n",
       "      <td>No</td>\n",
       "    </tr>\n",
       "    <tr>\n",
       "      <th>2</th>\n",
       "      <td>No</td>\n",
       "      <td>Very good</td>\n",
       "      <td>No</td>\n",
       "      <td>8.0</td>\n",
       "      <td>Former smoker</td>\n",
       "      <td>Never used e-cigarettes in my entire life</td>\n",
       "      <td>Yes</td>\n",
       "    </tr>\n",
       "    <tr>\n",
       "      <th>3</th>\n",
       "      <td>No</td>\n",
       "      <td>Fair</td>\n",
       "      <td>Yes</td>\n",
       "      <td>9.0</td>\n",
       "      <td>Never smoked</td>\n",
       "      <td>Never used e-cigarettes in my entire life</td>\n",
       "      <td>No</td>\n",
       "    </tr>\n",
       "    <tr>\n",
       "      <th>4</th>\n",
       "      <td>No</td>\n",
       "      <td>Good</td>\n",
       "      <td>Yes</td>\n",
       "      <td>5.0</td>\n",
       "      <td>Never smoked</td>\n",
       "      <td>Never used e-cigarettes in my entire life</td>\n",
       "      <td>No</td>\n",
       "    </tr>\n",
       "  </tbody>\n",
       "</table>\n",
       "</div>"
      ],
      "text/plain": [
       "  HadHeartAttack GeneralHealth PhysicalActivities  SleepHours   SmokerStatus  \\\n",
       "0             No     Very good                Yes         9.0  Former smoker   \n",
       "1             No     Very good                Yes         6.0  Former smoker   \n",
       "2             No     Very good                 No         8.0  Former smoker   \n",
       "3             No          Fair                Yes         9.0   Never smoked   \n",
       "4             No          Good                Yes         5.0   Never smoked   \n",
       "\n",
       "                             ECigaretteUsage AlcoholDrinkers  \n",
       "0  Never used e-cigarettes in my entire life              No  \n",
       "1  Never used e-cigarettes in my entire life              No  \n",
       "2  Never used e-cigarettes in my entire life             Yes  \n",
       "3  Never used e-cigarettes in my entire life              No  \n",
       "4  Never used e-cigarettes in my entire life              No  "
      ]
     },
     "execution_count": 23,
     "metadata": {},
     "output_type": "execute_result"
    }
   ],
   "source": [
    "negativeHD.head()"
   ]
  },
  {
   "cell_type": "code",
   "execution_count": 24,
   "id": "09f4d775-5381-4e3d-aae6-33e38bb7856d",
   "metadata": {
    "tags": []
   },
   "outputs": [
    {
     "data": {
      "text/html": [
       "<div>\n",
       "<style scoped>\n",
       "    .dataframe tbody tr th:only-of-type {\n",
       "        vertical-align: middle;\n",
       "    }\n",
       "\n",
       "    .dataframe tbody tr th {\n",
       "        vertical-align: top;\n",
       "    }\n",
       "\n",
       "    .dataframe thead th {\n",
       "        text-align: right;\n",
       "    }\n",
       "</style>\n",
       "<table border=\"1\" class=\"dataframe\">\n",
       "  <thead>\n",
       "    <tr style=\"text-align: right;\">\n",
       "      <th></th>\n",
       "      <th>HadHeartAttack</th>\n",
       "      <th>GeneralHealth</th>\n",
       "    </tr>\n",
       "  </thead>\n",
       "  <tbody>\n",
       "    <tr>\n",
       "      <th>0</th>\n",
       "      <td>No</td>\n",
       "      <td>Very good</td>\n",
       "    </tr>\n",
       "    <tr>\n",
       "      <th>1</th>\n",
       "      <td>No</td>\n",
       "      <td>Very good</td>\n",
       "    </tr>\n",
       "    <tr>\n",
       "      <th>2</th>\n",
       "      <td>No</td>\n",
       "      <td>Very good</td>\n",
       "    </tr>\n",
       "    <tr>\n",
       "      <th>3</th>\n",
       "      <td>No</td>\n",
       "      <td>Fair</td>\n",
       "    </tr>\n",
       "    <tr>\n",
       "      <th>4</th>\n",
       "      <td>No</td>\n",
       "      <td>Good</td>\n",
       "    </tr>\n",
       "  </tbody>\n",
       "</table>\n",
       "</div>"
      ],
      "text/plain": [
       "  HadHeartAttack GeneralHealth\n",
       "0             No     Very good\n",
       "1             No     Very good\n",
       "2             No     Very good\n",
       "3             No          Fair\n",
       "4             No          Good"
      ]
     },
     "execution_count": 24,
     "metadata": {},
     "output_type": "execute_result"
    }
   ],
   "source": [
    "negativeHD[[\"HadHeartAttack\", \"GeneralHealth\"]].head()"
   ]
  },
  {
   "cell_type": "code",
   "execution_count": 25,
   "id": "ef65d8f5-5b44-4824-b452-912ae930324a",
   "metadata": {
    "tags": []
   },
   "outputs": [
    {
     "data": {
      "text/plain": [
       "GeneralHealth\n",
       "Very good    84529\n",
       "Good         72810\n",
       "Excellent    40931\n",
       "Fair         26911\n",
       "Poor          7406\n",
       "Name: count, dtype: int64"
      ]
     },
     "execution_count": 25,
     "metadata": {},
     "output_type": "execute_result"
    }
   ],
   "source": [
    "countGHneg = negativeHD[\"GeneralHealth\"].value_counts()\n",
    "countGHneg"
   ]
  },
  {
   "cell_type": "code",
   "execution_count": 26,
   "id": "510e2ff0-ada9-4149-a377-c6f702026979",
   "metadata": {
    "tags": []
   },
   "outputs": [
    {
     "data": {
      "text/plain": [
       "17.598146070072705"
      ]
     },
     "execution_count": 26,
     "metadata": {},
     "output_type": "execute_result"
    }
   ],
   "source": [
    "# percentage of 'excellent' health responses from participants without heart disease\n",
    "excelGHNegCount = negativeHD[(negativeHD[\"GeneralHealth\"] == 'Excellent')].count()[\"HadHeartAttack\"]\n",
    "excelGHNegPercent = excelGHNegCount / float(negRowCount) * 100\n",
    "excelGHNegPercent"
   ]
  },
  {
   "cell_type": "code",
   "execution_count": 27,
   "id": "df19d1b3-3b88-4af2-b4aa-956a975db854",
   "metadata": {
    "tags": []
   },
   "outputs": [
    {
     "data": {
      "text/plain": [
       "3.184184842661026"
      ]
     },
     "execution_count": 27,
     "metadata": {},
     "output_type": "execute_result"
    }
   ],
   "source": [
    "# percentage of 'poor' health responses from participants without heart disease\n",
    "poorGHNegCount = negativeHD[(negativeHD[\"GeneralHealth\"] == 'Poor')].count()[\"HadHeartAttack\"]\n",
    "poorGHNegPercent = poorGHNegCount / float(negRowCount) * 100\n",
    "poorGHNegPercent"
   ]
  },
  {
   "cell_type": "code",
   "execution_count": 28,
   "id": "810755af-44c9-48aa-a73d-4934148fed25",
   "metadata": {},
   "outputs": [],
   "source": [
    "# visualization of participants' general health WITHOUT heart disease\n",
    "participants = [84529, 72810, 40931, 26911, 7406]\n",
    "x_axis = np.arange(len(participants))"
   ]
  },
  {
   "cell_type": "code",
   "execution_count": 29,
   "id": "2c4e62c1-8e73-444b-8987-1031735233d5",
   "metadata": {},
   "outputs": [
    {
     "data": {
      "image/png": "[encoded data removed]",
      "text/plain": [
       "<Figure size 640x480 with 1 Axes>"
      ]
     },
     "metadata": {},
     "output_type": "display_data"
    }
   ],
   "source": [
    "tick_locations = [value for value in x_axis]\n",
    "plt.xticks(tick_locations, [\"Very Good\", \"Good\", \"Excellent\", \"Fair\", \"Poor\"])\n",
    "plt.xlim(-0.75, len(x_axis)-0.25)\n",
    "plt.ylim(0, max(participants)+5000)\n",
    "plt.title(\"General Health of Participants without Heart Disease\")\n",
    "plt.xlabel(\"General Health Status\")\n",
    "plt.ylabel(\"Number of Participants with Heart Disease\")\n",
    "plt.bar(x_axis, participants, color=\"y\", align=\"center\")\n",
    "path = os.path.join(\"..\",\"visualizations\",\"General Health of Participants without Heart Disease\")\n",
    "plt.savefig(path)"
   ]
  },
  {
   "cell_type": "code",
   "execution_count": 30,
   "id": "16340c0f-4bc1-4dd7-a586-4228dfe7fc96",
   "metadata": {
    "tags": []
   },
   "outputs": [
    {
     "data": {
      "image/png": "[encoded data removed]",
      "text/plain": [
       "<Figure size 640x480 with 1 Axes>"
      ]
     },
     "metadata": {},
     "output_type": "display_data"
    }
   ],
   "source": [
    "# comparison of general health status for those with and without heart disease\n",
    "status = [\"Very Good\", \"Good\", \"Excellent\", \"Fair\", \"Poor\"] \n",
    "Ypos = [2470, 4599, 594, 3748, 2024]\n",
    "Zneg = [84529, 72810, 40931, 26911, 7406] \n",
    "  \n",
    "X_axis = np.arange(len(status)) \n",
    "  \n",
    "plt.bar(X_axis - 0.2, Ypos, 0.5, color=\"c\", label = \"Heart Disease\") \n",
    "plt.bar(X_axis + 0.2, Zneg, 0.5, color=\"y\", label = \"No Heart Disese\") \n",
    "  \n",
    "plt.xticks(X_axis, [\"Very Good\", \"Good\", \"Excellent\", \"Fair\", \"Poor\"])\n",
    "plt.xlabel(\"General Health Status\") \n",
    "plt.ylabel(\"Participants\") \n",
    "plt.title(\"General Health Status of Participants\") \n",
    "plt.legend() \n",
    "path = os.path.join(\"..\",\"visualizations\",\"General Health Status of Participants\")\n",
    "plt.savefig(path)\n",
    "plt.show() "
   ]
  },
  {
   "cell_type": "markdown",
   "id": "cae26bca-9d56-4c52-bd4a-138bb3d18a8b",
   "metadata": {
    "tags": []
   },
   "source": [
    "## Physical Activity"
   ]
  },
  {
   "cell_type": "code",
   "execution_count": 31,
   "id": "40fc558e-c0d5-4a8a-bab1-785c19b3296a",
   "metadata": {
    "tags": []
   },
   "outputs": [
    {
     "data": {
      "text/html": [
       "<div>\n",
       "<style scoped>\n",
       "    .dataframe tbody tr th:only-of-type {\n",
       "        vertical-align: middle;\n",
       "    }\n",
       "\n",
       "    .dataframe tbody tr th {\n",
       "        vertical-align: top;\n",
       "    }\n",
       "\n",
       "    .dataframe thead th {\n",
       "        text-align: right;\n",
       "    }\n",
       "</style>\n",
       "<table border=\"1\" class=\"dataframe\">\n",
       "  <thead>\n",
       "    <tr style=\"text-align: right;\">\n",
       "      <th></th>\n",
       "      <th>HadHeartAttack</th>\n",
       "      <th>GeneralHealth</th>\n",
       "      <th>PhysicalActivities</th>\n",
       "      <th>SleepHours</th>\n",
       "      <th>SmokerStatus</th>\n",
       "      <th>ECigaretteUsage</th>\n",
       "      <th>AlcoholDrinkers</th>\n",
       "    </tr>\n",
       "  </thead>\n",
       "  <tbody>\n",
       "    <tr>\n",
       "      <th>7</th>\n",
       "      <td>Yes</td>\n",
       "      <td>Fair</td>\n",
       "      <td>Yes</td>\n",
       "      <td>8.0</td>\n",
       "      <td>Never smoked</td>\n",
       "      <td>Never used e-cigarettes in my entire life</td>\n",
       "      <td>No</td>\n",
       "    </tr>\n",
       "    <tr>\n",
       "      <th>12</th>\n",
       "      <td>Yes</td>\n",
       "      <td>Good</td>\n",
       "      <td>Yes</td>\n",
       "      <td>5.0</td>\n",
       "      <td>Current smoker - now smokes every day</td>\n",
       "      <td>Use them some days</td>\n",
       "      <td>No</td>\n",
       "    </tr>\n",
       "    <tr>\n",
       "      <th>34</th>\n",
       "      <td>Yes</td>\n",
       "      <td>Good</td>\n",
       "      <td>Yes</td>\n",
       "      <td>6.0</td>\n",
       "      <td>Former smoker</td>\n",
       "      <td>Not at all (right now)</td>\n",
       "      <td>No</td>\n",
       "    </tr>\n",
       "    <tr>\n",
       "      <th>37</th>\n",
       "      <td>Yes</td>\n",
       "      <td>Good</td>\n",
       "      <td>Yes</td>\n",
       "      <td>5.0</td>\n",
       "      <td>Former smoker</td>\n",
       "      <td>Never used e-cigarettes in my entire life</td>\n",
       "      <td>No</td>\n",
       "    </tr>\n",
       "    <tr>\n",
       "      <th>43</th>\n",
       "      <td>Yes</td>\n",
       "      <td>Good</td>\n",
       "      <td>Yes</td>\n",
       "      <td>8.0</td>\n",
       "      <td>Never smoked</td>\n",
       "      <td>Never used e-cigarettes in my entire life</td>\n",
       "      <td>No</td>\n",
       "    </tr>\n",
       "  </tbody>\n",
       "</table>\n",
       "</div>"
      ],
      "text/plain": [
       "   HadHeartAttack GeneralHealth PhysicalActivities  SleepHours  \\\n",
       "7             Yes          Fair                Yes         8.0   \n",
       "12            Yes          Good                Yes         5.0   \n",
       "34            Yes          Good                Yes         6.0   \n",
       "37            Yes          Good                Yes         5.0   \n",
       "43            Yes          Good                Yes         8.0   \n",
       "\n",
       "                             SmokerStatus  \\\n",
       "7                            Never smoked   \n",
       "12  Current smoker - now smokes every day   \n",
       "34                          Former smoker   \n",
       "37                          Former smoker   \n",
       "43                           Never smoked   \n",
       "\n",
       "                              ECigaretteUsage AlcoholDrinkers  \n",
       "7   Never used e-cigarettes in my entire life              No  \n",
       "12                         Use them some days              No  \n",
       "34                     Not at all (right now)              No  \n",
       "37  Never used e-cigarettes in my entire life              No  \n",
       "43  Never used e-cigarettes in my entire life              No  "
      ]
     },
     "execution_count": 31,
     "metadata": {},
     "output_type": "execute_result"
    }
   ],
   "source": [
    "# physical activity status of participants WITH heart diease\n",
    "positiveHD.head()"
   ]
  },
  {
   "cell_type": "code",
   "execution_count": 32,
   "id": "2d85ae8d-de6f-4123-b37a-0d6dcd6bb06e",
   "metadata": {
    "tags": []
   },
   "outputs": [
    {
     "data": {
      "text/html": [
       "<div>\n",
       "<style scoped>\n",
       "    .dataframe tbody tr th:only-of-type {\n",
       "        vertical-align: middle;\n",
       "    }\n",
       "\n",
       "    .dataframe tbody tr th {\n",
       "        vertical-align: top;\n",
       "    }\n",
       "\n",
       "    .dataframe thead th {\n",
       "        text-align: right;\n",
       "    }\n",
       "</style>\n",
       "<table border=\"1\" class=\"dataframe\">\n",
       "  <thead>\n",
       "    <tr style=\"text-align: right;\">\n",
       "      <th></th>\n",
       "      <th>HadHeartAttack</th>\n",
       "      <th>PhysicalActivities</th>\n",
       "    </tr>\n",
       "  </thead>\n",
       "  <tbody>\n",
       "    <tr>\n",
       "      <th>7</th>\n",
       "      <td>Yes</td>\n",
       "      <td>Yes</td>\n",
       "    </tr>\n",
       "    <tr>\n",
       "      <th>12</th>\n",
       "      <td>Yes</td>\n",
       "      <td>Yes</td>\n",
       "    </tr>\n",
       "    <tr>\n",
       "      <th>34</th>\n",
       "      <td>Yes</td>\n",
       "      <td>Yes</td>\n",
       "    </tr>\n",
       "    <tr>\n",
       "      <th>37</th>\n",
       "      <td>Yes</td>\n",
       "      <td>Yes</td>\n",
       "    </tr>\n",
       "    <tr>\n",
       "      <th>43</th>\n",
       "      <td>Yes</td>\n",
       "      <td>Yes</td>\n",
       "    </tr>\n",
       "  </tbody>\n",
       "</table>\n",
       "</div>"
      ],
      "text/plain": [
       "   HadHeartAttack PhysicalActivities\n",
       "7             Yes                Yes\n",
       "12            Yes                Yes\n",
       "34            Yes                Yes\n",
       "37            Yes                Yes\n",
       "43            Yes                Yes"
      ]
     },
     "execution_count": 32,
     "metadata": {},
     "output_type": "execute_result"
    }
   ],
   "source": [
    "positiveHD[[\"HadHeartAttack\", \"PhysicalActivities\"]].head()"
   ]
  },
  {
   "cell_type": "code",
   "execution_count": 33,
   "id": "5aeece88-4e7d-4d38-b920-e95a3860f922",
   "metadata": {
    "tags": []
   },
   "outputs": [
    {
     "data": {
      "text/plain": [
       "array(['Yes', 'No'], dtype=object)"
      ]
     },
     "execution_count": 33,
     "metadata": {},
     "output_type": "execute_result"
    }
   ],
   "source": [
    "uniquePA = positiveHD[\"PhysicalActivities\"].unique()\n",
    "uniquePA"
   ]
  },
  {
   "cell_type": "code",
   "execution_count": 34,
   "id": "2de8d072-8702-4de5-ac32-46b56e2167bc",
   "metadata": {},
   "outputs": [
    {
     "data": {
      "text/plain": [
       "PhysicalActivities\n",
       "Yes    8514\n",
       "No     4921\n",
       "Name: count, dtype: int64"
      ]
     },
     "execution_count": 34,
     "metadata": {},
     "output_type": "execute_result"
    }
   ],
   "source": [
    "countPA = positiveHD[\"PhysicalActivities\"].value_counts()\n",
    "countPA"
   ]
  },
  {
   "cell_type": "code",
   "execution_count": 35,
   "id": "f4ecd631-6b5c-41b7-a2dc-c3e46cc1e841",
   "metadata": {
    "tags": []
   },
   "outputs": [
    {
     "data": {
      "text/plain": [
       "13435"
      ]
     },
     "execution_count": 35,
     "metadata": {},
     "output_type": "execute_result"
    }
   ],
   "source": [
    "rowCount = len(positiveHD.index)\n",
    "rowCount"
   ]
  },
  {
   "cell_type": "code",
   "execution_count": 36,
   "id": "742ab4d9-eb11-4c4d-95fa-9394aa8717b5",
   "metadata": {
    "tags": []
   },
   "outputs": [
    {
     "name": "stdout",
     "output_type": "stream",
     "text": [
      "63.371790100483814\n",
      "36.56122069222181\n"
     ]
    }
   ],
   "source": [
    "posPApercentYes = 8514/13435 *100\n",
    "posPApercentNo = 4912/13435 *100\n",
    "print(posPApercentYes)\n",
    "print(posPApercentNo)"
   ]
  },
  {
   "cell_type": "code",
   "execution_count": 37,
   "id": "c5124431-0631-4052-8002-256b11e9eeb3",
   "metadata": {
    "tags": []
   },
   "outputs": [
    {
     "data": {
      "text/plain": [
       "63.371790100483814"
      ]
     },
     "execution_count": 37,
     "metadata": {},
     "output_type": "execute_result"
    }
   ],
   "source": [
    "# percentage of 'physically active' responses from participants with heart disease\n",
    "activePosCount = positiveHD[(positiveHD[\"PhysicalActivities\"] == 'Yes')].count()[\"HadHeartAttack\"]\n",
    "activePosPercent = activePosCount / float(posRowCount) * 100\n",
    "activePosPercent"
   ]
  },
  {
   "cell_type": "code",
   "execution_count": 38,
   "id": "018c6443-3d8f-496b-ac9d-ec421e50e97e",
   "metadata": {
    "tags": []
   },
   "outputs": [
    {
     "data": {
      "text/plain": [
       "36.62820989951619"
      ]
     },
     "execution_count": 38,
     "metadata": {},
     "output_type": "execute_result"
    }
   ],
   "source": [
    "# percentage of 'not physically active' responses from participants with heart disease\n",
    "notActivePosCount = positiveHD[(positiveHD[\"PhysicalActivities\"] == 'No')].count()[\"HadHeartAttack\"]\n",
    "notActivePosPercent = notActivePosCount / float(posRowCount) * 100\n",
    "notActivePosPercent"
   ]
  },
  {
   "cell_type": "code",
   "execution_count": 39,
   "id": "cce364a0-defa-49b7-b571-dbafcadf7855",
   "metadata": {
    "tags": []
   },
   "outputs": [
    {
     "data": {
      "image/png": "[encoded data removed]",
      "text/plain": [
       "<Figure size 640x480 with 1 Axes>"
      ]
     },
     "metadata": {},
     "output_type": "display_data"
    }
   ],
   "source": [
    "# visualization of participants WITH heart disease and corresponding physical activity status\n",
    "labels = [\"Physical Activities\", \"No Physical Activities\"]\n",
    "sizes = [8514, 4921]\n",
    "colors = [\"orchid\", \"gold\"]\n",
    "plt.pie(sizes, labels=labels, colors=colors,\n",
    "        autopct=\"%1.1f%%\", shadow=True, startangle=140)\n",
    "plt.axis(\"equal\")\n",
    "plt.title(\"Physical Activity in Participants with Heart Disease\")\n",
    "path = os.path.join(\"..\",\"visualizations\",\"Physical Activity in Participants with Heart Disease\")\n",
    "plt.savefig(path)\n",
    "plt.show()"
   ]
  },
  {
   "cell_type": "code",
   "execution_count": 40,
   "id": "ff3515d2-5f01-4ad3-bdf5-f5ae375d085a",
   "metadata": {
    "tags": []
   },
   "outputs": [
    {
     "data": {
      "text/html": [
       "<div>\n",
       "<style scoped>\n",
       "    .dataframe tbody tr th:only-of-type {\n",
       "        vertical-align: middle;\n",
       "    }\n",
       "\n",
       "    .dataframe tbody tr th {\n",
       "        vertical-align: top;\n",
       "    }\n",
       "\n",
       "    .dataframe thead th {\n",
       "        text-align: right;\n",
       "    }\n",
       "</style>\n",
       "<table border=\"1\" class=\"dataframe\">\n",
       "  <thead>\n",
       "    <tr style=\"text-align: right;\">\n",
       "      <th></th>\n",
       "      <th>HadHeartAttack</th>\n",
       "      <th>GeneralHealth</th>\n",
       "      <th>PhysicalActivities</th>\n",
       "      <th>SleepHours</th>\n",
       "      <th>SmokerStatus</th>\n",
       "      <th>ECigaretteUsage</th>\n",
       "      <th>AlcoholDrinkers</th>\n",
       "    </tr>\n",
       "  </thead>\n",
       "  <tbody>\n",
       "    <tr>\n",
       "      <th>0</th>\n",
       "      <td>No</td>\n",
       "      <td>Very good</td>\n",
       "      <td>Yes</td>\n",
       "      <td>9.0</td>\n",
       "      <td>Former smoker</td>\n",
       "      <td>Never used e-cigarettes in my entire life</td>\n",
       "      <td>No</td>\n",
       "    </tr>\n",
       "    <tr>\n",
       "      <th>1</th>\n",
       "      <td>No</td>\n",
       "      <td>Very good</td>\n",
       "      <td>Yes</td>\n",
       "      <td>6.0</td>\n",
       "      <td>Former smoker</td>\n",
       "      <td>Never used e-cigarettes in my entire life</td>\n",
       "      <td>No</td>\n",
       "    </tr>\n",
       "    <tr>\n",
       "      <th>2</th>\n",
       "      <td>No</td>\n",
       "      <td>Very good</td>\n",
       "      <td>No</td>\n",
       "      <td>8.0</td>\n",
       "      <td>Former smoker</td>\n",
       "      <td>Never used e-cigarettes in my entire life</td>\n",
       "      <td>Yes</td>\n",
       "    </tr>\n",
       "    <tr>\n",
       "      <th>3</th>\n",
       "      <td>No</td>\n",
       "      <td>Fair</td>\n",
       "      <td>Yes</td>\n",
       "      <td>9.0</td>\n",
       "      <td>Never smoked</td>\n",
       "      <td>Never used e-cigarettes in my entire life</td>\n",
       "      <td>No</td>\n",
       "    </tr>\n",
       "    <tr>\n",
       "      <th>4</th>\n",
       "      <td>No</td>\n",
       "      <td>Good</td>\n",
       "      <td>Yes</td>\n",
       "      <td>5.0</td>\n",
       "      <td>Never smoked</td>\n",
       "      <td>Never used e-cigarettes in my entire life</td>\n",
       "      <td>No</td>\n",
       "    </tr>\n",
       "  </tbody>\n",
       "</table>\n",
       "</div>"
      ],
      "text/plain": [
       "  HadHeartAttack GeneralHealth PhysicalActivities  SleepHours   SmokerStatus  \\\n",
       "0             No     Very good                Yes         9.0  Former smoker   \n",
       "1             No     Very good                Yes         6.0  Former smoker   \n",
       "2             No     Very good                 No         8.0  Former smoker   \n",
       "3             No          Fair                Yes         9.0   Never smoked   \n",
       "4             No          Good                Yes         5.0   Never smoked   \n",
       "\n",
       "                             ECigaretteUsage AlcoholDrinkers  \n",
       "0  Never used e-cigarettes in my entire life              No  \n",
       "1  Never used e-cigarettes in my entire life              No  \n",
       "2  Never used e-cigarettes in my entire life             Yes  \n",
       "3  Never used e-cigarettes in my entire life              No  \n",
       "4  Never used e-cigarettes in my entire life              No  "
      ]
     },
     "execution_count": 40,
     "metadata": {},
     "output_type": "execute_result"
    }
   ],
   "source": [
    "# physical status of participants WITHOUT heart diease\n",
    "negativeHD.head()"
   ]
  },
  {
   "cell_type": "code",
   "execution_count": 41,
   "id": "35ad37d3-fef0-4127-8338-282cc8826b79",
   "metadata": {
    "tags": []
   },
   "outputs": [
    {
     "data": {
      "text/html": [
       "<div>\n",
       "<style scoped>\n",
       "    .dataframe tbody tr th:only-of-type {\n",
       "        vertical-align: middle;\n",
       "    }\n",
       "\n",
       "    .dataframe tbody tr th {\n",
       "        vertical-align: top;\n",
       "    }\n",
       "\n",
       "    .dataframe thead th {\n",
       "        text-align: right;\n",
       "    }\n",
       "</style>\n",
       "<table border=\"1\" class=\"dataframe\">\n",
       "  <thead>\n",
       "    <tr style=\"text-align: right;\">\n",
       "      <th></th>\n",
       "      <th>HadHeartAttack</th>\n",
       "      <th>PhysicalActivities</th>\n",
       "    </tr>\n",
       "  </thead>\n",
       "  <tbody>\n",
       "    <tr>\n",
       "      <th>0</th>\n",
       "      <td>No</td>\n",
       "      <td>Yes</td>\n",
       "    </tr>\n",
       "    <tr>\n",
       "      <th>1</th>\n",
       "      <td>No</td>\n",
       "      <td>Yes</td>\n",
       "    </tr>\n",
       "    <tr>\n",
       "      <th>2</th>\n",
       "      <td>No</td>\n",
       "      <td>No</td>\n",
       "    </tr>\n",
       "    <tr>\n",
       "      <th>3</th>\n",
       "      <td>No</td>\n",
       "      <td>Yes</td>\n",
       "    </tr>\n",
       "    <tr>\n",
       "      <th>4</th>\n",
       "      <td>No</td>\n",
       "      <td>Yes</td>\n",
       "    </tr>\n",
       "  </tbody>\n",
       "</table>\n",
       "</div>"
      ],
      "text/plain": [
       "  HadHeartAttack PhysicalActivities\n",
       "0             No                Yes\n",
       "1             No                Yes\n",
       "2             No                 No\n",
       "3             No                Yes\n",
       "4             No                Yes"
      ]
     },
     "execution_count": 41,
     "metadata": {},
     "output_type": "execute_result"
    }
   ],
   "source": [
    "negativeHD[[\"HadHeartAttack\", \"PhysicalActivities\"]].head()"
   ]
  },
  {
   "cell_type": "code",
   "execution_count": 42,
   "id": "c6720d98-2758-4ab9-9bf7-72e6abe2ba00",
   "metadata": {
    "tags": []
   },
   "outputs": [
    {
     "data": {
      "text/plain": [
       "array(['Yes', 'No'], dtype=object)"
      ]
     },
     "execution_count": 42,
     "metadata": {},
     "output_type": "execute_result"
    }
   ],
   "source": [
    "uniquePA = positiveHD[\"PhysicalActivities\"].unique()\n",
    "uniquePA"
   ]
  },
  {
   "cell_type": "code",
   "execution_count": 43,
   "id": "6ea09fc5-4aff-4c3c-9485-8c14d38b40af",
   "metadata": {
    "tags": []
   },
   "outputs": [
    {
     "data": {
      "text/plain": [
       "PhysicalActivities\n",
       "Yes    182804\n",
       "No      49783\n",
       "Name: count, dtype: int64"
      ]
     },
     "execution_count": 43,
     "metadata": {},
     "output_type": "execute_result"
    }
   ],
   "source": [
    "countPA = negativeHD[\"PhysicalActivities\"].value_counts()\n",
    "countPA"
   ]
  },
  {
   "cell_type": "code",
   "execution_count": 44,
   "id": "c5dbc93b-1d62-4927-8110-ea758cebc953",
   "metadata": {
    "tags": []
   },
   "outputs": [
    {
     "data": {
      "text/plain": [
       "78.59596624058955"
      ]
     },
     "execution_count": 44,
     "metadata": {},
     "output_type": "execute_result"
    }
   ],
   "source": [
    "# percentage of 'physically active' responses from participants without heart disease\n",
    "activeNegCount = negativeHD[(negativeHD[\"PhysicalActivities\"] == 'Yes')].count()[\"HadHeartAttack\"]\n",
    "activeNegPercent = activeNegCount / float(negRowCount) * 100\n",
    "activeNegPercent"
   ]
  },
  {
   "cell_type": "code",
   "execution_count": 45,
   "id": "6116af58-9ce6-4d87-82ca-2254d183b287",
   "metadata": {
    "tags": []
   },
   "outputs": [
    {
     "data": {
      "text/plain": [
       "21.404033759410456"
      ]
     },
     "execution_count": 45,
     "metadata": {},
     "output_type": "execute_result"
    }
   ],
   "source": [
    "# percentage of 'not physically active' responses from participants without heart disease\n",
    "notActiveNegCount = negativeHD[(negativeHD[\"PhysicalActivities\"] == 'No')].count()[\"HadHeartAttack\"]\n",
    "notActiveNegPercent = notActiveNegCount / float(negRowCount) * 100\n",
    "notActiveNegPercent"
   ]
  },
  {
   "cell_type": "code",
   "execution_count": 46,
   "id": "aa642cbb-b84b-4e50-befd-a7f0abf09781",
   "metadata": {
    "tags": []
   },
   "outputs": [
    {
     "data": {
      "image/png": "[encoded data removed]",
      "text/plain": [
       "<Figure size 640x480 with 1 Axes>"
      ]
     },
     "metadata": {},
     "output_type": "display_data"
    }
   ],
   "source": [
    "# visualization of participants WITHOUT heart disease and corresponding physical activity status\n",
    "labels = [\"Physical Activities\", \"No Physical Activities\"]\n",
    "sizes = [182804, 49783]\n",
    "colors = [\"orchid\", \"gold\"]\n",
    "plt.pie(sizes, labels=labels, colors=colors,\n",
    "        autopct=\"%1.1f%%\", shadow=True, startangle=140)\n",
    "plt.axis(\"equal\")\n",
    "plt.title(\"Physical Activity in Participants without Heart Disease\")\n",
    "path = os.path.join(\"..\",\"visualizations\",\"Physical Activity in Participants without Heart Disease\")\n",
    "plt.savefig(path)\n",
    "plt.show()"
   ]
  },
  {
   "cell_type": "markdown",
   "id": "dd23305a-152d-4dd4-8db3-1d9adc897fab",
   "metadata": {},
   "source": [
    "## Sleep"
   ]
  },
  {
   "cell_type": "code",
   "execution_count": 47,
   "id": "acb3ad34-57c0-4163-b11c-5b0a9df0d8c0",
   "metadata": {
    "tags": []
   },
   "outputs": [
    {
     "data": {
      "text/html": [
       "<div>\n",
       "<style scoped>\n",
       "    .dataframe tbody tr th:only-of-type {\n",
       "        vertical-align: middle;\n",
       "    }\n",
       "\n",
       "    .dataframe tbody tr th {\n",
       "        vertical-align: top;\n",
       "    }\n",
       "\n",
       "    .dataframe thead th {\n",
       "        text-align: right;\n",
       "    }\n",
       "</style>\n",
       "<table border=\"1\" class=\"dataframe\">\n",
       "  <thead>\n",
       "    <tr style=\"text-align: right;\">\n",
       "      <th></th>\n",
       "      <th>HadHeartAttack</th>\n",
       "      <th>GeneralHealth</th>\n",
       "      <th>PhysicalActivities</th>\n",
       "      <th>SleepHours</th>\n",
       "      <th>SmokerStatus</th>\n",
       "      <th>ECigaretteUsage</th>\n",
       "      <th>AlcoholDrinkers</th>\n",
       "    </tr>\n",
       "  </thead>\n",
       "  <tbody>\n",
       "    <tr>\n",
       "      <th>7</th>\n",
       "      <td>Yes</td>\n",
       "      <td>Fair</td>\n",
       "      <td>Yes</td>\n",
       "      <td>8.0</td>\n",
       "      <td>Never smoked</td>\n",
       "      <td>Never used e-cigarettes in my entire life</td>\n",
       "      <td>No</td>\n",
       "    </tr>\n",
       "    <tr>\n",
       "      <th>12</th>\n",
       "      <td>Yes</td>\n",
       "      <td>Good</td>\n",
       "      <td>Yes</td>\n",
       "      <td>5.0</td>\n",
       "      <td>Current smoker - now smokes every day</td>\n",
       "      <td>Use them some days</td>\n",
       "      <td>No</td>\n",
       "    </tr>\n",
       "    <tr>\n",
       "      <th>34</th>\n",
       "      <td>Yes</td>\n",
       "      <td>Good</td>\n",
       "      <td>Yes</td>\n",
       "      <td>6.0</td>\n",
       "      <td>Former smoker</td>\n",
       "      <td>Not at all (right now)</td>\n",
       "      <td>No</td>\n",
       "    </tr>\n",
       "    <tr>\n",
       "      <th>37</th>\n",
       "      <td>Yes</td>\n",
       "      <td>Good</td>\n",
       "      <td>Yes</td>\n",
       "      <td>5.0</td>\n",
       "      <td>Former smoker</td>\n",
       "      <td>Never used e-cigarettes in my entire life</td>\n",
       "      <td>No</td>\n",
       "    </tr>\n",
       "    <tr>\n",
       "      <th>43</th>\n",
       "      <td>Yes</td>\n",
       "      <td>Good</td>\n",
       "      <td>Yes</td>\n",
       "      <td>8.0</td>\n",
       "      <td>Never smoked</td>\n",
       "      <td>Never used e-cigarettes in my entire life</td>\n",
       "      <td>No</td>\n",
       "    </tr>\n",
       "  </tbody>\n",
       "</table>\n",
       "</div>"
      ],
      "text/plain": [
       "   HadHeartAttack GeneralHealth PhysicalActivities  SleepHours  \\\n",
       "7             Yes          Fair                Yes         8.0   \n",
       "12            Yes          Good                Yes         5.0   \n",
       "34            Yes          Good                Yes         6.0   \n",
       "37            Yes          Good                Yes         5.0   \n",
       "43            Yes          Good                Yes         8.0   \n",
       "\n",
       "                             SmokerStatus  \\\n",
       "7                            Never smoked   \n",
       "12  Current smoker - now smokes every day   \n",
       "34                          Former smoker   \n",
       "37                          Former smoker   \n",
       "43                           Never smoked   \n",
       "\n",
       "                              ECigaretteUsage AlcoholDrinkers  \n",
       "7   Never used e-cigarettes in my entire life              No  \n",
       "12                         Use them some days              No  \n",
       "34                     Not at all (right now)              No  \n",
       "37  Never used e-cigarettes in my entire life              No  \n",
       "43  Never used e-cigarettes in my entire life              No  "
      ]
     },
     "execution_count": 47,
     "metadata": {},
     "output_type": "execute_result"
    }
   ],
   "source": [
    "# the hours of sleep per night for participants WITH heart disease\n",
    "positiveHD.head()"
   ]
  },
  {
   "cell_type": "code",
   "execution_count": 48,
   "id": "944617d5-c434-4f4d-aaa3-b83b39fc884c",
   "metadata": {
    "tags": []
   },
   "outputs": [
    {
     "data": {
      "text/html": [
       "<div>\n",
       "<style scoped>\n",
       "    .dataframe tbody tr th:only-of-type {\n",
       "        vertical-align: middle;\n",
       "    }\n",
       "\n",
       "    .dataframe tbody tr th {\n",
       "        vertical-align: top;\n",
       "    }\n",
       "\n",
       "    .dataframe thead th {\n",
       "        text-align: right;\n",
       "    }\n",
       "</style>\n",
       "<table border=\"1\" class=\"dataframe\">\n",
       "  <thead>\n",
       "    <tr style=\"text-align: right;\">\n",
       "      <th></th>\n",
       "      <th>HadHeartAttack</th>\n",
       "      <th>SleepHours</th>\n",
       "    </tr>\n",
       "  </thead>\n",
       "  <tbody>\n",
       "    <tr>\n",
       "      <th>7</th>\n",
       "      <td>Yes</td>\n",
       "      <td>8.0</td>\n",
       "    </tr>\n",
       "    <tr>\n",
       "      <th>12</th>\n",
       "      <td>Yes</td>\n",
       "      <td>5.0</td>\n",
       "    </tr>\n",
       "    <tr>\n",
       "      <th>34</th>\n",
       "      <td>Yes</td>\n",
       "      <td>6.0</td>\n",
       "    </tr>\n",
       "    <tr>\n",
       "      <th>37</th>\n",
       "      <td>Yes</td>\n",
       "      <td>5.0</td>\n",
       "    </tr>\n",
       "    <tr>\n",
       "      <th>43</th>\n",
       "      <td>Yes</td>\n",
       "      <td>8.0</td>\n",
       "    </tr>\n",
       "  </tbody>\n",
       "</table>\n",
       "</div>"
      ],
      "text/plain": [
       "   HadHeartAttack  SleepHours\n",
       "7             Yes         8.0\n",
       "12            Yes         5.0\n",
       "34            Yes         6.0\n",
       "37            Yes         5.0\n",
       "43            Yes         8.0"
      ]
     },
     "execution_count": 48,
     "metadata": {},
     "output_type": "execute_result"
    }
   ],
   "source": [
    "positiveHD[[\"HadHeartAttack\",\"SleepHours\"]].head()"
   ]
  },
  {
   "cell_type": "code",
   "execution_count": 49,
   "id": "70c704a7-f406-4914-a336-fda9097e08e1",
   "metadata": {
    "tags": []
   },
   "outputs": [
    {
     "data": {
      "text/plain": [
       "array([ 8.,  5.,  6., 10., 12.,  9.,  4.,  7.,  3.,  2., 14., 18.,  1.,\n",
       "       15., 11., 23., 13., 20., 16., 17., 19., 22.])"
      ]
     },
     "execution_count": 49,
     "metadata": {},
     "output_type": "execute_result"
    }
   ],
   "source": [
    "uniqueSleep = positiveHD[\"SleepHours\"].unique()\n",
    "uniqueSleep"
   ]
  },
  {
   "cell_type": "code",
   "execution_count": 50,
   "id": "954a69a6-d396-4a63-8972-da6b90f9e780",
   "metadata": {},
   "outputs": [
    {
     "data": {
      "text/plain": [
       "SleepHours\n",
       "8.0     3815\n",
       "7.0     2926\n",
       "6.0     2831\n",
       "5.0     1116\n",
       "9.0      797\n",
       "4.0      695\n",
       "10.0     593\n",
       "3.0      193\n",
       "12.0     190\n",
       "2.0       91\n",
       "1.0       43\n",
       "11.0      38\n",
       "15.0      24\n",
       "16.0      24\n",
       "14.0      21\n",
       "13.0      15\n",
       "18.0      11\n",
       "20.0       6\n",
       "17.0       2\n",
       "22.0       2\n",
       "23.0       1\n",
       "19.0       1\n",
       "Name: count, dtype: int64"
      ]
     },
     "execution_count": 50,
     "metadata": {},
     "output_type": "execute_result"
    }
   ],
   "source": [
    "countSH = positiveHD[\"SleepHours\"].value_counts()\n",
    "countSH"
   ]
  },
  {
   "cell_type": "code",
   "execution_count": 51,
   "id": "e8d57b28-e8a5-4c32-ba3b-c1067233a5b8",
   "metadata": {
    "tags": []
   },
   "outputs": [
    {
     "data": {
      "text/html": [
       "<div>\n",
       "<style scoped>\n",
       "    .dataframe tbody tr th:only-of-type {\n",
       "        vertical-align: middle;\n",
       "    }\n",
       "\n",
       "    .dataframe tbody tr th {\n",
       "        vertical-align: top;\n",
       "    }\n",
       "\n",
       "    .dataframe thead th {\n",
       "        text-align: right;\n",
       "    }\n",
       "</style>\n",
       "<table border=\"1\" class=\"dataframe\">\n",
       "  <thead>\n",
       "    <tr style=\"text-align: right;\">\n",
       "      <th></th>\n",
       "      <th>SleepHours</th>\n",
       "    </tr>\n",
       "  </thead>\n",
       "  <tbody>\n",
       "    <tr>\n",
       "      <th>7</th>\n",
       "      <td>8.0</td>\n",
       "    </tr>\n",
       "    <tr>\n",
       "      <th>12</th>\n",
       "      <td>5.0</td>\n",
       "    </tr>\n",
       "    <tr>\n",
       "      <th>34</th>\n",
       "      <td>6.0</td>\n",
       "    </tr>\n",
       "    <tr>\n",
       "      <th>37</th>\n",
       "      <td>5.0</td>\n",
       "    </tr>\n",
       "    <tr>\n",
       "      <th>43</th>\n",
       "      <td>8.0</td>\n",
       "    </tr>\n",
       "    <tr>\n",
       "      <th>...</th>\n",
       "      <td>...</td>\n",
       "    </tr>\n",
       "    <tr>\n",
       "      <th>245922</th>\n",
       "      <td>6.0</td>\n",
       "    </tr>\n",
       "    <tr>\n",
       "      <th>245943</th>\n",
       "      <td>8.0</td>\n",
       "    </tr>\n",
       "    <tr>\n",
       "      <th>246012</th>\n",
       "      <td>4.0</td>\n",
       "    </tr>\n",
       "    <tr>\n",
       "      <th>246016</th>\n",
       "      <td>6.0</td>\n",
       "    </tr>\n",
       "    <tr>\n",
       "      <th>246021</th>\n",
       "      <td>5.0</td>\n",
       "    </tr>\n",
       "  </tbody>\n",
       "</table>\n",
       "<p>13435 rows × 1 columns</p>\n",
       "</div>"
      ],
      "text/plain": [
       "        SleepHours\n",
       "7              8.0\n",
       "12             5.0\n",
       "34             6.0\n",
       "37             5.0\n",
       "43             8.0\n",
       "...            ...\n",
       "245922         6.0\n",
       "245943         8.0\n",
       "246012         4.0\n",
       "246016         6.0\n",
       "246021         5.0\n",
       "\n",
       "[13435 rows x 1 columns]"
      ]
     },
     "execution_count": 51,
     "metadata": {},
     "output_type": "execute_result"
    }
   ],
   "source": [
    "posSleepHours = pd.DataFrame(positiveHD[\"SleepHours\"])\n",
    "posSleepHours"
   ]
  },
  {
   "cell_type": "code",
   "execution_count": 52,
   "id": "5737332f-f15b-4409-b2b8-079593c7861e",
   "metadata": {
    "tags": []
   },
   "outputs": [],
   "source": [
    "# Establish the bins.\n",
    "hour_bins = [0, 5, 10, 24]\n",
    "labels = [\"0-5 hours\", \"6-10 hours\", \"11-24 hours\"]"
   ]
  },
  {
   "cell_type": "code",
   "execution_count": 53,
   "id": "85ac1935-6dfc-47ec-b3bc-420a79ace6fd",
   "metadata": {
    "tags": []
   },
   "outputs": [
    {
     "data": {
      "text/plain": [
       "7         6-10 hours\n",
       "12         0-5 hours\n",
       "34        6-10 hours\n",
       "37         0-5 hours\n",
       "43        6-10 hours\n",
       "             ...    \n",
       "245922    6-10 hours\n",
       "245943    6-10 hours\n",
       "246012     0-5 hours\n",
       "246016    6-10 hours\n",
       "246021     0-5 hours\n",
       "Name: SleepHours, Length: 13435, dtype: category\n",
       "Categories (3, object): ['0-5 hours' < '6-10 hours' < '11-24 hours']"
      ]
     },
     "execution_count": 53,
     "metadata": {},
     "output_type": "execute_result"
    }
   ],
   "source": [
    "pd.cut(positiveHD[\"SleepHours\"], hour_bins, labels=labels)"
   ]
  },
  {
   "cell_type": "code",
   "execution_count": 54,
   "id": "11c2c0e9-4f6e-4940-81c5-97affa26f18f",
   "metadata": {
    "tags": []
   },
   "outputs": [
    {
     "data": {
      "text/html": [
       "<div>\n",
       "<style scoped>\n",
       "    .dataframe tbody tr th:only-of-type {\n",
       "        vertical-align: middle;\n",
       "    }\n",
       "\n",
       "    .dataframe tbody tr th {\n",
       "        vertical-align: top;\n",
       "    }\n",
       "\n",
       "    .dataframe thead th {\n",
       "        text-align: right;\n",
       "    }\n",
       "</style>\n",
       "<table border=\"1\" class=\"dataframe\">\n",
       "  <thead>\n",
       "    <tr style=\"text-align: right;\">\n",
       "      <th></th>\n",
       "      <th>SleepHours</th>\n",
       "      <th>Hours Slept</th>\n",
       "    </tr>\n",
       "  </thead>\n",
       "  <tbody>\n",
       "    <tr>\n",
       "      <th>7</th>\n",
       "      <td>8.0</td>\n",
       "      <td>6-10 hours</td>\n",
       "    </tr>\n",
       "    <tr>\n",
       "      <th>12</th>\n",
       "      <td>5.0</td>\n",
       "      <td>0-5 hours</td>\n",
       "    </tr>\n",
       "    <tr>\n",
       "      <th>34</th>\n",
       "      <td>6.0</td>\n",
       "      <td>6-10 hours</td>\n",
       "    </tr>\n",
       "    <tr>\n",
       "      <th>37</th>\n",
       "      <td>5.0</td>\n",
       "      <td>0-5 hours</td>\n",
       "    </tr>\n",
       "    <tr>\n",
       "      <th>43</th>\n",
       "      <td>8.0</td>\n",
       "      <td>6-10 hours</td>\n",
       "    </tr>\n",
       "    <tr>\n",
       "      <th>...</th>\n",
       "      <td>...</td>\n",
       "      <td>...</td>\n",
       "    </tr>\n",
       "    <tr>\n",
       "      <th>245922</th>\n",
       "      <td>6.0</td>\n",
       "      <td>6-10 hours</td>\n",
       "    </tr>\n",
       "    <tr>\n",
       "      <th>245943</th>\n",
       "      <td>8.0</td>\n",
       "      <td>6-10 hours</td>\n",
       "    </tr>\n",
       "    <tr>\n",
       "      <th>246012</th>\n",
       "      <td>4.0</td>\n",
       "      <td>0-5 hours</td>\n",
       "    </tr>\n",
       "    <tr>\n",
       "      <th>246016</th>\n",
       "      <td>6.0</td>\n",
       "      <td>6-10 hours</td>\n",
       "    </tr>\n",
       "    <tr>\n",
       "      <th>246021</th>\n",
       "      <td>5.0</td>\n",
       "      <td>0-5 hours</td>\n",
       "    </tr>\n",
       "  </tbody>\n",
       "</table>\n",
       "<p>13435 rows × 2 columns</p>\n",
       "</div>"
      ],
      "text/plain": [
       "        SleepHours Hours Slept\n",
       "7              8.0  6-10 hours\n",
       "12             5.0   0-5 hours\n",
       "34             6.0  6-10 hours\n",
       "37             5.0   0-5 hours\n",
       "43             8.0  6-10 hours\n",
       "...            ...         ...\n",
       "245922         6.0  6-10 hours\n",
       "245943         8.0  6-10 hours\n",
       "246012         4.0   0-5 hours\n",
       "246016         6.0  6-10 hours\n",
       "246021         5.0   0-5 hours\n",
       "\n",
       "[13435 rows x 2 columns]"
      ]
     },
     "execution_count": 54,
     "metadata": {},
     "output_type": "execute_result"
    }
   ],
   "source": [
    "posSleepHours[\"Hours Slept\"] = pd.cut(posSleepHours[\"SleepHours\"], hour_bins, labels=labels)\n",
    "posSleepHours"
   ]
  },
  {
   "cell_type": "code",
   "execution_count": 55,
   "id": "4b0ee766-4d1a-4a83-9d17-0d0ffe6c67a7",
   "metadata": {},
   "outputs": [
    {
     "data": {
      "text/plain": [
       "Hours Slept\n",
       "0-5 hours       2138\n",
       "6-10 hours     10962\n",
       "11-24 hours      335\n",
       "Name: Hours Slept, dtype: int64"
      ]
     },
     "execution_count": 55,
     "metadata": {},
     "output_type": "execute_result"
    }
   ],
   "source": [
    "posHoursSlept = posSleepHours.groupby(\"Hours Slept\")\n",
    "posHoursSlept[\"Hours Slept\"].count()"
   ]
  },
  {
   "cell_type": "code",
   "execution_count": 56,
   "id": "23bebe91-ba9d-4988-bd51-7576f519177a",
   "metadata": {
    "tags": []
   },
   "outputs": [
    {
     "data": {
      "text/plain": [
       "15.913658355042799"
      ]
     },
     "execution_count": 56,
     "metadata": {},
     "output_type": "execute_result"
    }
   ],
   "source": [
    "# percentage of '0-5 hours slept' in participants with heart disease\n",
    "lowSleepPosCount = posSleepHours[(posSleepHours[\"Hours Slept\"] == \"0-5 hours\")].count()[\"SleepHours\"]\n",
    "lowSleepPosPercent = lowSleepPosCount / float(posRowCount) * 100\n",
    "lowSleepPosPercent"
   ]
  },
  {
   "cell_type": "code",
   "execution_count": 57,
   "id": "3962806c-b746-4d2e-a217-d5909c0c8743",
   "metadata": {
    "tags": []
   },
   "outputs": [
    {
     "data": {
      "text/plain": [
       "81.59285448455526"
      ]
     },
     "execution_count": 57,
     "metadata": {},
     "output_type": "execute_result"
    }
   ],
   "source": [
    "# percentage of '6-10 hours slept' in participants with heart disease\n",
    "midSleepPosCount = posSleepHours[(posSleepHours[\"Hours Slept\"] == \"6-10 hours\")].count()[\"SleepHours\"]\n",
    "midSleepPosPercent = midSleepPosCount / float(posRowCount) * 100\n",
    "midSleepPosPercent"
   ]
  },
  {
   "cell_type": "code",
   "execution_count": 58,
   "id": "267935c6-a075-4608-98d6-bf3baab43a0d",
   "metadata": {
    "tags": []
   },
   "outputs": [
    {
     "data": {
      "text/plain": [
       "2.4934871604019353"
      ]
     },
     "execution_count": 58,
     "metadata": {},
     "output_type": "execute_result"
    }
   ],
   "source": [
    "# percentage of '11-24 hours slept' in participants with heart disease\n",
    "highSleepPosCount = posSleepHours[(posSleepHours[\"Hours Slept\"] == \"11-24 hours\")].count()[\"SleepHours\"]\n",
    "highSleepPosPercent = highSleepPosCount / float(posRowCount) * 100\n",
    "highSleepPosPercent"
   ]
  },
  {
   "cell_type": "code",
   "execution_count": 59,
   "id": "35670f98-88b0-4a1e-af7e-1c83c026bdb3",
   "metadata": {
    "tags": []
   },
   "outputs": [],
   "source": [
    "# visualization of sleep status for those WITH heart disease\n",
    "sleepHours = [\"0-5 hours\", \"6-10 hours\", \"11-24 hours\"]\n",
    "partResponse = [2138, 10962, 335]\n",
    "x_axis = np.arange(len(partResponse))"
   ]
  },
  {
   "cell_type": "code",
   "execution_count": 60,
   "id": "d95a5959-c617-41a9-abaf-e5dd5eb8b60f",
   "metadata": {
    "tags": []
   },
   "outputs": [
    {
     "data": {
      "image/png": "[encoded data removed]",
      "text/plain": [
       "<Figure size 640x480 with 1 Axes>"
      ]
     },
     "metadata": {},
     "output_type": "display_data"
    }
   ],
   "source": [
    "tick_locations = [value for value in x_axis]\n",
    "plt.xticks(tick_locations, sleepHours)\n",
    "plt.xlim(-0.75, len(x_axis)-0.25)\n",
    "plt.ylim(0, max(partResponse)+1000)\n",
    "plt.title(\"Average Hours Slept by Participants with Heart Disease\")\n",
    "plt.xlabel(\"Hours of Sleep\")\n",
    "plt.ylabel(\"Number of Participants with Heart Disease\")\n",
    "plt.bar(x_axis, partResponse, color=\"olive\", align=\"center\")\n",
    "path = os.path.join(\"..\",\"visualizations\",\"Number of Participants with Heart Diseas.PNG\")\n",
    "plt.savefig(path)"
   ]
  },
  {
   "cell_type": "code",
   "execution_count": 61,
   "id": "24f94cba-f109-4a8a-8cc4-6997cde2ca51",
   "metadata": {
    "tags": []
   },
   "outputs": [
    {
     "data": {
      "text/html": [
       "<div>\n",
       "<style scoped>\n",
       "    .dataframe tbody tr th:only-of-type {\n",
       "        vertical-align: middle;\n",
       "    }\n",
       "\n",
       "    .dataframe tbody tr th {\n",
       "        vertical-align: top;\n",
       "    }\n",
       "\n",
       "    .dataframe thead th {\n",
       "        text-align: right;\n",
       "    }\n",
       "</style>\n",
       "<table border=\"1\" class=\"dataframe\">\n",
       "  <thead>\n",
       "    <tr style=\"text-align: right;\">\n",
       "      <th></th>\n",
       "      <th>HadHeartAttack</th>\n",
       "      <th>GeneralHealth</th>\n",
       "      <th>PhysicalActivities</th>\n",
       "      <th>SleepHours</th>\n",
       "      <th>SmokerStatus</th>\n",
       "      <th>ECigaretteUsage</th>\n",
       "      <th>AlcoholDrinkers</th>\n",
       "    </tr>\n",
       "  </thead>\n",
       "  <tbody>\n",
       "    <tr>\n",
       "      <th>0</th>\n",
       "      <td>No</td>\n",
       "      <td>Very good</td>\n",
       "      <td>Yes</td>\n",
       "      <td>9.0</td>\n",
       "      <td>Former smoker</td>\n",
       "      <td>Never used e-cigarettes in my entire life</td>\n",
       "      <td>No</td>\n",
       "    </tr>\n",
       "    <tr>\n",
       "      <th>1</th>\n",
       "      <td>No</td>\n",
       "      <td>Very good</td>\n",
       "      <td>Yes</td>\n",
       "      <td>6.0</td>\n",
       "      <td>Former smoker</td>\n",
       "      <td>Never used e-cigarettes in my entire life</td>\n",
       "      <td>No</td>\n",
       "    </tr>\n",
       "    <tr>\n",
       "      <th>2</th>\n",
       "      <td>No</td>\n",
       "      <td>Very good</td>\n",
       "      <td>No</td>\n",
       "      <td>8.0</td>\n",
       "      <td>Former smoker</td>\n",
       "      <td>Never used e-cigarettes in my entire life</td>\n",
       "      <td>Yes</td>\n",
       "    </tr>\n",
       "    <tr>\n",
       "      <th>3</th>\n",
       "      <td>No</td>\n",
       "      <td>Fair</td>\n",
       "      <td>Yes</td>\n",
       "      <td>9.0</td>\n",
       "      <td>Never smoked</td>\n",
       "      <td>Never used e-cigarettes in my entire life</td>\n",
       "      <td>No</td>\n",
       "    </tr>\n",
       "    <tr>\n",
       "      <th>4</th>\n",
       "      <td>No</td>\n",
       "      <td>Good</td>\n",
       "      <td>Yes</td>\n",
       "      <td>5.0</td>\n",
       "      <td>Never smoked</td>\n",
       "      <td>Never used e-cigarettes in my entire life</td>\n",
       "      <td>No</td>\n",
       "    </tr>\n",
       "  </tbody>\n",
       "</table>\n",
       "</div>"
      ],
      "text/plain": [
       "  HadHeartAttack GeneralHealth PhysicalActivities  SleepHours   SmokerStatus  \\\n",
       "0             No     Very good                Yes         9.0  Former smoker   \n",
       "1             No     Very good                Yes         6.0  Former smoker   \n",
       "2             No     Very good                 No         8.0  Former smoker   \n",
       "3             No          Fair                Yes         9.0   Never smoked   \n",
       "4             No          Good                Yes         5.0   Never smoked   \n",
       "\n",
       "                             ECigaretteUsage AlcoholDrinkers  \n",
       "0  Never used e-cigarettes in my entire life              No  \n",
       "1  Never used e-cigarettes in my entire life              No  \n",
       "2  Never used e-cigarettes in my entire life             Yes  \n",
       "3  Never used e-cigarettes in my entire life              No  \n",
       "4  Never used e-cigarettes in my entire life              No  "
      ]
     },
     "execution_count": 61,
     "metadata": {},
     "output_type": "execute_result"
    }
   ],
   "source": [
    "# the hours of sleep per night for participants WITHOUT heart disease\n",
    "negativeHD.head()"
   ]
  },
  {
   "cell_type": "code",
   "execution_count": 62,
   "id": "a9e2a8db-e65a-481a-852f-ec3daaa9d1a8",
   "metadata": {
    "tags": []
   },
   "outputs": [
    {
     "data": {
      "text/html": [
       "<div>\n",
       "<style scoped>\n",
       "    .dataframe tbody tr th:only-of-type {\n",
       "        vertical-align: middle;\n",
       "    }\n",
       "\n",
       "    .dataframe tbody tr th {\n",
       "        vertical-align: top;\n",
       "    }\n",
       "\n",
       "    .dataframe thead th {\n",
       "        text-align: right;\n",
       "    }\n",
       "</style>\n",
       "<table border=\"1\" class=\"dataframe\">\n",
       "  <thead>\n",
       "    <tr style=\"text-align: right;\">\n",
       "      <th></th>\n",
       "      <th>HadHeartAttack</th>\n",
       "      <th>SleepHours</th>\n",
       "    </tr>\n",
       "  </thead>\n",
       "  <tbody>\n",
       "    <tr>\n",
       "      <th>0</th>\n",
       "      <td>No</td>\n",
       "      <td>9.0</td>\n",
       "    </tr>\n",
       "    <tr>\n",
       "      <th>1</th>\n",
       "      <td>No</td>\n",
       "      <td>6.0</td>\n",
       "    </tr>\n",
       "    <tr>\n",
       "      <th>2</th>\n",
       "      <td>No</td>\n",
       "      <td>8.0</td>\n",
       "    </tr>\n",
       "    <tr>\n",
       "      <th>3</th>\n",
       "      <td>No</td>\n",
       "      <td>9.0</td>\n",
       "    </tr>\n",
       "    <tr>\n",
       "      <th>4</th>\n",
       "      <td>No</td>\n",
       "      <td>5.0</td>\n",
       "    </tr>\n",
       "  </tbody>\n",
       "</table>\n",
       "</div>"
      ],
      "text/plain": [
       "  HadHeartAttack  SleepHours\n",
       "0             No         9.0\n",
       "1             No         6.0\n",
       "2             No         8.0\n",
       "3             No         9.0\n",
       "4             No         5.0"
      ]
     },
     "execution_count": 62,
     "metadata": {},
     "output_type": "execute_result"
    }
   ],
   "source": [
    "negativeHD[[\"HadHeartAttack\", \"SleepHours\"]].head()"
   ]
  },
  {
   "cell_type": "code",
   "execution_count": 63,
   "id": "513f2b88-fe5f-48e0-9f4e-7e3389db12f6",
   "metadata": {
    "tags": []
   },
   "outputs": [
    {
     "data": {
      "text/plain": [
       "0    9.0\n",
       "1    6.0\n",
       "2    8.0\n",
       "3    9.0\n",
       "4    5.0\n",
       "Name: SleepHours, dtype: float64"
      ]
     },
     "execution_count": 63,
     "metadata": {},
     "output_type": "execute_result"
    }
   ],
   "source": [
    "negativeHD[\"SleepHours\"].head()"
   ]
  },
  {
   "cell_type": "code",
   "execution_count": 64,
   "id": "984b2d80-3d0f-482f-8f0b-520558a49c1c",
   "metadata": {
    "scrolled": true,
    "tags": []
   },
   "outputs": [
    {
     "data": {
      "text/plain": [
       "SleepHours\n",
       "7.0     73521\n",
       "8.0     66112\n",
       "6.0     51150\n",
       "5.0     15301\n",
       "9.0     11062\n",
       "4.0      5783\n",
       "10.0     4875\n",
       "3.0      1425\n",
       "12.0     1286\n",
       "2.0       649\n",
       "1.0       520\n",
       "11.0      301\n",
       "16.0      131\n",
       "15.0      130\n",
       "14.0      127\n",
       "18.0       72\n",
       "13.0       64\n",
       "20.0       44\n",
       "24.0       13\n",
       "17.0        9\n",
       "23.0        5\n",
       "19.0        4\n",
       "22.0        3\n",
       "Name: count, dtype: int64"
      ]
     },
     "execution_count": 64,
     "metadata": {},
     "output_type": "execute_result"
    }
   ],
   "source": [
    "countSH = negativeHD[\"SleepHours\"].value_counts()\n",
    "countSH"
   ]
  },
  {
   "cell_type": "code",
   "execution_count": 65,
   "id": "3afd355e-07cf-42da-b853-5980377b26e2",
   "metadata": {},
   "outputs": [
    {
     "data": {
      "text/html": [
       "<div>\n",
       "<style scoped>\n",
       "    .dataframe tbody tr th:only-of-type {\n",
       "        vertical-align: middle;\n",
       "    }\n",
       "\n",
       "    .dataframe tbody tr th {\n",
       "        vertical-align: top;\n",
       "    }\n",
       "\n",
       "    .dataframe thead th {\n",
       "        text-align: right;\n",
       "    }\n",
       "</style>\n",
       "<table border=\"1\" class=\"dataframe\">\n",
       "  <thead>\n",
       "    <tr style=\"text-align: right;\">\n",
       "      <th></th>\n",
       "      <th>SleepHours</th>\n",
       "    </tr>\n",
       "  </thead>\n",
       "  <tbody>\n",
       "    <tr>\n",
       "      <th>0</th>\n",
       "      <td>9.0</td>\n",
       "    </tr>\n",
       "    <tr>\n",
       "      <th>1</th>\n",
       "      <td>6.0</td>\n",
       "    </tr>\n",
       "    <tr>\n",
       "      <th>2</th>\n",
       "      <td>8.0</td>\n",
       "    </tr>\n",
       "    <tr>\n",
       "      <th>3</th>\n",
       "      <td>9.0</td>\n",
       "    </tr>\n",
       "    <tr>\n",
       "      <th>4</th>\n",
       "      <td>5.0</td>\n",
       "    </tr>\n",
       "    <tr>\n",
       "      <th>...</th>\n",
       "      <td>...</td>\n",
       "    </tr>\n",
       "    <tr>\n",
       "      <th>246015</th>\n",
       "      <td>7.0</td>\n",
       "    </tr>\n",
       "    <tr>\n",
       "      <th>246017</th>\n",
       "      <td>6.0</td>\n",
       "    </tr>\n",
       "    <tr>\n",
       "      <th>246018</th>\n",
       "      <td>7.0</td>\n",
       "    </tr>\n",
       "    <tr>\n",
       "      <th>246019</th>\n",
       "      <td>7.0</td>\n",
       "    </tr>\n",
       "    <tr>\n",
       "      <th>246020</th>\n",
       "      <td>7.0</td>\n",
       "    </tr>\n",
       "  </tbody>\n",
       "</table>\n",
       "<p>232587 rows × 1 columns</p>\n",
       "</div>"
      ],
      "text/plain": [
       "        SleepHours\n",
       "0              9.0\n",
       "1              6.0\n",
       "2              8.0\n",
       "3              9.0\n",
       "4              5.0\n",
       "...            ...\n",
       "246015         7.0\n",
       "246017         6.0\n",
       "246018         7.0\n",
       "246019         7.0\n",
       "246020         7.0\n",
       "\n",
       "[232587 rows x 1 columns]"
      ]
     },
     "execution_count": 65,
     "metadata": {},
     "output_type": "execute_result"
    }
   ],
   "source": [
    "negSleepHours = pd.DataFrame(negativeHD[\"SleepHours\"])\n",
    "negSleepHours"
   ]
  },
  {
   "cell_type": "code",
   "execution_count": 66,
   "id": "4d654d16-271b-494f-897b-0175894c0e82",
   "metadata": {},
   "outputs": [],
   "source": [
    "# Establish the bins.\n",
    "hour_bins = [0, 5, 10, 24]\n",
    "labels = [\"0-5 hours\", \"6-10 hours\", \"11-24 hours\"]"
   ]
  },
  {
   "cell_type": "code",
   "execution_count": 67,
   "id": "42c21b7d-b855-4290-ab4f-e48ac81cf730",
   "metadata": {},
   "outputs": [
    {
     "data": {
      "text/plain": [
       "0         6-10 hours\n",
       "1         6-10 hours\n",
       "2         6-10 hours\n",
       "3         6-10 hours\n",
       "4          0-5 hours\n",
       "             ...    \n",
       "246015    6-10 hours\n",
       "246017    6-10 hours\n",
       "246018    6-10 hours\n",
       "246019    6-10 hours\n",
       "246020    6-10 hours\n",
       "Name: SleepHours, Length: 232587, dtype: category\n",
       "Categories (3, object): ['0-5 hours' < '6-10 hours' < '11-24 hours']"
      ]
     },
     "execution_count": 67,
     "metadata": {},
     "output_type": "execute_result"
    }
   ],
   "source": [
    "pd.cut(negativeHD[\"SleepHours\"], hour_bins, labels=labels)"
   ]
  },
  {
   "cell_type": "code",
   "execution_count": 68,
   "id": "6c3863d4-0e4f-47bf-a4fd-9c76dc647755",
   "metadata": {},
   "outputs": [
    {
     "data": {
      "text/html": [
       "<div>\n",
       "<style scoped>\n",
       "    .dataframe tbody tr th:only-of-type {\n",
       "        vertical-align: middle;\n",
       "    }\n",
       "\n",
       "    .dataframe tbody tr th {\n",
       "        vertical-align: top;\n",
       "    }\n",
       "\n",
       "    .dataframe thead th {\n",
       "        text-align: right;\n",
       "    }\n",
       "</style>\n",
       "<table border=\"1\" class=\"dataframe\">\n",
       "  <thead>\n",
       "    <tr style=\"text-align: right;\">\n",
       "      <th></th>\n",
       "      <th>SleepHours</th>\n",
       "      <th>Hours Slept</th>\n",
       "    </tr>\n",
       "  </thead>\n",
       "  <tbody>\n",
       "    <tr>\n",
       "      <th>0</th>\n",
       "      <td>9.0</td>\n",
       "      <td>6-10 hours</td>\n",
       "    </tr>\n",
       "    <tr>\n",
       "      <th>1</th>\n",
       "      <td>6.0</td>\n",
       "      <td>6-10 hours</td>\n",
       "    </tr>\n",
       "    <tr>\n",
       "      <th>2</th>\n",
       "      <td>8.0</td>\n",
       "      <td>6-10 hours</td>\n",
       "    </tr>\n",
       "    <tr>\n",
       "      <th>3</th>\n",
       "      <td>9.0</td>\n",
       "      <td>6-10 hours</td>\n",
       "    </tr>\n",
       "    <tr>\n",
       "      <th>4</th>\n",
       "      <td>5.0</td>\n",
       "      <td>0-5 hours</td>\n",
       "    </tr>\n",
       "    <tr>\n",
       "      <th>...</th>\n",
       "      <td>...</td>\n",
       "      <td>...</td>\n",
       "    </tr>\n",
       "    <tr>\n",
       "      <th>246015</th>\n",
       "      <td>7.0</td>\n",
       "      <td>6-10 hours</td>\n",
       "    </tr>\n",
       "    <tr>\n",
       "      <th>246017</th>\n",
       "      <td>6.0</td>\n",
       "      <td>6-10 hours</td>\n",
       "    </tr>\n",
       "    <tr>\n",
       "      <th>246018</th>\n",
       "      <td>7.0</td>\n",
       "      <td>6-10 hours</td>\n",
       "    </tr>\n",
       "    <tr>\n",
       "      <th>246019</th>\n",
       "      <td>7.0</td>\n",
       "      <td>6-10 hours</td>\n",
       "    </tr>\n",
       "    <tr>\n",
       "      <th>246020</th>\n",
       "      <td>7.0</td>\n",
       "      <td>6-10 hours</td>\n",
       "    </tr>\n",
       "  </tbody>\n",
       "</table>\n",
       "<p>232587 rows × 2 columns</p>\n",
       "</div>"
      ],
      "text/plain": [
       "        SleepHours Hours Slept\n",
       "0              9.0  6-10 hours\n",
       "1              6.0  6-10 hours\n",
       "2              8.0  6-10 hours\n",
       "3              9.0  6-10 hours\n",
       "4              5.0   0-5 hours\n",
       "...            ...         ...\n",
       "246015         7.0  6-10 hours\n",
       "246017         6.0  6-10 hours\n",
       "246018         7.0  6-10 hours\n",
       "246019         7.0  6-10 hours\n",
       "246020         7.0  6-10 hours\n",
       "\n",
       "[232587 rows x 2 columns]"
      ]
     },
     "execution_count": 68,
     "metadata": {},
     "output_type": "execute_result"
    }
   ],
   "source": [
    "negSleepHours[\"Hours Slept\"] = pd.cut(negSleepHours[\"SleepHours\"], hour_bins, labels=labels)\n",
    "negSleepHours"
   ]
  },
  {
   "cell_type": "code",
   "execution_count": 69,
   "id": "c102b0ba-5767-45e2-8a40-d929387ad403",
   "metadata": {},
   "outputs": [
    {
     "data": {
      "text/plain": [
       "Hours Slept\n",
       "0-5 hours       23678\n",
       "6-10 hours     206720\n",
       "11-24 hours      2189\n",
       "Name: Hours Slept, dtype: int64"
      ]
     },
     "execution_count": 69,
     "metadata": {},
     "output_type": "execute_result"
    }
   ],
   "source": [
    "negHoursSlept = negSleepHours.groupby(\"Hours Slept\")\n",
    "negHoursSlept[\"Hours Slept\"].count()"
   ]
  },
  {
   "cell_type": "code",
   "execution_count": 70,
   "id": "e2c83d89-ed39-4edb-85b2-676ed03e6cc4",
   "metadata": {},
   "outputs": [
    {
     "data": {
      "text/plain": [
       "10.180276627670507"
      ]
     },
     "execution_count": 70,
     "metadata": {},
     "output_type": "execute_result"
    }
   ],
   "source": [
    "# percentage of '0-5 hours slept' in participants with heart disease\n",
    "lowSleepNegCount = negSleepHours[(negSleepHours[\"Hours Slept\"] == \"0-5 hours\")].count()[\"SleepHours\"]\n",
    "lowSleepNegPercent = lowSleepNegCount / float(negRowCount) * 100\n",
    "lowSleepNegPercent"
   ]
  },
  {
   "cell_type": "code",
   "execution_count": 71,
   "id": "7c0618ff-5cde-4222-a1cc-66d731c335f2",
   "metadata": {},
   "outputs": [
    {
     "data": {
      "text/plain": [
       "88.87857016944197"
      ]
     },
     "execution_count": 71,
     "metadata": {},
     "output_type": "execute_result"
    }
   ],
   "source": [
    "# percentage of '6-10 hours slept' in participants with heart disease\n",
    "midSleepNegCount = negSleepHours[(negSleepHours[\"Hours Slept\"] == \"6-10 hours\")].count()[\"SleepHours\"]\n",
    "midSleepNegPercent = midSleepNegCount / float(negRowCount) * 100\n",
    "midSleepNegPercent"
   ]
  },
  {
   "cell_type": "code",
   "execution_count": 72,
   "id": "9679c4af-27ee-41c5-a552-5450a5659f5f",
   "metadata": {},
   "outputs": [
    {
     "data": {
      "text/plain": [
       "0.9411532028875217"
      ]
     },
     "execution_count": 72,
     "metadata": {},
     "output_type": "execute_result"
    }
   ],
   "source": [
    "# percentage of '11-24 hours slept' in participants with heart disease\n",
    "highSleepNegCount = negSleepHours[(negSleepHours[\"Hours Slept\"] == \"11-24 hours\")].count()[\"SleepHours\"]\n",
    "highSleepNegPercent = highSleepNegCount / float(negRowCount) * 100\n",
    "highSleepNegPercent"
   ]
  },
  {
   "cell_type": "code",
   "execution_count": 73,
   "id": "ee6503fd-f0ae-48e7-8059-af7c0b0779d7",
   "metadata": {
    "tags": []
   },
   "outputs": [],
   "source": [
    "sleepHours = [\"0-5 hours\", \"6-10 hours\", \"11-24 hours\"]\n",
    "partResponse = [23678, 206720, 2189]\n",
    "x_axis = np.arange(len(partResponse))"
   ]
  },
  {
   "cell_type": "code",
   "execution_count": 74,
   "id": "b010884a-047f-4381-8418-0b91dbb215bb",
   "metadata": {
    "tags": []
   },
   "outputs": [
    {
     "data": {
      "image/png": "[encoded data removed]",
      "text/plain": [
       "<Figure size 640x480 with 1 Axes>"
      ]
     },
     "metadata": {},
     "output_type": "display_data"
    }
   ],
   "source": [
    "tick_locations = [value for value in x_axis]\n",
    "plt.xticks(tick_locations, sleepHours)\n",
    "plt.xlim(-0.75, len(x_axis)-0.25)\n",
    "plt.ylim(0, max(partResponse)+5000)\n",
    "plt.title(\"Average Hours Slept by Participants without Heart Disease\")\n",
    "plt.xlabel(\"Hours of Sleep\")\n",
    "plt.ylabel(\"Number of Participants with Heart Disease\")\n",
    "plt.bar(x_axis, partResponse, color=\"coral\", align=\"center\")\n",
    "path = os.path.join(\"..\",\"visualizations\",\"Average Hours Slept by Participants without Heart Disease.PNG\")\n",
    "plt.savefig(path)"
   ]
  },
  {
   "cell_type": "markdown",
   "id": "b576d4d4-eff1-4a5f-8780-176fe01cf78b",
   "metadata": {},
   "source": [
    "## Smoking & E-Cigarettes Use"
   ]
  },
  {
   "cell_type": "code",
   "execution_count": 75,
   "id": "3c8df822-622b-4e61-ac45-72c16d7e1f57",
   "metadata": {
    "tags": []
   },
   "outputs": [
    {
     "data": {
      "text/html": [
       "<div>\n",
       "<style scoped>\n",
       "    .dataframe tbody tr th:only-of-type {\n",
       "        vertical-align: middle;\n",
       "    }\n",
       "\n",
       "    .dataframe tbody tr th {\n",
       "        vertical-align: top;\n",
       "    }\n",
       "\n",
       "    .dataframe thead th {\n",
       "        text-align: right;\n",
       "    }\n",
       "</style>\n",
       "<table border=\"1\" class=\"dataframe\">\n",
       "  <thead>\n",
       "    <tr style=\"text-align: right;\">\n",
       "      <th></th>\n",
       "      <th>HadHeartAttack</th>\n",
       "      <th>GeneralHealth</th>\n",
       "      <th>PhysicalActivities</th>\n",
       "      <th>SleepHours</th>\n",
       "      <th>SmokerStatus</th>\n",
       "      <th>ECigaretteUsage</th>\n",
       "      <th>AlcoholDrinkers</th>\n",
       "    </tr>\n",
       "  </thead>\n",
       "  <tbody>\n",
       "    <tr>\n",
       "      <th>7</th>\n",
       "      <td>Yes</td>\n",
       "      <td>Fair</td>\n",
       "      <td>Yes</td>\n",
       "      <td>8.0</td>\n",
       "      <td>Never smoked</td>\n",
       "      <td>Never used e-cigarettes in my entire life</td>\n",
       "      <td>No</td>\n",
       "    </tr>\n",
       "    <tr>\n",
       "      <th>12</th>\n",
       "      <td>Yes</td>\n",
       "      <td>Good</td>\n",
       "      <td>Yes</td>\n",
       "      <td>5.0</td>\n",
       "      <td>Current smoker - now smokes every day</td>\n",
       "      <td>Use them some days</td>\n",
       "      <td>No</td>\n",
       "    </tr>\n",
       "    <tr>\n",
       "      <th>34</th>\n",
       "      <td>Yes</td>\n",
       "      <td>Good</td>\n",
       "      <td>Yes</td>\n",
       "      <td>6.0</td>\n",
       "      <td>Former smoker</td>\n",
       "      <td>Not at all (right now)</td>\n",
       "      <td>No</td>\n",
       "    </tr>\n",
       "    <tr>\n",
       "      <th>37</th>\n",
       "      <td>Yes</td>\n",
       "      <td>Good</td>\n",
       "      <td>Yes</td>\n",
       "      <td>5.0</td>\n",
       "      <td>Former smoker</td>\n",
       "      <td>Never used e-cigarettes in my entire life</td>\n",
       "      <td>No</td>\n",
       "    </tr>\n",
       "    <tr>\n",
       "      <th>43</th>\n",
       "      <td>Yes</td>\n",
       "      <td>Good</td>\n",
       "      <td>Yes</td>\n",
       "      <td>8.0</td>\n",
       "      <td>Never smoked</td>\n",
       "      <td>Never used e-cigarettes in my entire life</td>\n",
       "      <td>No</td>\n",
       "    </tr>\n",
       "  </tbody>\n",
       "</table>\n",
       "</div>"
      ],
      "text/plain": [
       "   HadHeartAttack GeneralHealth PhysicalActivities  SleepHours  \\\n",
       "7             Yes          Fair                Yes         8.0   \n",
       "12            Yes          Good                Yes         5.0   \n",
       "34            Yes          Good                Yes         6.0   \n",
       "37            Yes          Good                Yes         5.0   \n",
       "43            Yes          Good                Yes         8.0   \n",
       "\n",
       "                             SmokerStatus  \\\n",
       "7                            Never smoked   \n",
       "12  Current smoker - now smokes every day   \n",
       "34                          Former smoker   \n",
       "37                          Former smoker   \n",
       "43                           Never smoked   \n",
       "\n",
       "                              ECigaretteUsage AlcoholDrinkers  \n",
       "7   Never used e-cigarettes in my entire life              No  \n",
       "12                         Use them some days              No  \n",
       "34                     Not at all (right now)              No  \n",
       "37  Never used e-cigarettes in my entire life              No  \n",
       "43  Never used e-cigarettes in my entire life              No  "
      ]
     },
     "execution_count": 75,
     "metadata": {},
     "output_type": "execute_result"
    }
   ],
   "source": [
    "# smoking status of participants WITH heart diease\n",
    "positiveHD.head()"
   ]
  },
  {
   "cell_type": "code",
   "execution_count": 76,
   "id": "02adefa9-58b5-4b7d-b91a-02f3da46cf77",
   "metadata": {
    "tags": []
   },
   "outputs": [
    {
     "data": {
      "text/html": [
       "<div>\n",
       "<style scoped>\n",
       "    .dataframe tbody tr th:only-of-type {\n",
       "        vertical-align: middle;\n",
       "    }\n",
       "\n",
       "    .dataframe tbody tr th {\n",
       "        vertical-align: top;\n",
       "    }\n",
       "\n",
       "    .dataframe thead th {\n",
       "        text-align: right;\n",
       "    }\n",
       "</style>\n",
       "<table border=\"1\" class=\"dataframe\">\n",
       "  <thead>\n",
       "    <tr style=\"text-align: right;\">\n",
       "      <th></th>\n",
       "      <th>HadHeartAttack</th>\n",
       "      <th>SmokerStatus</th>\n",
       "      <th>ECigaretteUsage</th>\n",
       "    </tr>\n",
       "  </thead>\n",
       "  <tbody>\n",
       "    <tr>\n",
       "      <th>7</th>\n",
       "      <td>Yes</td>\n",
       "      <td>Never smoked</td>\n",
       "      <td>Never used e-cigarettes in my entire life</td>\n",
       "    </tr>\n",
       "    <tr>\n",
       "      <th>12</th>\n",
       "      <td>Yes</td>\n",
       "      <td>Current smoker - now smokes every day</td>\n",
       "      <td>Use them some days</td>\n",
       "    </tr>\n",
       "    <tr>\n",
       "      <th>34</th>\n",
       "      <td>Yes</td>\n",
       "      <td>Former smoker</td>\n",
       "      <td>Not at all (right now)</td>\n",
       "    </tr>\n",
       "    <tr>\n",
       "      <th>37</th>\n",
       "      <td>Yes</td>\n",
       "      <td>Former smoker</td>\n",
       "      <td>Never used e-cigarettes in my entire life</td>\n",
       "    </tr>\n",
       "    <tr>\n",
       "      <th>43</th>\n",
       "      <td>Yes</td>\n",
       "      <td>Never smoked</td>\n",
       "      <td>Never used e-cigarettes in my entire life</td>\n",
       "    </tr>\n",
       "  </tbody>\n",
       "</table>\n",
       "</div>"
      ],
      "text/plain": [
       "   HadHeartAttack                           SmokerStatus  \\\n",
       "7             Yes                           Never smoked   \n",
       "12            Yes  Current smoker - now smokes every day   \n",
       "34            Yes                          Former smoker   \n",
       "37            Yes                          Former smoker   \n",
       "43            Yes                           Never smoked   \n",
       "\n",
       "                              ECigaretteUsage  \n",
       "7   Never used e-cigarettes in my entire life  \n",
       "12                         Use them some days  \n",
       "34                     Not at all (right now)  \n",
       "37  Never used e-cigarettes in my entire life  \n",
       "43  Never used e-cigarettes in my entire life  "
      ]
     },
     "execution_count": 76,
     "metadata": {},
     "output_type": "execute_result"
    }
   ],
   "source": [
    "positiveHD[[\"HadHeartAttack\", \"SmokerStatus\",\"ECigaretteUsage\"]].head()"
   ]
  },
  {
   "cell_type": "code",
   "execution_count": 77,
   "id": "0dedfbd0-de3f-45f2-9778-17e801603e5d",
   "metadata": {
    "tags": []
   },
   "outputs": [],
   "source": [
    "# smoking status"
   ]
  },
  {
   "cell_type": "code",
   "execution_count": 78,
   "id": "433a208f-307c-48e4-94fe-5507ab9833cf",
   "metadata": {
    "tags": []
   },
   "outputs": [
    {
     "data": {
      "text/plain": [
       "array(['Never smoked', 'Current smoker - now smokes every day',\n",
       "       'Former smoker', 'Current smoker - now smokes some days'],\n",
       "      dtype=object)"
      ]
     },
     "execution_count": 78,
     "metadata": {},
     "output_type": "execute_result"
    }
   ],
   "source": [
    "uniqueSmoke = positiveHD[\"SmokerStatus\"].unique()\n",
    "uniqueSmoke"
   ]
  },
  {
   "cell_type": "code",
   "execution_count": 79,
   "id": "3d08e2a2-9ebb-4f1f-90bf-edb219a2c85f",
   "metadata": {},
   "outputs": [
    {
     "data": {
      "text/plain": [
       "SmokerStatus\n",
       "Former smoker                            5610\n",
       "Never smoked                             5471\n",
       "Current smoker - now smokes every day    1801\n",
       "Current smoker - now smokes some days     553\n",
       "Name: count, dtype: int64"
      ]
     },
     "execution_count": 79,
     "metadata": {},
     "output_type": "execute_result"
    }
   ],
   "source": [
    "countSmokePos = positiveHD[\"SmokerStatus\"].value_counts()\n",
    "countSmokePos"
   ]
  },
  {
   "cell_type": "code",
   "execution_count": 80,
   "id": "419026a1-3e22-46c0-8978-978c724d048b",
   "metadata": {
    "tags": []
   },
   "outputs": [],
   "source": [
    "positiveHD[\"SmokerStatus\"] = positiveHD[\"SmokerStatus\"].replace({\"Current smoker - now smokes every day\":\"Current Daily Smoker\", \"Current smoker - now smokes some days\":\"Current Occassional Smoker\"})"
   ]
  },
  {
   "cell_type": "code",
   "execution_count": 81,
   "id": "47d57897-ae9a-4882-b88c-8b9bd6acee34",
   "metadata": {
    "tags": []
   },
   "outputs": [
    {
     "data": {
      "text/plain": [
       "SmokerStatus\n",
       "Former smoker                 5610\n",
       "Never smoked                  5471\n",
       "Current Daily Smoker          1801\n",
       "Current Occassional Smoker     553\n",
       "Name: count, dtype: int64"
      ]
     },
     "execution_count": 81,
     "metadata": {},
     "output_type": "execute_result"
    }
   ],
   "source": [
    "positiveHD[\"SmokerStatus\"].value_counts()"
   ]
  },
  {
   "cell_type": "code",
   "execution_count": 82,
   "id": "05ad4bee-c90d-4240-8a18-47398f1b879b",
   "metadata": {
    "tags": []
   },
   "outputs": [
    {
     "data": {
      "text/plain": [
       "SmokerStatus\n",
       "Never smoked                             142266\n",
       "Former smoker                             62917\n",
       "Current smoker - now smokes every day     19858\n",
       "Current smoker - now smokes some days      7546\n",
       "Name: count, dtype: int64"
      ]
     },
     "execution_count": 82,
     "metadata": {},
     "output_type": "execute_result"
    }
   ],
   "source": [
    "countSmokeNeg = negativeHD[\"SmokerStatus\"].value_counts()\n",
    "countSmokeNeg"
   ]
  },
  {
   "cell_type": "code",
   "execution_count": 83,
   "id": "dd78be28-4052-4796-af0a-59567fabbab7",
   "metadata": {
    "tags": []
   },
   "outputs": [],
   "source": [
    "negativeHD[\"SmokerStatus\"] = negativeHD[\"SmokerStatus\"].replace({\"Current smoker - now smokes every day\":\"Current Daily Smoker\", \"Current smoker - now smokes some days\":\"Current Occassional Smoker\"})"
   ]
  },
  {
   "cell_type": "code",
   "execution_count": 84,
   "id": "d755a557-8df6-4b5d-bf3a-2376b804144d",
   "metadata": {
    "tags": []
   },
   "outputs": [
    {
     "data": {
      "text/plain": [
       "SmokerStatus\n",
       "Never smoked                  142266\n",
       "Former smoker                  62917\n",
       "Current Daily Smoker           19858\n",
       "Current Occassional Smoker      7546\n",
       "Name: count, dtype: int64"
      ]
     },
     "execution_count": 84,
     "metadata": {},
     "output_type": "execute_result"
    }
   ],
   "source": [
    "negativeHD[\"SmokerStatus\"].value_counts()"
   ]
  },
  {
   "cell_type": "code",
   "execution_count": 85,
   "id": "4e397941-99a3-4dec-b056-387d66e786be",
   "metadata": {
    "tags": []
   },
   "outputs": [
    {
     "data": {
      "text/plain": [
       "40.72199478972832"
      ]
     },
     "execution_count": 85,
     "metadata": {},
     "output_type": "execute_result"
    }
   ],
   "source": [
    "# percentage of 'never smoked' responses from participants with heart disease\n",
    "neverPosCount = positiveHD[(positiveHD[\"SmokerStatus\"] == 'Never smoked')].count()[\"HadHeartAttack\"]\n",
    "neverPosPercent = neverPosCount / float(posRowCount) * 100\n",
    "neverPosPercent"
   ]
  },
  {
   "cell_type": "code",
   "execution_count": 86,
   "id": "0bc807f2-c5c6-4f40-94c3-a269f7bd5a41",
   "metadata": {
    "tags": []
   },
   "outputs": [
    {
     "data": {
      "text/plain": [
       "13.405284704131"
      ]
     },
     "execution_count": 86,
     "metadata": {},
     "output_type": "execute_result"
    }
   ],
   "source": [
    "# percentage of 'current daily smoker' responses from participants with heart disease\n",
    "currentPosCount = positiveHD[(positiveHD[\"SmokerStatus\"] == 'Current Daily Smoker')].count()[\"HadHeartAttack\"]\n",
    "currentPosPercent = currentPosCount / float(posRowCount) * 100\n",
    "currentPosPercent"
   ]
  },
  {
   "cell_type": "code",
   "execution_count": 87,
   "id": "c735569e-498f-43bc-8d78-3aeaab4b273a",
   "metadata": {
    "tags": []
   },
   "outputs": [
    {
     "data": {
      "text/plain": [
       "61.166789201460105"
      ]
     },
     "execution_count": 87,
     "metadata": {},
     "output_type": "execute_result"
    }
   ],
   "source": [
    "# percentage of 'never smoked' responses from participants without heart disease\n",
    "neverNegCount = negativeHD[(negativeHD[\"SmokerStatus\"] == 'Never smoked')].count()[\"HadHeartAttack\"]\n",
    "neverNegPercent = neverNegCount / float(negRowCount) * 100\n",
    "neverNegPercent"
   ]
  },
  {
   "cell_type": "code",
   "execution_count": 88,
   "id": "530d3029-282c-4c4f-a7d7-81728f453068",
   "metadata": {
    "tags": []
   },
   "outputs": [
    {
     "data": {
      "text/plain": [
       "8.537880449036274"
      ]
     },
     "execution_count": 88,
     "metadata": {},
     "output_type": "execute_result"
    }
   ],
   "source": [
    "# percentage of 'current daily smoker' responses from participants without heart disease\n",
    "currentNegCount = negativeHD[(negativeHD[\"SmokerStatus\"] == 'Current Daily Smoker')].count()[\"HadHeartAttack\"]\n",
    "currentNegPercent = currentNegCount / float(negRowCount) * 100\n",
    "currentNegPercent"
   ]
  },
  {
   "cell_type": "code",
   "execution_count": 89,
   "id": "7d45c813-c34d-4b4c-ac04-feac5f7e2678",
   "metadata": {
    "tags": []
   },
   "outputs": [
    {
     "data": {
      "image/png": "[encoded data removed]",
      "text/plain": [
       "<Figure size 640x480 with 1 Axes>"
      ]
     },
     "metadata": {},
     "output_type": "display_data"
    }
   ],
   "source": [
    "# visualization of smoker status in participants WITH and WITHOUT heart disease\n",
    "status = [\"Former smoker\", \"Never Smoked\", \"Current Daily Smoker\", \"Current Occassional Smoker\"]\n",
    "Ypos = [5610,  5471,  1801,  553] \n",
    "Zneg = [62617, 142266, 19858, 7546] \n",
    "  \n",
    "X_axis = np.arange(len(status)) \n",
    "  \n",
    "plt.bar(X_axis - 0.2, Ypos, 0.5, color=\"peru\", label = \"Heart Disease\") \n",
    "plt.bar(X_axis + 0.2, Zneg, 0.5, color=\"indigo\", label = \"No Heart Disese\") \n",
    "\n",
    "tick_locations = [value for value in x_axis]\n",
    "plt.xticks(X_axis, [\"Former smoker\", \"Never\", \"Current Daily Smoker\", \"Current Occassional Smoker\"], rotation=45)\n",
    "plt.xlabel(\"Smoker Status\") \n",
    "plt.ylabel(\"Number of Participant Responses\") \n",
    "plt.title(\"Smoker Status of Participants With & Without Heart Disease\") \n",
    "plt.legend() \n",
    "path = os.path.join(\"..\",\"visualizations\",\"Smoker Status of Participants With & Without Heart Disease.PNG\")\n",
    "plt.savefig(path)\n",
    "plt.show() "
   ]
  },
  {
   "cell_type": "code",
   "execution_count": 90,
   "id": "7e78bc76-0023-4803-a621-864a9b283af5",
   "metadata": {
    "tags": []
   },
   "outputs": [],
   "source": [
    "# e-cigarette usage status"
   ]
  },
  {
   "cell_type": "code",
   "execution_count": 91,
   "id": "6fdf0eba-9937-45da-8459-c33e780d9ba2",
   "metadata": {
    "tags": []
   },
   "outputs": [
    {
     "data": {
      "text/plain": [
       "array(['Never used e-cigarettes in my entire life', 'Use them some days',\n",
       "       'Not at all (right now)', 'Use them every day'], dtype=object)"
      ]
     },
     "execution_count": 91,
     "metadata": {},
     "output_type": "execute_result"
    }
   ],
   "source": [
    "uniqueECig = positiveHD[\"ECigaretteUsage\"].unique()\n",
    "uniqueECig"
   ]
  },
  {
   "cell_type": "code",
   "execution_count": 92,
   "id": "7f98b3c4-3f92-4956-96cc-f85708859b3c",
   "metadata": {
    "tags": []
   },
   "outputs": [
    {
     "data": {
      "text/plain": [
       "ECigaretteUsage\n",
       "Never used e-cigarettes in my entire life    10572\n",
       "Not at all (right now)                        2435\n",
       "Use them some days                             251\n",
       "Use them every day                             177\n",
       "Name: count, dtype: int64"
      ]
     },
     "execution_count": 92,
     "metadata": {},
     "output_type": "execute_result"
    }
   ],
   "source": [
    "countECigPos = positiveHD[\"ECigaretteUsage\"].value_counts()\n",
    "countECigPos"
   ]
  },
  {
   "cell_type": "code",
   "execution_count": 93,
   "id": "365f9ada-26cb-43e2-a70e-29dcc5a00859",
   "metadata": {
    "tags": []
   },
   "outputs": [],
   "source": [
    "positiveHD[\"ECigaretteUsage\"] = positiveHD[\"ECigaretteUsage\"].replace({\"Never used e-cigarettes in my entire life\":\"Never Used\", \"Use them some days\":\"Occasional User\", \"Not at all (right now)\":\"Not Current User\", \"Use them every day\":\"Daily User\"})"
   ]
  },
  {
   "cell_type": "code",
   "execution_count": 94,
   "id": "621160df-513d-48a2-af4d-89590b1c504b",
   "metadata": {
    "tags": []
   },
   "outputs": [
    {
     "data": {
      "text/plain": [
       "ECigaretteUsage\n",
       "Never Used          10572\n",
       "Not Current User     2435\n",
       "Occasional User       251\n",
       "Daily User            177\n",
       "Name: count, dtype: int64"
      ]
     },
     "execution_count": 94,
     "metadata": {},
     "output_type": "execute_result"
    }
   ],
   "source": [
    "positiveHD[\"ECigaretteUsage\"].value_counts()"
   ]
  },
  {
   "cell_type": "code",
   "execution_count": 95,
   "id": "7ec5d36d-7504-4c36-b97b-ae9e32d8ec89",
   "metadata": {
    "tags": []
   },
   "outputs": [
    {
     "data": {
      "text/plain": [
       "ECigaretteUsage\n",
       "Never used e-cigarettes in my entire life    179556\n",
       "Not at all (right now)                        40846\n",
       "Use them some days                             6407\n",
       "Use them every day                             5778\n",
       "Name: count, dtype: int64"
      ]
     },
     "execution_count": 95,
     "metadata": {},
     "output_type": "execute_result"
    }
   ],
   "source": [
    "countECigNeg = negativeHD[\"ECigaretteUsage\"].value_counts()\n",
    "countECigNeg"
   ]
  },
  {
   "cell_type": "code",
   "execution_count": 96,
   "id": "f33dc917-249e-4b5c-9bcc-4b494ad4f40f",
   "metadata": {
    "tags": []
   },
   "outputs": [],
   "source": [
    "negativeHD[\"ECigaretteUsage\"] = negativeHD[\"ECigaretteUsage\"].replace({\"Never used e-cigarettes in my entire life\":\"Never Used\", \"Use them some days\":\"Occasional User\", \"Not at all (right now)\":\"Not Current User\", \"Use them every day\":\"Daily User\"})"
   ]
  },
  {
   "cell_type": "code",
   "execution_count": 97,
   "id": "89603d12-7d31-4c96-82ef-fa2cf300b7a8",
   "metadata": {
    "tags": []
   },
   "outputs": [
    {
     "data": {
      "text/plain": [
       "ECigaretteUsage\n",
       "Never Used          179556\n",
       "Not Current User     40846\n",
       "Occasional User       6407\n",
       "Daily User            5778\n",
       "Name: count, dtype: int64"
      ]
     },
     "execution_count": 97,
     "metadata": {},
     "output_type": "execute_result"
    }
   ],
   "source": [
    "negativeHD[\"ECigaretteUsage\"].value_counts()"
   ]
  },
  {
   "cell_type": "code",
   "execution_count": 98,
   "id": "0a8427f9-d0a9-475a-8c24-abd6fb91ae34",
   "metadata": {
    "tags": []
   },
   "outputs": [
    {
     "data": {
      "text/plain": [
       "78.68998883513211"
      ]
     },
     "execution_count": 98,
     "metadata": {},
     "output_type": "execute_result"
    }
   ],
   "source": [
    "# percentage of 'never used' responses from participants with heart disease\n",
    "neverEcigPosCount = positiveHD[(positiveHD[\"ECigaretteUsage\"] == 'Never Used')].count()[\"HadHeartAttack\"]\n",
    "neverEcigPosPercent = neverEcigPosCount / float(posRowCount) * 100\n",
    "neverEcigPosPercent"
   ]
  },
  {
   "cell_type": "code",
   "execution_count": 99,
   "id": "7b4e5268-e8fc-4c75-9526-d95a6dd05427",
   "metadata": {
    "tags": []
   },
   "outputs": [
    {
     "data": {
      "text/plain": [
       "1.3174544101228136"
      ]
     },
     "execution_count": 99,
     "metadata": {},
     "output_type": "execute_result"
    }
   ],
   "source": [
    "# percentage of 'daily user' responses from participants with heart disease\n",
    "dailyPosCount = positiveHD[(positiveHD[\"ECigaretteUsage\"] == 'Daily User')].count()[\"HadHeartAttack\"]\n",
    "dailyPosPercent = dailyPosCount / float(posRowCount) * 100\n",
    "dailyPosPercent"
   ]
  },
  {
   "cell_type": "code",
   "execution_count": 100,
   "id": "ae1c3516-1c10-42b8-a39b-c671a17cd208",
   "metadata": {
    "tags": []
   },
   "outputs": [
    {
     "data": {
      "text/plain": [
       "77.19949954210682"
      ]
     },
     "execution_count": 100,
     "metadata": {},
     "output_type": "execute_result"
    }
   ],
   "source": [
    "# percentage of 'never used' responses from participants without heart disease\n",
    "neverEcigNegCount = negativeHD[(negativeHD[\"ECigaretteUsage\"] == 'Never Used')].count()[\"HadHeartAttack\"]\n",
    "neverEcigNegPercent = neverEcigNegCount / float(negRowCount) * 100\n",
    "neverEcigNegPercent"
   ]
  },
  {
   "cell_type": "code",
   "execution_count": 101,
   "id": "a9a268e7-648a-44ca-bf91-f030af1e529b",
   "metadata": {
    "tags": []
   },
   "outputs": [
    {
     "data": {
      "text/plain": [
       "2.4842317068451805"
      ]
     },
     "execution_count": 101,
     "metadata": {},
     "output_type": "execute_result"
    }
   ],
   "source": [
    "# percentage of 'current daily user' responses from participants without heart disease\n",
    "dailyNegCount = negativeHD[(negativeHD[\"ECigaretteUsage\"] == 'Daily User')].count()[\"HadHeartAttack\"]\n",
    "dailyNegPercent = dailyNegCount / float(negRowCount) * 100\n",
    "dailyNegPercent"
   ]
  },
  {
   "cell_type": "code",
   "execution_count": 102,
   "id": "3a370f8f-c7c8-4e29-a7de-a8d4faf9c0b5",
   "metadata": {
    "tags": []
   },
   "outputs": [
    {
     "data": {
      "image/png": "[encoded data removed]",
      "text/plain": [
       "<Figure size 640x480 with 1 Axes>"
      ]
     },
     "metadata": {},
     "output_type": "display_data"
    }
   ],
   "source": [
    "# visualization of smoker status in participants WITH and WITHOUT heart disease\n",
    "status = [\"Never Used\", \"Not Current User\", \"Occasional User\", \"Daily User\"]\n",
    "Ypos = [10572, 2435, 251, 177] \n",
    "Zneg = [179556, 40846, 6407, 5778] \n",
    "  \n",
    "X_axis = np.arange(len(status)) \n",
    "  \n",
    "plt.bar(X_axis - 0.2, Ypos, 0.5, color=\"peru\", label = \"Heart Disease\") \n",
    "plt.bar(X_axis + 0.2, Zneg, 0.5, color=\"indigo\", label = \"No Heart Disese\") \n",
    "  \n",
    "plt.xticks(X_axis, [\"Never Used\", \"Not Current User\", \"Occasional User\", \"Daily User\"], rotation=45) \n",
    "plt.xlabel(\"E-Cigarette Usage Status\") \n",
    "plt.ylabel(\"Number of Participant Responses\") \n",
    "plt.title(\"E-Cigarette Usage Status of Participants With & Without Heart Disease\") \n",
    "plt.legend() \n",
    "path = os.path.join(\"..\",\"visualizations\",\"E-Cigarette Usage Status of Participants With & Without Heart Disease\")\n",
    "plt.savefig(path)\n",
    "plt.show() "
   ]
  },
  {
   "cell_type": "markdown",
   "id": "ff8cb102-62ac-4ae6-82c8-415771e7c039",
   "metadata": {},
   "source": [
    "## Alcohol Consumption"
   ]
  },
  {
   "cell_type": "code",
   "execution_count": 103,
   "id": "9ce212ac-2f26-47eb-b86e-6e8d3d482517",
   "metadata": {
    "tags": []
   },
   "outputs": [
    {
     "data": {
      "text/html": [
       "<div>\n",
       "<style scoped>\n",
       "    .dataframe tbody tr th:only-of-type {\n",
       "        vertical-align: middle;\n",
       "    }\n",
       "\n",
       "    .dataframe tbody tr th {\n",
       "        vertical-align: top;\n",
       "    }\n",
       "\n",
       "    .dataframe thead th {\n",
       "        text-align: right;\n",
       "    }\n",
       "</style>\n",
       "<table border=\"1\" class=\"dataframe\">\n",
       "  <thead>\n",
       "    <tr style=\"text-align: right;\">\n",
       "      <th></th>\n",
       "      <th>HadHeartAttack</th>\n",
       "      <th>GeneralHealth</th>\n",
       "      <th>PhysicalActivities</th>\n",
       "      <th>SleepHours</th>\n",
       "      <th>SmokerStatus</th>\n",
       "      <th>ECigaretteUsage</th>\n",
       "      <th>AlcoholDrinkers</th>\n",
       "    </tr>\n",
       "  </thead>\n",
       "  <tbody>\n",
       "    <tr>\n",
       "      <th>7</th>\n",
       "      <td>Yes</td>\n",
       "      <td>Fair</td>\n",
       "      <td>Yes</td>\n",
       "      <td>8.0</td>\n",
       "      <td>Never smoked</td>\n",
       "      <td>Never Used</td>\n",
       "      <td>No</td>\n",
       "    </tr>\n",
       "    <tr>\n",
       "      <th>12</th>\n",
       "      <td>Yes</td>\n",
       "      <td>Good</td>\n",
       "      <td>Yes</td>\n",
       "      <td>5.0</td>\n",
       "      <td>Current Daily Smoker</td>\n",
       "      <td>Occasional User</td>\n",
       "      <td>No</td>\n",
       "    </tr>\n",
       "    <tr>\n",
       "      <th>34</th>\n",
       "      <td>Yes</td>\n",
       "      <td>Good</td>\n",
       "      <td>Yes</td>\n",
       "      <td>6.0</td>\n",
       "      <td>Former smoker</td>\n",
       "      <td>Not Current User</td>\n",
       "      <td>No</td>\n",
       "    </tr>\n",
       "    <tr>\n",
       "      <th>37</th>\n",
       "      <td>Yes</td>\n",
       "      <td>Good</td>\n",
       "      <td>Yes</td>\n",
       "      <td>5.0</td>\n",
       "      <td>Former smoker</td>\n",
       "      <td>Never Used</td>\n",
       "      <td>No</td>\n",
       "    </tr>\n",
       "    <tr>\n",
       "      <th>43</th>\n",
       "      <td>Yes</td>\n",
       "      <td>Good</td>\n",
       "      <td>Yes</td>\n",
       "      <td>8.0</td>\n",
       "      <td>Never smoked</td>\n",
       "      <td>Never Used</td>\n",
       "      <td>No</td>\n",
       "    </tr>\n",
       "  </tbody>\n",
       "</table>\n",
       "</div>"
      ],
      "text/plain": [
       "   HadHeartAttack GeneralHealth PhysicalActivities  SleepHours  \\\n",
       "7             Yes          Fair                Yes         8.0   \n",
       "12            Yes          Good                Yes         5.0   \n",
       "34            Yes          Good                Yes         6.0   \n",
       "37            Yes          Good                Yes         5.0   \n",
       "43            Yes          Good                Yes         8.0   \n",
       "\n",
       "            SmokerStatus   ECigaretteUsage AlcoholDrinkers  \n",
       "7           Never smoked        Never Used              No  \n",
       "12  Current Daily Smoker   Occasional User              No  \n",
       "34         Former smoker  Not Current User              No  \n",
       "37         Former smoker        Never Used              No  \n",
       "43          Never smoked        Never Used              No  "
      ]
     },
     "execution_count": 103,
     "metadata": {},
     "output_type": "execute_result"
    }
   ],
   "source": [
    "# smoking status of participants WITH heart diease\n",
    "positiveHD.head()"
   ]
  },
  {
   "cell_type": "code",
   "execution_count": 104,
   "id": "0439b786-a7cd-4de4-8859-3ee140ec9fe2",
   "metadata": {
    "tags": []
   },
   "outputs": [
    {
     "data": {
      "text/html": [
       "<div>\n",
       "<style scoped>\n",
       "    .dataframe tbody tr th:only-of-type {\n",
       "        vertical-align: middle;\n",
       "    }\n",
       "\n",
       "    .dataframe tbody tr th {\n",
       "        vertical-align: top;\n",
       "    }\n",
       "\n",
       "    .dataframe thead th {\n",
       "        text-align: right;\n",
       "    }\n",
       "</style>\n",
       "<table border=\"1\" class=\"dataframe\">\n",
       "  <thead>\n",
       "    <tr style=\"text-align: right;\">\n",
       "      <th></th>\n",
       "      <th>HadHeartAttack</th>\n",
       "      <th>AlcoholDrinkers</th>\n",
       "    </tr>\n",
       "  </thead>\n",
       "  <tbody>\n",
       "    <tr>\n",
       "      <th>7</th>\n",
       "      <td>Yes</td>\n",
       "      <td>No</td>\n",
       "    </tr>\n",
       "    <tr>\n",
       "      <th>12</th>\n",
       "      <td>Yes</td>\n",
       "      <td>No</td>\n",
       "    </tr>\n",
       "    <tr>\n",
       "      <th>34</th>\n",
       "      <td>Yes</td>\n",
       "      <td>No</td>\n",
       "    </tr>\n",
       "    <tr>\n",
       "      <th>37</th>\n",
       "      <td>Yes</td>\n",
       "      <td>No</td>\n",
       "    </tr>\n",
       "    <tr>\n",
       "      <th>43</th>\n",
       "      <td>Yes</td>\n",
       "      <td>No</td>\n",
       "    </tr>\n",
       "  </tbody>\n",
       "</table>\n",
       "</div>"
      ],
      "text/plain": [
       "   HadHeartAttack AlcoholDrinkers\n",
       "7             Yes              No\n",
       "12            Yes              No\n",
       "34            Yes              No\n",
       "37            Yes              No\n",
       "43            Yes              No"
      ]
     },
     "execution_count": 104,
     "metadata": {},
     "output_type": "execute_result"
    }
   ],
   "source": [
    "positiveHD[[\"HadHeartAttack\",\"AlcoholDrinkers\"]].head()"
   ]
  },
  {
   "cell_type": "code",
   "execution_count": 105,
   "id": "a1ac9edb-ac86-435a-8e82-31f46c09399a",
   "metadata": {
    "tags": []
   },
   "outputs": [
    {
     "data": {
      "text/plain": [
       "array(['No', 'Yes'], dtype=object)"
      ]
     },
     "execution_count": 105,
     "metadata": {},
     "output_type": "execute_result"
    }
   ],
   "source": [
    "uniqueAU = positiveHD[\"AlcoholDrinkers\"].unique()\n",
    "uniqueAU"
   ]
  },
  {
   "cell_type": "code",
   "execution_count": 106,
   "id": "8a04905f-69c2-40b6-bf7d-edc5d404b519",
   "metadata": {},
   "outputs": [
    {
     "data": {
      "text/plain": [
       "AlcoholDrinkers\n",
       "No     8109\n",
       "Yes    5326\n",
       "Name: count, dtype: int64"
      ]
     },
     "execution_count": 106,
     "metadata": {},
     "output_type": "execute_result"
    }
   ],
   "source": [
    "countAUPos = positiveHD[\"AlcoholDrinkers\"].value_counts()\n",
    "countAUPos"
   ]
  },
  {
   "cell_type": "code",
   "execution_count": 107,
   "id": "12c4f9fa-0180-4fbc-a42d-e862ae1bd24f",
   "metadata": {
    "tags": []
   },
   "outputs": [
    {
     "data": {
      "image/png": "[encoded data removed]",
      "text/plain": [
       "<Figure size 640x480 with 1 Axes>"
      ]
     },
     "metadata": {},
     "output_type": "display_data"
    }
   ],
   "source": [
    "# create visualization of the percentage of participants's alcohol usage WITH heart disease\n",
    "labels = [\"Do Not Drink Alcohol\", \"Drink Alcohol\"]\n",
    "sizes = [8109, 5326]\n",
    "colors = [\"slateblue\", \"aquamarine\"]\n",
    "plt.pie(sizes, labels=labels, colors=colors,\n",
    "        autopct=\"%1.1f%%\", shadow=True, startangle=140)\n",
    "plt.axis(\"equal\")\n",
    "plt.title(\"Alcohol Consumption in Participants with Heart Disease\")\n",
    "path = os.path.join(\"..\",\"visualizations\",\"Alcohol Consumption in Participants with Heart Disease\")\n",
    "plt.savefig(path)\n",
    "plt.show()"
   ]
  },
  {
   "cell_type": "code",
   "execution_count": 108,
   "id": "a335be75-b963-4894-89ec-790e0ab4e34b",
   "metadata": {
    "tags": []
   },
   "outputs": [
    {
     "data": {
      "text/plain": [
       "AlcoholDrinkers\n",
       "Yes    129981\n",
       "No     102606\n",
       "Name: count, dtype: int64"
      ]
     },
     "execution_count": 108,
     "metadata": {},
     "output_type": "execute_result"
    }
   ],
   "source": [
    "countAUNeg = negativeHD[\"AlcoholDrinkers\"].value_counts()\n",
    "countAUNeg"
   ]
  },
  {
   "cell_type": "code",
   "execution_count": 109,
   "id": "c799a7ba-8a82-4a90-8761-e9ff4297003a",
   "metadata": {
    "tags": []
   },
   "outputs": [
    {
     "data": {
      "text/plain": [
       "39.6427242277633"
      ]
     },
     "execution_count": 109,
     "metadata": {},
     "output_type": "execute_result"
    }
   ],
   "source": [
    "# percentage of participants who drink alcohol with heart disease\n",
    "drinkPosCount = positiveHD[(positiveHD[\"AlcoholDrinkers\"] == 'Yes')].count()[\"HadHeartAttack\"]\n",
    "drinkPosPercent = drinkPosCount / float(posRowCount) * 100\n",
    "drinkPosPercent"
   ]
  },
  {
   "cell_type": "code",
   "execution_count": 110,
   "id": "63180e3d-df18-420d-b9f0-2dfcc6bbb732",
   "metadata": {
    "tags": []
   },
   "outputs": [
    {
     "data": {
      "text/plain": [
       "60.3572757722367"
      ]
     },
     "execution_count": 110,
     "metadata": {},
     "output_type": "execute_result"
    }
   ],
   "source": [
    "# percentage of participants who do not drink alcohol with heart disease\n",
    "noDrinkPosCount = positiveHD[(positiveHD[\"AlcoholDrinkers\"] == 'No')].count()[\"HadHeartAttack\"]\n",
    "noDrinkPosPercent = noDrinkPosCount / float(posRowCount) * 100\n",
    "noDrinkPosPercent"
   ]
  },
  {
   "cell_type": "code",
   "execution_count": 111,
   "id": "ab5a3016-55f0-432b-a691-d87f618b6afe",
   "metadata": {
    "tags": []
   },
   "outputs": [
    {
     "data": {
      "text/plain": [
       "55.884894684569645"
      ]
     },
     "execution_count": 111,
     "metadata": {},
     "output_type": "execute_result"
    }
   ],
   "source": [
    "# percentage of participants who drink alcohol without heart disease\n",
    "drinkNegCount = negativeHD[(negativeHD[\"AlcoholDrinkers\"] == 'Yes')].count()[\"HadHeartAttack\"]\n",
    "drinkNegPercent = drinkNegCount / float(negRowCount) * 100\n",
    "drinkNegPercent"
   ]
  },
  {
   "cell_type": "code",
   "execution_count": 112,
   "id": "8697467f-c32c-4e57-b0eb-d5f685f43921",
   "metadata": {
    "tags": []
   },
   "outputs": [
    {
     "data": {
      "text/plain": [
       "44.115105315430355"
      ]
     },
     "execution_count": 112,
     "metadata": {},
     "output_type": "execute_result"
    }
   ],
   "source": [
    "# percentage of participants who do not drink alcohol without heart disease\n",
    "noDrinkNegCount = negativeHD[(negativeHD[\"AlcoholDrinkers\"] == 'No')].count()[\"HadHeartAttack\"]\n",
    "noDrinkNegPercent = noDrinkNegCount / float(negRowCount) * 100\n",
    "noDrinkNegPercent"
   ]
  },
  {
   "cell_type": "code",
   "execution_count": 113,
   "id": "1c0563f2-3ac0-409c-be11-b45339d40768",
   "metadata": {
    "tags": []
   },
   "outputs": [
    {
     "data": {
      "image/png": "[encoded data removed]",
      "text/plain": [
       "<Figure size 640x480 with 1 Axes>"
      ]
     },
     "metadata": {},
     "output_type": "display_data"
    }
   ],
   "source": [
    "# create visualization of the percentage of participants's alcohol usage WITHOUT heart disease\n",
    "labels = [\"Do Not Drink Alcohol\", \"Drink Alcohol\"]\n",
    "sizes = [102606, 129981]\n",
    "colors = [\"slateblue\", \"aquamarine\"]\n",
    "plt.pie(sizes, labels=labels, colors=colors,\n",
    "        autopct=\"%1.1f%%\", shadow=True, startangle=140)\n",
    "plt.axis(\"equal\")\n",
    "plt.title(\"Alcohol Consumption in Participants without Heart Disease\")\n",
    "path = os.path.join(\"..\",\"visualizations\",\"Alcohol Consumption in Participants without Heart Disease\")\n",
    "plt.savefig(path)\n",
    "plt.show()"
   ]
  },
  {
   "cell_type": "markdown",
   "id": "2f8855ca-4a93-439f-b7fa-5f12f632103f",
   "metadata": {},
   "source": [
    "# Summary"
   ]
  },
  {
   "cell_type": "markdown",
   "id": "409fa612-7171-407a-ae39-055fb31fdebb",
   "metadata": {},
   "source": [
    "## Lifestyle Indicators in Participants with Heart Disease "
   ]
  },
  {
   "cell_type": "code",
   "execution_count": 114,
   "id": "e95e4fba-9994-4632-8240-4325512bc588",
   "metadata": {},
   "outputs": [
    {
     "data": {
      "text/html": [
       "<div>\n",
       "<style scoped>\n",
       "    .dataframe tbody tr th:only-of-type {\n",
       "        vertical-align: middle;\n",
       "    }\n",
       "\n",
       "    .dataframe tbody tr th {\n",
       "        vertical-align: top;\n",
       "    }\n",
       "\n",
       "    .dataframe thead th {\n",
       "        text-align: right;\n",
       "    }\n",
       "</style>\n",
       "<table border=\"1\" class=\"dataframe\">\n",
       "  <thead>\n",
       "    <tr style=\"text-align: right;\">\n",
       "      <th></th>\n",
       "      <th>Total with Heart Disease</th>\n",
       "      <th>% in 'Excellent' Health</th>\n",
       "      <th>% in 'Poor' Health</th>\n",
       "      <th>% Active</th>\n",
       "      <th>% Not Active</th>\n",
       "      <th>% Slept 0-5 hours</th>\n",
       "      <th>% Slept 6-10 hours</th>\n",
       "      <th>% Slept Over 10 Hours</th>\n",
       "      <th>% Never Smoked</th>\n",
       "      <th>% Current Smoker</th>\n",
       "      <th>% Never Used</th>\n",
       "      <th>% Daily User</th>\n",
       "      <th>% Drink Alcohol</th>\n",
       "      <th>% Do Not Drink Alcohol</th>\n",
       "    </tr>\n",
       "  </thead>\n",
       "  <tbody>\n",
       "    <tr>\n",
       "      <th>0</th>\n",
       "      <td>13,435</td>\n",
       "      <td>4.42%</td>\n",
       "      <td>15.07%</td>\n",
       "      <td>63.37%</td>\n",
       "      <td>36.63%</td>\n",
       "      <td>15.91%</td>\n",
       "      <td>81.59%</td>\n",
       "      <td>2.49%</td>\n",
       "      <td>40.72%</td>\n",
       "      <td>13.41%</td>\n",
       "      <td>78.69%</td>\n",
       "      <td>1.32%</td>\n",
       "      <td>39.64%</td>\n",
       "      <td>60.36%</td>\n",
       "    </tr>\n",
       "  </tbody>\n",
       "</table>\n",
       "</div>"
      ],
      "text/plain": [
       "  Total with Heart Disease % in 'Excellent' Health % in 'Poor' Health  \\\n",
       "0                   13,435                   4.42%             15.07%   \n",
       "\n",
       "  % Active % Not Active % Slept 0-5 hours % Slept 6-10 hours  \\\n",
       "0   63.37%       36.63%            15.91%             81.59%   \n",
       "\n",
       "  % Slept Over 10 Hours % Never Smoked % Current Smoker % Never Used  \\\n",
       "0                 2.49%         40.72%           13.41%       78.69%   \n",
       "\n",
       "  % Daily User % Drink Alcohol % Do Not Drink Alcohol  \n",
       "0        1.32%          39.64%                 60.36%  "
      ]
     },
     "execution_count": 114,
     "metadata": {},
     "output_type": "execute_result"
    }
   ],
   "source": [
    "positiveLifestyleSummary = pd.DataFrame(\n",
    "    {\n",
    "     \"Total with Heart Disease\": [posRowCount],\n",
    "     \"% in 'Excellent' Health\": [excelGHpercent],\n",
    "     \"% in 'Poor' Health\": [poorGHPosPercent],\n",
    "     \"% Active\": [activePosPercent],\n",
    "     \"% Not Active\": [notActivePosPercent],\n",
    "     \"% Slept 0-5 hours\": [lowSleepPosPercent],\n",
    "     \"% Slept 6-10 hours\": [midSleepPosPercent],\n",
    "     \"% Slept Over 10 Hours\": [highSleepPosPercent],\n",
    "     \"% Never Smoked\": [neverPosPercent],\n",
    "     \"% Current Smoker\": [currentPosPercent],\n",
    "     \"% Never Used\": [neverEcigPosPercent],\n",
    "     \"% Daily User\": [dailyPosPercent],\n",
    "     \"% Drink Alcohol\": [drinkPosPercent],\n",
    "     \"% Do Not Drink Alcohol\": [noDrinkPosPercent]\n",
    "    }\n",
    ")\n",
    "\n",
    "# Formatting\n",
    "positiveLifestyleSummary[\"Total with Heart Disease\"] = positiveLifestyleSummary[\"Total with Heart Disease\"].map(\"{:,.0f}\".format)\n",
    "positiveLifestyleSummary[\"% in 'Excellent' Health\"] = positiveLifestyleSummary[\"% in 'Excellent' Health\"].map(\"{:.2f}%\".format)\n",
    "positiveLifestyleSummary[\"% in 'Poor' Health\"] = positiveLifestyleSummary[\"% in 'Poor' Health\"].map(\"{:.2f}%\".format)\n",
    "positiveLifestyleSummary[\"% Active\"] = positiveLifestyleSummary[\"% Active\"].map(\"{:.2f}%\".format)\n",
    "positiveLifestyleSummary[\"% Not Active\"] = positiveLifestyleSummary[\"% Not Active\"].map(\"{:.2f}%\".format)\n",
    "positiveLifestyleSummary[\"% Slept 0-5 hours\"] = positiveLifestyleSummary[\"% Slept 0-5 hours\"].map(\"{:.2f}%\".format)\n",
    "positiveLifestyleSummary[\"% Slept 6-10 hours\"] = positiveLifestyleSummary[\"% Slept 6-10 hours\"].map(\"{:.2f}%\".format)\n",
    "positiveLifestyleSummary[\"% Slept Over 10 Hours\"] = positiveLifestyleSummary[\"% Slept Over 10 Hours\"].map(\"{:.2f}%\".format)\n",
    "positiveLifestyleSummary[\"% Never Smoked\"] = positiveLifestyleSummary[\"% Never Smoked\"].map(\"{:.2f}%\".format)\n",
    "positiveLifestyleSummary[\"% Current Smoker\"] = positiveLifestyleSummary[\"% Current Smoker\"].map(\"{:.2f}%\".format)\n",
    "positiveLifestyleSummary[\"% Never Used\"] = positiveLifestyleSummary[\"% Never Used\"].map(\"{:.2f}%\".format)\n",
    "positiveLifestyleSummary[\"% Daily User\"] = positiveLifestyleSummary[\"% Daily User\"].map(\"{:.2f}%\".format)\n",
    "positiveLifestyleSummary[\"% Drink Alcohol\"] = positiveLifestyleSummary[\"% Drink Alcohol\"].map(\"{:.2f}%\".format)\n",
    "positiveLifestyleSummary[\"% Do Not Drink Alcohol\"] = positiveLifestyleSummary[\"% Do Not Drink Alcohol\"].map(\"{:.2f}%\".format)   \n",
    "\n",
    "positiveLifestyleSummary"
   ]
  },
  {
   "cell_type": "markdown",
   "id": "d17c3595-ed77-4edf-b576-86003efa4a55",
   "metadata": {
    "tags": []
   },
   "source": [
    "## Lifestyle Indicators in Participants without Heart Disease "
   ]
  },
  {
   "cell_type": "code",
   "execution_count": 115,
   "id": "403a9ec7-18c5-4b7b-a69b-94150baf1161",
   "metadata": {
    "tags": []
   },
   "outputs": [
    {
     "data": {
      "text/html": [
       "<div>\n",
       "<style scoped>\n",
       "    .dataframe tbody tr th:only-of-type {\n",
       "        vertical-align: middle;\n",
       "    }\n",
       "\n",
       "    .dataframe tbody tr th {\n",
       "        vertical-align: top;\n",
       "    }\n",
       "\n",
       "    .dataframe thead th {\n",
       "        text-align: right;\n",
       "    }\n",
       "</style>\n",
       "<table border=\"1\" class=\"dataframe\">\n",
       "  <thead>\n",
       "    <tr style=\"text-align: right;\">\n",
       "      <th></th>\n",
       "      <th>Total without Heart Disease</th>\n",
       "      <th>% in 'Excellent' Health</th>\n",
       "      <th>% in 'Poor' Health</th>\n",
       "      <th>% Active</th>\n",
       "      <th>% Not Active</th>\n",
       "      <th>% Slept 0-5 hours</th>\n",
       "      <th>% Slept 6-10 hours</th>\n",
       "      <th>% Slept Over 10 Hours</th>\n",
       "      <th>% Never Smoked</th>\n",
       "      <th>% Current Smoker</th>\n",
       "      <th>% Never Used</th>\n",
       "      <th>% Daily User</th>\n",
       "      <th>% Drink Alcohol</th>\n",
       "      <th>% Do Not Drink Alcohol</th>\n",
       "    </tr>\n",
       "  </thead>\n",
       "  <tbody>\n",
       "    <tr>\n",
       "      <th>0</th>\n",
       "      <td>232,587</td>\n",
       "      <td>17.60%</td>\n",
       "      <td>3.18%</td>\n",
       "      <td>78.60%</td>\n",
       "      <td>21.40%</td>\n",
       "      <td>10.18%</td>\n",
       "      <td>88.88%</td>\n",
       "      <td>0.94%</td>\n",
       "      <td>61.17%</td>\n",
       "      <td>8.54%</td>\n",
       "      <td>77.20%</td>\n",
       "      <td>2.48%</td>\n",
       "      <td>55.88%</td>\n",
       "      <td>44.12%</td>\n",
       "    </tr>\n",
       "  </tbody>\n",
       "</table>\n",
       "</div>"
      ],
      "text/plain": [
       "  Total without Heart Disease % in 'Excellent' Health % in 'Poor' Health  \\\n",
       "0                     232,587                  17.60%              3.18%   \n",
       "\n",
       "  % Active % Not Active % Slept 0-5 hours % Slept 6-10 hours  \\\n",
       "0   78.60%       21.40%            10.18%             88.88%   \n",
       "\n",
       "  % Slept Over 10 Hours % Never Smoked % Current Smoker % Never Used  \\\n",
       "0                 0.94%         61.17%            8.54%       77.20%   \n",
       "\n",
       "  % Daily User % Drink Alcohol % Do Not Drink Alcohol  \n",
       "0        2.48%          55.88%                 44.12%  "
      ]
     },
     "execution_count": 115,
     "metadata": {},
     "output_type": "execute_result"
    }
   ],
   "source": [
    "negativeLifestyleSummary = pd.DataFrame(\n",
    "    {\n",
    "        \"Total without Heart Disease\": [negRowCount],\n",
    "        \"% in 'Excellent' Health\": [excelGHNegPercent],\n",
    "        \"% in 'Poor' Health\": [poorGHNegPercent],\n",
    "        \"% Active\": [activeNegPercent],\n",
    "        \"% Not Active\": [notActiveNegPercent],\n",
    "        \"% Slept 0-5 hours\": [lowSleepNegPercent],\n",
    "        \"% Slept 6-10 hours\": [midSleepNegPercent],\n",
    "        \"% Slept Over 10 Hours\": [highSleepNegPercent],\n",
    "        \"% Never Smoked\": [neverNegPercent],\n",
    "        \"% Current Smoker\": [currentNegPercent],\n",
    "        \"% Never Used\": [neverEcigNegPercent],\n",
    "        \"% Daily User\": [dailyNegPercent],\n",
    "        \"% Drink Alcohol\": [drinkNegPercent],\n",
    "        \"% Do Not Drink Alcohol\": [noDrinkNegPercent]\n",
    "    }\n",
    ")\n",
    "negativeLifestyleSummary[\"Total without Heart Disease\"] = negativeLifestyleSummary[\"Total without Heart Disease\"].map(\"{:,.0f}\".format)\n",
    "negativeLifestyleSummary[\"% in 'Excellent' Health\"] = negativeLifestyleSummary[\"% in 'Excellent' Health\"].map(\"{:.2f}%\".format)\n",
    "negativeLifestyleSummary[\"% in 'Poor' Health\"] = negativeLifestyleSummary[\"% in 'Poor' Health\"].map(\"{:.2f}%\".format)\n",
    "negativeLifestyleSummary[\"% Active\"] = negativeLifestyleSummary[\"% Active\"].map(\"{:.2f}%\".format)\n",
    "negativeLifestyleSummary[\"% Not Active\"] = negativeLifestyleSummary[\"% Not Active\"].map(\"{:.2f}%\".format)\n",
    "negativeLifestyleSummary[\"% Slept 0-5 hours\"] = negativeLifestyleSummary[\"% Slept 0-5 hours\"].map(\"{:.2f}%\".format)\n",
    "negativeLifestyleSummary[\"% Slept 6-10 hours\"] = negativeLifestyleSummary[\"% Slept 6-10 hours\"].map(\"{:.2f}%\".format)\n",
    "negativeLifestyleSummary[\"% Slept Over 10 Hours\"] = negativeLifestyleSummary[\"% Slept Over 10 Hours\"].map(\"{:.2f}%\".format)\n",
    "negativeLifestyleSummary[\"% Never Smoked\"] = negativeLifestyleSummary[\"% Never Smoked\"].map(\"{:.2f}%\".format)\n",
    "negativeLifestyleSummary[\"% Current Smoker\"] = negativeLifestyleSummary[\"% Current Smoker\"].map(\"{:.2f}%\".format)\n",
    "negativeLifestyleSummary[\"% Never Used\"] = negativeLifestyleSummary[\"% Never Used\"].map(\"{:.2f}%\".format)\n",
    "negativeLifestyleSummary[\"% Daily User\"] = negativeLifestyleSummary[\"% Daily User\"].map(\"{:.2f}%\".format)\n",
    "negativeLifestyleSummary[\"% Drink Alcohol\"] = negativeLifestyleSummary[\"% Drink Alcohol\"].map(\"{:.2f}%\".format)\n",
    "negativeLifestyleSummary[\"% Do Not Drink Alcohol\"] = negativeLifestyleSummary[\"% Do Not Drink Alcohol\"].map(\"{:.2f}%\".format)   \n",
    "\n",
    "negativeLifestyleSummary"
   ]
  },
  {
   "cell_type": "markdown",
   "id": "512f4a75-91af-4070-9884-96b287f1b73b",
   "metadata": {},
   "source": [
    "## Summary"
   ]
  },
  {
   "cell_type": "markdown",
   "id": "45cbbeeb-9808-4948-87e3-f9f1b4059230",
   "metadata": {},
   "source": [
    "##### Of the 246,022 individuals in the study, 5.47% had heart disease and 94.54% did not have heart disease.\n",
    "#### General Health:\n",
    "##### Individuals without heart disease reported to be in ‘excellent’ general health nearly 4 times (3.98) more than individuals with heart disease. \n",
    "##### Individuals with heart disease reported to be in ‘poor’ general health nearly 5 times (4.74) more than individuals without heart disease.\n",
    "#### Physical Activity:\n",
    "##### Overall, individuals without heart disease were 15.23% more active than individuals with heart disease.\n",
    "#### Sleep:\n",
    "##### A majority of the individuals reported sleeping between 6-10 hours, followed by 0-5 hours, and the lowest percentage of individuals sleeping over 10 hours. The most reported sleep hours were 7 and 8 for both groups of participants.\n",
    "#### Smoking & E-Cigarette Use:\n",
    "##### The percentage of individuals with heart disease that never smoked cigarettes was lower than the percentage of individuals without heart disease that never smoked cigarettes. The percentage of current smokers was higher in individuals with heart disease.\n",
    "##### The percentage of individuals who have never used e-cigarettes was greater in those with heart disease by 1.49%.  Daily e-cigarette users were 1.16% less in individuals with heart disease than those without heart disease.\n",
    "#### Alcohol Consumption:\n",
    "##### 39.64% of individuals with heart disease reported drinking alcohol while 60.36% reported they did not consume alcohol.  55.88% of individuals without heart disease reported drinking alcohol while 44.12% reported they did not consume alcohol. \n"
   ]
  },
  {
   "cell_type": "code",
   "execution_count": null,
   "id": "3e49e5bd-7a6b-4bf9-bfd6-e37257157ea7",
   "metadata": {},
   "outputs": [],
   "source": []
  }
 ],
 "metadata": {
  "kernelspec": {
   "display_name": "Python 3 (ipykernel)",
   "language": "python",
   "name": "python3"
  },
  "language_info": {
   "codemirror_mode": {
    "name": "ipython",
    "version": 3
   },
   "file_extension": ".py",
   "mimetype": "text/x-python",
   "name": "python",
   "nbconvert_exporter": "python",
   "pygments_lexer": "ipython3",
   "version": "3.12.2"
  }
 },
 "nbformat": 4,
 "nbformat_minor": 5
}
